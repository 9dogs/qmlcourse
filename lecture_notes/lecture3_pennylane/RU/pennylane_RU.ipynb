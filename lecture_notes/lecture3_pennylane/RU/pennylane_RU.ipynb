{
 "cells": [
  {
   "cell_type": "markdown",
   "metadata": {},
   "source": [
    "# Библиотека PennyLane"
   ]
  },
  {
   "cell_type": "markdown",
   "metadata": {},
   "source": [
    "PennyLane - библиотека Python для квантового машинного обучения, которую также можно использовать и для обычных квантовых вычислений. Программы, написанные на PennyLane, можно запускать используя в качестве бэкенда настоящие квантовые компьютеры от IBM Q, Xanadu, Rgetti и т.д. либо квантовые симуляторы.\n",
    "\n",
    "Кубиты в PennyLane называются по-особому - wires (от англ. провода). Такое название, скорее всего, связано с тем, что на квантовых схемах кубиты изображаются в виде продольных линий.\n",
    "\n",
    "Последовательность квантовых операций называется квантовой функцией. Такая функция может принимать в качестве аргументов только хэшируемые объекты. В качестве возвращаемого значения выступают величины, связанные с результатами измерения: ожидаемое значение, вероятности состояний или результаты сэмплирования. \n",
    "\n",
    "Квантовая функция существует не сама по себе, она запускается на определенном устройстве - симуляторе либо настоящем квантовом компьютере. Такое устройство в PennyLane называется device."
   ]
  },
  {
   "cell_type": "markdown",
   "metadata": {},
   "source": [
    "### QNode"
   ]
  },
  {
   "cell_type": "markdown",
   "metadata": {},
   "source": [
    "Квантовые вычисления при использовании PennyLane раскладываются на отдельные узлы, которые называются QNode. Для их создания используются квантовые функции совместно с device.\n",
    "\n",
    "Создавать объекты квантовых узлов можно двумя способами - явно либо с помощью декоратора qnode.\n",
    "\n",
    "Рассмотрим первый способ - явное создание узла."
   ]
  },
  {
   "cell_type": "code",
   "execution_count": 1,
   "metadata": {},
   "outputs": [],
   "source": [
    "import pennylane as qml\n",
    "from pennylane import numpy as np"
   ]
  },
  {
   "cell_type": "code",
   "execution_count": 2,
   "metadata": {},
   "outputs": [],
   "source": [
    "dev = qml.device('default.qubit', shots=1000, wires=2, analytic=False)"
   ]
  },
  {
   "cell_type": "code",
   "execution_count": 3,
   "metadata": {},
   "outputs": [],
   "source": [
    "def make_entanglement():\n",
    "    qml.Hadamard(wires=0)\n",
    "    qml.CNOT(wires=[0, 1])\n",
    "    return qml.probs(wires=[0, 1])"
   ]
  },
  {
   "cell_type": "code",
   "execution_count": 4,
   "metadata": {},
   "outputs": [],
   "source": [
    "circuit = qml.QNode(make_entanglement, dev)"
   ]
  },
  {
   "cell_type": "code",
   "execution_count": 5,
   "metadata": {},
   "outputs": [
    {
     "data": {
      "text/plain": [
       "tensor([0.487, 0.   , 0.   , 0.513], requires_grad=False)"
      ]
     },
     "execution_count": 5,
     "metadata": {},
     "output_type": "execute_result"
    }
   ],
   "source": [
    "circuit()"
   ]
  },
  {
   "cell_type": "markdown",
   "metadata": {},
   "source": [
    "Помимо прочего, обратите внимание на то, что, работая с библиотекой PennyLane, для математических операций можно использовать интерфейс Numpy, но при этом также пользоваться преимуществами автоматической дифференциации, которую обеспечивает <a href=\"https://github.com/HIPS/autograd\">autograd</a>. \n",
    "Именно поэтому мы не импортировали Numpy обычным способом: **import numpy as np**, а сделали это таким образом:\n",
    "**from pennylane import numpy as np**.\n",
    "\n",
    "Второй способ - с помощью декоратора qnode (пропускаем импорт библиотек и создание устройства, так как вначале код тот же самый):"
   ]
  },
  {
   "cell_type": "code",
   "execution_count": 6,
   "metadata": {},
   "outputs": [],
   "source": [
    "@qml.qnode(dev)\n",
    "def circuit():\n",
    "    qml.Hadamard(wires=0)\n",
    "    qml.CNOT(wires=[0, 1])\n",
    "    return qml.probs(wires=[0, 1])"
   ]
  },
  {
   "cell_type": "code",
   "execution_count": 7,
   "metadata": {},
   "outputs": [
    {
     "name": "stdout",
     "output_type": "stream",
     "text": [
      "[0.508 0.    0.    0.492]\n"
     ]
    }
   ],
   "source": [
    "result = circuit()\n",
    "print(result)"
   ]
  },
  {
   "cell_type": "markdown",
   "metadata": {},
   "source": [
    "В данном примере мы взяли двухкубитную систему и создали запутанное состояние, а затем с помощью метода probs получили вероятности получения состояний $|00\\rangle$, $|01\\rangle$, $|10\\rangle$, $|11\\rangle$."
   ]
  },
  {
   "cell_type": "markdown",
   "metadata": {},
   "source": [
    "### Операторы"
   ]
  },
  {
   "cell_type": "markdown",
   "metadata": {},
   "source": [
    "В квантовой функции можно применять операторы X, Y, Z, S, T (qml.PauliX, qml.PauliY, qml.PauliZ, qml.S, qml.T соответственно), а также операторы, в которых можно задавать угол вращения вокруг одной из осей в радианах: qml.RX, qml.RY, qml.Z. (Здесь и далее будем использовать qml как как псевдоним библиотеки pennylane)."
   ]
  },
  {
   "cell_type": "markdown",
   "metadata": {},
   "source": [
    "В этой функции мы вращаем кубит под индексом 0 вокруг оси X на 90 градусов (из начального состояния $|0\\rangle$) и возвращаем **ожидаемое значение** qml.PauliZ для этого кубита с помощью qml.expval. Вероятности получения состояний $|0\\rangle$ и $|1\\rangle$ равны, так что мы получаем ожидаемое значение, близкое к 0, что можно проверить с помощью несложных вычислений:\n",
    "$$0.5 \\cdot 1 + 0.5 \\cdot (-1) = 0$$"
   ]
  },
  {
   "cell_type": "code",
   "execution_count": 8,
   "metadata": {},
   "outputs": [
    {
     "data": {
      "text/plain": [
       "tensor(-0.032, requires_grad=True)"
      ]
     },
     "execution_count": 8,
     "metadata": {},
     "output_type": "execute_result"
    }
   ],
   "source": [
    "@qml.qnode(dev)\n",
    "def circuit(x):\n",
    "    qml.RX(x, wires=0)\n",
    "    return qml.expval(qml.PauliZ(0))\n",
    "\n",
    "circuit(np.pi/2)"
   ]
  },
  {
   "cell_type": "markdown",
   "metadata": {},
   "source": [
    "В следующем примере мы вращаем кубит уже вокруг оси Y, но на тот же угол 90 градусов. Ожидаемое значение в этот раз ищем для qml.PauliX, и в итоге получаем 1, что соответствует вычислениям:\n",
    "$$1 \\cdot 1 + 0 \\cdot (-1) = 1$$"
   ]
  },
  {
   "cell_type": "code",
   "execution_count": 9,
   "metadata": {},
   "outputs": [
    {
     "data": {
      "text/plain": [
       "tensor(1., requires_grad=True)"
      ]
     },
     "execution_count": 9,
     "metadata": {},
     "output_type": "execute_result"
    }
   ],
   "source": [
    "@qml.qnode(dev)\n",
    "def circuit(x):\n",
    "    qml.RY(x, wires=0)\n",
    "    return qml.expval(qml.PauliX(0))\n",
    "\n",
    "circuit(np.pi/2)"
   ]
  },
  {
   "cell_type": "markdown",
   "metadata": {},
   "source": [
    "При создании устройства в начале этого урока мы получили устройство, которое создает и запускает одну и ту же схему 1000 раз, каждый раз производя измерения. Поменяем этот параметр:"
   ]
  },
  {
   "cell_type": "code",
   "execution_count": 10,
   "metadata": {},
   "outputs": [],
   "source": [
    "dev.shots = 5"
   ]
  },
  {
   "cell_type": "markdown",
   "metadata": {},
   "source": [
    "А теперь посмотрим на результат каждого из этих пяти запусков и измерений для qml.PauliZ. Квантовая схема будет простой - применим к кубиту с индексом 1 оператор Адамара:"
   ]
  },
  {
   "cell_type": "code",
   "execution_count": 11,
   "metadata": {},
   "outputs": [
    {
     "data": {
      "text/plain": [
       "array([-1,  1,  1,  1, -1], dtype=int64)"
      ]
     },
     "execution_count": 11,
     "metadata": {},
     "output_type": "execute_result"
    }
   ],
   "source": [
    "@qml.qnode(dev)\n",
    "def circuit():\n",
    "    qml.Hadamard(wires=1)\n",
    "    return qml.sample(qml.PauliZ([1]))\n",
    "\n",
    "circuit()"
   ]
  },
  {
   "cell_type": "markdown",
   "metadata": {},
   "source": [
    "Видно, что в результате мы получаем разные результаты: то 1 (что соответствует состоянию $|0\\rangle$), то -1 (состояние $|1\\rangle$)."
   ]
  },
  {
   "cell_type": "markdown",
   "metadata": {},
   "source": [
    "Если вместо qml.PauliZ брать сэмплы для qml.PauliX, то ситуация поменяется, и результат все время будет один и тот же: 1, что соответствует состоянию $|+\\rangle$ (вектор базиса Адамара). "
   ]
  },
  {
   "cell_type": "code",
   "execution_count": 12,
   "metadata": {},
   "outputs": [
    {
     "data": {
      "text/plain": [
       "array([1, 1, 1, 1, 1], dtype=int64)"
      ]
     },
     "execution_count": 12,
     "metadata": {},
     "output_type": "execute_result"
    }
   ],
   "source": [
    "@qml.qnode(dev)\n",
    "def circuit():\n",
    "    qml.Hadamard(wires=1)\n",
    "    return qml.sample(qml.PauliX([1]))\n",
    "\n",
    "circuit()"
   ]
  },
  {
   "cell_type": "code",
   "execution_count": null,
   "metadata": {},
   "outputs": [],
   "source": []
  }
 ],
 "metadata": {
  "kernelspec": {
   "display_name": "Python 3",
   "language": "python",
   "name": "python3"
  },
  "language_info": {
   "codemirror_mode": {
    "name": "ipython",
    "version": 3
   },
   "file_extension": ".py",
   "mimetype": "text/x-python",
   "name": "python",
   "nbconvert_exporter": "python",
   "pygments_lexer": "ipython3",
   "version": "3.8.5"
  }
 },
 "nbformat": 4,
 "nbformat_minor": 4
}
