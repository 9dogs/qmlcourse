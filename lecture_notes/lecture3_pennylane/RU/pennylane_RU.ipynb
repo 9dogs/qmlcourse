{
 "cells": [
  {
   "cell_type": "markdown",
   "metadata": {},
   "source": [
    "### Библиотека PennyLane"
   ]
  },
  {
   "cell_type": "markdown",
   "metadata": {},
   "source": [
    "PennyLane - библиотека Python для квантового машинного обучения, которую также можно использовать и для обычных квантовых вычислений. Программы, написанные на PennyLane, можно запускать используя в качестве бэкенда настоящие квантовые компьютеры от IBM Q, Xanadu, Rgetti и т.д. либо квантовые симуляторы.\n",
    "\n",
    "Кубиты в PennyLane называются по-особому - wires (от англ. провода). Такое название, скорее всего, связано с тем, что на квантовых схемах кубиты изображаются в виде продольных линий.\n",
    "\n",
    "Последовательность квантовых операций называется квантовой функцией. В качестве возвращаемого значения может выступать результат измерения. Квантовая функция существует не сама по себе - она запускается на квантовом устройстве, симуляторе либо настоящем квантовом компьютере. Такое устройство в PennyLane называется device. \n",
    "\n",
    "Квантовые вычисления при использовании PennyLane раскладываются на отдельные узлы, которые называются QNode. Для их создания используются квантовые функции совместно с device.\n",
    "\n",
    "Создавать объекты квантовых узлов можно двумя способами - явно либо с помощью декоратора qnode.\n",
    "\n",
    "Рассмотрим первый способ - явное создание узла."
   ]
  },
  {
   "cell_type": "code",
   "execution_count": 1,
   "metadata": {},
   "outputs": [],
   "source": [
    "import pennylane as qml\n",
    "import numpy as np"
   ]
  },
  {
   "cell_type": "code",
   "execution_count": 2,
   "metadata": {},
   "outputs": [],
   "source": [
    "dev = qml.device('default.qubit', shots=1000, wires=2, analytic=False)"
   ]
  },
  {
   "cell_type": "code",
   "execution_count": 72,
   "metadata": {},
   "outputs": [],
   "source": [
    "def make_entanglement():\n",
    "    qml.Hadamard(wires=0)\n",
    "    qml.CNOT(wires=[0, 1])\n",
    "    return qml.probs(wires=[0, 1])"
   ]
  },
  {
   "cell_type": "code",
   "execution_count": 73,
   "metadata": {},
   "outputs": [],
   "source": [
    "circuit = qml.QNode(make_entanglement, dev)"
   ]
  },
  {
   "cell_type": "code",
   "execution_count": 74,
   "metadata": {},
   "outputs": [
    {
     "data": {
      "text/plain": [
       "tensor([0.477, 0.   , 0.   , 0.523], requires_grad=False)"
      ]
     },
     "execution_count": 74,
     "metadata": {},
     "output_type": "execute_result"
    }
   ],
   "source": [
    "circuit()"
   ]
  },
  {
   "cell_type": "markdown",
   "metadata": {},
   "source": [
    "Второй способ - с помощью декоратора qnode (пропускаем импорт библиотек и создание устройства, так как вначале код тот же самый):"
   ]
  },
  {
   "cell_type": "code",
   "execution_count": 5,
   "metadata": {},
   "outputs": [],
   "source": [
    "@qml.qnode(dev)\n",
    "def circuit():\n",
    "    qml.Hadamard(wires=0)\n",
    "    qml.CNOT(wires=[0, 1])\n",
    "    return qml.probs(wires=[0, 1])"
   ]
  },
  {
   "cell_type": "code",
   "execution_count": 4,
   "metadata": {},
   "outputs": [
    {
     "name": "stdout",
     "output_type": "stream",
     "text": [
      "[0.509 0.    0.    0.491]\n"
     ]
    }
   ],
   "source": [
    "result = circuit()\n",
    "print(result)"
   ]
  },
  {
   "cell_type": "markdown",
   "metadata": {},
   "source": [
    "В данном примере мы взяли двухкубитную систему и создали запутанное состояние, а затем с помощью метода probs получили вероятности получения состояний $|00\\rangle$, $|01\\rangle$, $|10\\rangle$, $|11\\rangle$."
   ]
  },
  {
   "cell_type": "code",
   "execution_count": null,
   "metadata": {},
   "outputs": [],
   "source": []
  }
 ],
 "metadata": {
  "kernelspec": {
   "display_name": "Python 3",
   "language": "python",
   "name": "python3"
  },
  "language_info": {
   "codemirror_mode": {
    "name": "ipython",
    "version": 3
   },
   "file_extension": ".py",
   "mimetype": "text/x-python",
   "name": "python",
   "nbconvert_exporter": "python",
   "pygments_lexer": "ipython3",
   "version": "3.8.5"
  }
 },
 "nbformat": 4,
 "nbformat_minor": 4
}
