{
 "cells": [
  {
   "cell_type": "code",
   "execution_count": 1,
   "id": "81ac0c79",
   "metadata": {},
   "outputs": [
    {
     "name": "stdout",
     "output_type": "stream",
     "text": [
      "(3,)\n"
     ]
    }
   ],
   "source": [
    "import numpy as np\n",
    "a = np.array([1, 2, 3]) # создадим вектор\n",
    "print(a.shape)\n",
    "b = np.zeros((2, 2)) # создадим матричку 2х2 из нулей\n",
    "c = np.eye(3) # создадим единичную матрицу 3х3\n",
    "q = np.random.random((1, 100)) # случайную вектор-строку"
   ]
  },
  {
   "cell_type": "code",
   "execution_count": 2,
   "id": "2a31a717",
   "metadata": {},
   "outputs": [
    {
     "name": "stdout",
     "output_type": "stream",
     "text": [
      "[ 2 -1 -1]\n",
      "[-1  6 12]\n",
      "17\n"
     ]
    }
   ],
   "source": [
    "a = np.array([1, 2, 3])\n",
    "b = np.array([-1, 3, 4])\n",
    "print(a - b) # разность двух векторов\n",
    "print(a * b) # поэлементное произведение\n",
    "print(a@b)  # скалярное произведение\n"
   ]
  },
  {
   "cell_type": "code",
   "execution_count": 3,
   "id": "c176ae99",
   "metadata": {},
   "outputs": [
    {
     "name": "stdout",
     "output_type": "stream",
     "text": [
      "a_{0,1} 1 1\n",
      "a_{1,1..3} [1 2]\n",
      "a_{2} [ 8  9 10 11] [ 8  9 10 11] [ 8  9 10 11]\n",
      "[ 0  3  6  9 12 15]\n",
      "[[0 1 2 3]\n",
      " [4 5 6 7]]\n"
     ]
    }
   ],
   "source": [
    "a = np.arange(16).reshape(4, 4)\n",
    "# у нас есть массив 4х4 с числами 1..16\n",
    "\n",
    "# просто по индексам\n",
    "print(\"a_{0,1}\", a[0, 1], a[0][1])\n",
    "\n",
    "# по слайсам\n",
    "print(\"a_{1,1..3}\", a[0, 1:3])\n",
    "print(\"a_{2}\", a[2], a[2, :], a[2, ...])\n",
    "\n",
    "# по маске\n",
    "mask = (a % 3 == 0) # mask.shape == (4, 4)\n",
    "print(a[mask])\n",
    "\n",
    "first_rows = np.array([True, True, False, False])\n",
    "print(a[first_rows])"
   ]
  },
  {
   "cell_type": "code",
   "execution_count": 4,
   "id": "bb0bc1de",
   "metadata": {},
   "outputs": [
    {
     "name": "stdout",
     "output_type": "stream",
     "text": [
      "(4, 4)\n",
      "(1, 4, 4)\n",
      "(4, 4, 1)\n",
      "[ 8  9 10 11]\n",
      "[ 8  9 10 11]\n",
      "[[ 0  1  2  3]\n",
      " [ 4  5  6  7]\n",
      " [ 8  9 10 11]\n",
      " [12 13 14 15]] [[ 0  1  2  3]\n",
      " [ 4  5  6  7]\n",
      " [ 8  9 10 11]\n",
      " [12 13 14 15]]\n",
      "[1 4 7] [1 4 7]\n"
     ]
    }
   ],
   "source": [
    "# None добавляет ось размерности 1\n",
    "print(a.shape)\n",
    "print(a[None].shape)\n",
    "print(a[:, :, None].shape)\n",
    "\n",
    "# : превращается в slice (None), берет все элементы вдоль размерности\n",
    "print(a[2, :])\n",
    "print(a[2, 0:None])\n",
    "\n",
    "\n",
    "# ... ellipsis, превращается в необходимое число двоеточий :,:,:\n",
    "\n",
    "print(a[...], a) # одно и то же\n",
    "\n",
    "z = np.arange(27).reshape(3, 3, 3)\n",
    "print(z[0, ..., 1], z[0, :, 1]) # ... удобен когда мы не знаем настоящий шейп массива или нужно не трогать несколько подряд идущих размерностей"
   ]
  },
  {
   "cell_type": "code",
   "execution_count": 5,
   "id": "5cfd579b",
   "metadata": {},
   "outputs": [
    {
     "name": "stdout",
     "output_type": "stream",
     "text": [
      "(array([0, 1]),)\n",
      "[ 2  2 12 16]\n",
      "[[1 1 2 1]\n",
      " [0 1 3 1]]\n"
     ]
    }
   ],
   "source": [
    "# создадим вектор\n",
    "a = np.array([2, 4, 6, 8])\n",
    "print(np.where(a < 5))\n",
    "\n",
    "# дополнительно мы можем передать два значения или вектора, при выполнении условия выбираются элементы из первого значения/вектора, при невыполнении - из второго\n",
    "print(np.where(a < 5, 2, a * 2))\n",
    "\n",
    "# np.where работает и с многомерными массивами\n",
    "a = np.array([[8, 8, 2, 6], [0, 5, 3, 4]])\n",
    "print(np.where(a < 4, a, 1))"
   ]
  },
  {
   "cell_type": "code",
   "execution_count": 6,
   "id": "acecbddd",
   "metadata": {},
   "outputs": [
    {
     "name": "stdout",
     "output_type": "stream",
     "text": [
      "[2 4 6]\n"
     ]
    }
   ],
   "source": [
    "a = np.array([1, 2, 3])\n",
    "k = 2\n",
    "print(a * k)"
   ]
  },
  {
   "cell_type": "code",
   "execution_count": 7,
   "id": "14fe70f6",
   "metadata": {},
   "outputs": [
    {
     "name": "stdout",
     "output_type": "stream",
     "text": [
      "[-1  0  1]\n"
     ]
    }
   ],
   "source": [
    "a = np.array([1, 2, 3])\n",
    "k = 2\n",
    "print(a - k)"
   ]
  },
  {
   "cell_type": "code",
   "execution_count": 8,
   "id": "8579879f",
   "metadata": {},
   "outputs": [
    {
     "name": "stdout",
     "output_type": "stream",
     "text": [
      "True\n",
      "0.1 0.099975586 0.0999755859375\n",
      "0.1 0.1 0.1\n",
      "False\n"
     ]
    }
   ],
   "source": [
    "f16 = np.float16(\"0.1\")\n",
    "f32 = np.float32(f16)\n",
    "f64 = np.float64(f32)\n",
    "print(f16 == f32 == f64) # returns True\n",
    "print(f16, f32, f64) # shows (0.1, 0.099975586, 0.0999755859375)\n",
    "\n",
    "\n",
    "f16 = np.float16(\"0.1\")\n",
    "f32 = np.float32(\"0.1\")\n",
    "f64 = np.float64(\"0.1\")\n",
    "print(f16, f32, f64) # look similar\n",
    "print(f16 == f32 == f64) # returns false\n"
   ]
  },
  {
   "cell_type": "code",
   "execution_count": 9,
   "id": "178bb956",
   "metadata": {},
   "outputs": [
    {
     "name": "stdout",
     "output_type": "stream",
     "text": [
      "False\n",
      "True\n"
     ]
    }
   ],
   "source": [
    "print(np.allclose([1e10,1e-7], [1.00001e10,1e-8])) # returns False\n",
    "print(np.allclose([1e10,1e-8], [1.00001e10,1e-9])) # returns True"
   ]
  },
  {
   "cell_type": "code",
   "execution_count": 10,
   "id": "ef56c458",
   "metadata": {},
   "outputs": [
    {
     "name": "stdout",
     "output_type": "stream",
     "text": [
      "[ 1.4 -1.2]\n"
     ]
    }
   ],
   "source": [
    "a = np.array([[7, 4], [9, 8]])\n",
    "b = np.array([5, 3])\n",
    "print(np.linalg.solve(a, b)) # array([ 1.4, -1.2])"
   ]
  },
  {
   "cell_type": "code",
   "execution_count": 11,
   "id": "a1b7e384",
   "metadata": {},
   "outputs": [
    {
     "name": "stdout",
     "output_type": "stream",
     "text": [
      "[[-2.   1. ]\n",
      " [ 1.5 -0.5]]\n"
     ]
    }
   ],
   "source": [
    "a = np.array([[1., 2.], [3., 4.]])\n",
    "print(np.linalg.inv(a)) # array([[-2. ,  1. ], [ 1.5, -0.5]])"
   ]
  },
  {
   "cell_type": "code",
   "execution_count": 12,
   "id": "8f866062",
   "metadata": {},
   "outputs": [
    {
     "name": "stdout",
     "output_type": "stream",
     "text": [
      "(array([1., 2., 3.]), array([[1., 0., 0.],\n",
      "       [0., 1., 0.],\n",
      "       [0., 0., 1.]]))\n"
     ]
    }
   ],
   "source": [
    "print(np.linalg.eig(np.diag((1, 2, 3))))"
   ]
  }
 ],
 "metadata": {
  "jupytext": {
   "formats": "md:myst",
   "text_representation": {
    "extension": ".md",
    "format_name": "myst"
   }
  },
  "kernelspec": {
   "display_name": "Python 3",
   "language": "python",
   "name": "python3"
  },
  "language_info": {
   "codemirror_mode": {
    "name": "ipython",
    "version": 3
   },
   "file_extension": ".py",
   "mimetype": "text/x-python",
   "name": "python",
   "nbconvert_exporter": "python",
   "pygments_lexer": "ipython3",
   "version": "3.8.12"
  },
  "source_map": [
   11,
   24,
   31,
   38,
   45,
   52,
   69,
   73,
   90,
   96,
   107,
   114,
   118,
   123,
   127,
   150,
   164,
   167,
   170,
   183,
   187,
   193,
   196,
   202,
   204
  ]
 },
 "nbformat": 4,
 "nbformat_minor": 5
}