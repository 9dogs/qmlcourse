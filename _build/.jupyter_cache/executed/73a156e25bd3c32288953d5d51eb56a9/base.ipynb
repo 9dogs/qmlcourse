{
 "cells": [
  {
   "cell_type": "code",
   "execution_count": 1,
   "id": "0564f025",
   "metadata": {},
   "outputs": [],
   "source": [
    "c = 299_792_458 # запишем константу, м/с\n",
    "m = 0.5 # масса некоторого абстрактного объекта, кг\n",
    "E = m * (c ** 2) # вычисляем энергию, Дж\n",
    "\n",
    "some_variable_1 = 10.2 # какая-то другая переменная\n",
    "m = 12"
   ]
  },
  {
   "cell_type": "code",
   "execution_count": 2,
   "id": "78944bbd",
   "metadata": {},
   "outputs": [
    {
     "name": "stdout",
     "output_type": "stream",
     "text": [
      "<class 'int'>\n",
      "<class 'float'>\n",
      "12.9 12 12.0\n"
     ]
    }
   ],
   "source": [
    "first_variable = 10\n",
    "second_variable = 10.0\n",
    "\n",
    "# запишем в переменные значения типов данных\n",
    "type_of_first_variable = type(first_variable)\n",
    "type_of_second_variable = type(second_variable)\n",
    "\n",
    "# и распечатаем сами типы, чтобы посмотреть глазами и сравнить\n",
    "print(type_of_first_variable)\n",
    "print(type_of_second_variable)\n",
    "\n",
    "# перезапишем переменные\n",
    "first_variable = 12.9\n",
    "second_variable = int(first_variable)\n",
    "third_variable = float(second_variable)\n",
    "\n",
    "# в print() можно передавать несколько переменных \n",
    "print(first_variable, second_variable, third_variable)"
   ]
  },
  {
   "cell_type": "code",
   "execution_count": 3,
   "id": "8efee45f",
   "metadata": {},
   "outputs": [
    {
     "name": "stdout",
     "output_type": "stream",
     "text": [
      "<class 'float'>\n",
      "<class 'int'>\n",
      "1.0\n",
      "1.0\n",
      "1.0\n",
      "3.0\n"
     ]
    }
   ],
   "source": [
    "a = 3\n",
    "b = 12.1\n",
    "\n",
    "c = a + b\n",
    "\n",
    "# можно объединять вызовы функций print и type \n",
    "# без создания лишней переменной\n",
    "print(type(c))\n",
    "\n",
    "# и даже трёх функций, включая приведение типа\n",
    "print(type(int(c)))\n",
    "\n",
    "# деление числа на само себя даёт единицу, но..\n",
    "print(a / a)\n",
    "print(b / b)\n",
    "print(c / c)\n",
    "print(12 / 4)"
   ]
  },
  {
   "cell_type": "code",
   "execution_count": 4,
   "id": "83b7786e",
   "metadata": {},
   "outputs": [
    {
     "name": "stdout",
     "output_type": "stream",
     "text": [
      "5 <class 'int'>\n",
      "6 <class 'int'>\n",
      "9 <class 'int'>\n"
     ]
    }
   ],
   "source": [
    "a = 3\n",
    "b = 2\n",
    "\n",
    "print(a + b, type(a + b))\n",
    "print(a * b, type(a * b))\n",
    "print(a ** b, type(a ** b))"
   ]
  },
  {
   "cell_type": "code",
   "execution_count": 5,
   "id": "d16fb09a",
   "metadata": {},
   "outputs": [
    {
     "name": "stdout",
     "output_type": "stream",
     "text": [
      "5 <class 'int'>\n",
      "6 <class 'int'>\n",
      "9 <class 'int'>\n"
     ]
    }
   ],
   "source": [
    "a=            3\n",
    "b    =2\n",
    "\n",
    "print(a +b, type(a+ b))\n",
    "print(a     * b, type(a *b))\n",
    "print(a**b, type(a        ** b))"
   ]
  }
 ],
 "metadata": {
  "jupytext": {
   "formats": "md:myst",
   "text_representation": {
    "extension": ".md",
    "format_name": "myst"
   }
  },
  "kernelspec": {
   "display_name": "Python 3",
   "language": "python",
   "name": "python3"
  },
  "language_info": {
   "codemirror_mode": {
    "name": "ipython",
    "version": 3
   },
   "file_extension": ".py",
   "mimetype": "text/x-python",
   "name": "python",
   "nbconvert_exporter": "python",
   "pygments_lexer": "ipython3",
   "version": "3.8.11"
  },
  "source_map": [
   11,
   32,
   39,
   69,
   88,
   96,
   114,
   119,
   126,
   131
  ]
 },
 "nbformat": 4,
 "nbformat_minor": 5
}