{
 "cells": [
  {
   "cell_type": "code",
   "execution_count": 1,
   "id": "5050344e",
   "metadata": {},
   "outputs": [],
   "source": [
    "import matplotlib.pyplot as plt\n",
    "import numpy as np\n",
    "import networkx as nx\n",
    "from scipy import sparse\n",
    "from scipy.sparse import linalg as sl"
   ]
  },
  {
   "cell_type": "code",
   "execution_count": 2,
   "id": "a597960e",
   "metadata": {},
   "outputs": [],
   "source": [
    "np.random.seed(42)\n",
    "rand_mat = np.random.randint(0, 100, (4, 4))"
   ]
  },
  {
   "cell_type": "code",
   "execution_count": 3,
   "id": "3af7dbd1",
   "metadata": {},
   "outputs": [],
   "source": [
    "rand_adj = (rand_mat + rand_mat.T) / 2\n",
    "np.fill_diagonal(rand_adj, 0)"
   ]
  },
  {
   "cell_type": "code",
   "execution_count": 4,
   "id": "ba22b5a1",
   "metadata": {},
   "outputs": [
    {
     "data": {
      "image/png": "[encoded data removed]",
      "text/plain": [
       "<Figure size 432x288 with 1 Axes>"
      ]
     },
     "metadata": {},
     "output_type": "display_data"
    }
   ],
   "source": [
    "g = nx.Graph(rand_adj)\n",
    "\n",
    "pos = nx.drawing.layout.random_layout(g, seed=42)\n",
    "nx.draw(g, pos=pos)\n",
    "edge_weights = nx.get_edge_attributes(g, \"weight\")\n",
    "nx.draw_networkx_edge_labels(g, pos=pos, edge_labels=edge_weights)\n",
    "nx.draw_networkx_labels(g, pos=pos)\n",
    "plt.show()"
   ]
  },
  {
   "cell_type": "code",
   "execution_count": 5,
   "id": "280ecb6c",
   "metadata": {},
   "outputs": [
    {
     "name": "stdout",
     "output_type": "stream",
     "text": [
      "NetworkX solution (nodes order):\n",
      "[0, 3, 1, 2, 0]\n",
      "NetworkX solution (total cost): 213.0\n"
     ]
    }
   ],
   "source": [
    "nx_solution = nx.algorithms.approximation.traveling_salesman_problem(g)\n",
    "nx_solution_cost = 0\n",
    "\n",
    "for i in range(len(nx_solution) - 1):\n",
    "    nx_solution_cost += g.get_edge_data(nx_solution[i], nx_solution[i + 1])[\"weight\"]\n",
    "\n",
    "print(\"NetworkX solution (nodes order):\")\n",
    "print(nx_solution)\n",
    "print(f\"NetworkX solution (total cost): {nx_solution_cost}\")"
   ]
  },
  {
   "cell_type": "code",
   "execution_count": 6,
   "id": "92906765",
   "metadata": {},
   "outputs": [],
   "source": [
    "def sigma_z_mod(k: int, size: int):\n",
    "    sz_mod = sparse.coo_matrix(\n",
    "        [\n",
    "            [1, 0,],\n",
    "            [0, 0,],\n",
    "        ]\n",
    "    )\n",
    "\n",
    "    left_ith = sparse.eye(2 ** k, format=\"coo\")\n",
    "    right_ith = sparse.eye(2 ** (size - k - 1), format=\"coo\")\n",
    "\n",
    "    return sparse.kron(\n",
    "        sparse.kron(left_ith, sz_mod),\n",
    "        right_ith,\n",
    "    )"
   ]
  },
  {
   "cell_type": "code",
   "execution_count": 7,
   "id": "b038fdc2",
   "metadata": {},
   "outputs": [
    {
     "name": "stdout",
     "output_type": "stream",
     "text": [
      "[0. 1.]\n"
     ]
    }
   ],
   "source": [
    "eigs = np.linalg.eig(sigma_z_mod(1, 3).toarray())\n",
    "print(np.unique(eigs[0]))"
   ]
  },
  {
   "cell_type": "code",
   "execution_count": 8,
   "id": "1152db8e",
   "metadata": {},
   "outputs": [
    {
     "name": "stdout",
     "output_type": "stream",
     "text": [
      "Eigenvalue: 1.0\tBit string: 000\n",
      "Eigenvalue: 1.0\tBit string: 001\n",
      "Eigenvalue: 0.0\tBit string: 010\n",
      "Eigenvalue: 0.0\tBit string: 011\n",
      "Eigenvalue: 1.0\tBit string: 100\n",
      "Eigenvalue: 1.0\tBit string: 101\n",
      "Eigenvalue: 0.0\tBit string: 110\n",
      "Eigenvalue: 0.0\tBit string: 111\n"
     ]
    }
   ],
   "source": [
    "def sigmaz_k(k: int, n: int) -> sparse.csr_matrix:\n",
    "    left_part = sparse.eye(2 ** k)\n",
    "    right_part = sparse.eye(2 ** (n - 1 - k))\n",
    "\n",
    "    return sparse.kron(\n",
    "        sparse.kron(\n",
    "            left_part,\n",
    "            sparse.csr_matrix(np.array([[1, 0,], [0, -1,],]))\n",
    "        ),\n",
    "        right_part\n",
    "    )\n",
    "\n",
    "def probs2bit_str(probs: np.array) -> str:\n",
    "    size = int(np.log2(probs.shape[0]))\n",
    "    bit_s_num = np.where(probs == probs.max())[0][0]\n",
    "    s = f\"{bit_s_num:b}\"\n",
    "    s = \"0\" * (size - len(s)) + s\n",
    "\n",
    "    return s\n",
    "\n",
    "for i, psi in enumerate(eigs[1]):\n",
    "    probs = psi * psi.conj()\n",
    "    bit_s = probs2bit_str(probs)\n",
    "    print(f\"Eigenvalue: {eigs[0][i]}\\tBit string: {bit_s}\")"
   ]
  },
  {
   "cell_type": "code",
   "execution_count": 9,
   "id": "40bdbac4",
   "metadata": {},
   "outputs": [
    {
     "name": "stdout",
     "output_type": "stream",
     "text": [
      "Sigma z_mod:\n",
      "[[1. 0. 0. 0. 0. 0. 0. 0.]\n",
      " [0. 1. 0. 0. 0. 0. 0. 0.]\n",
      " [0. 0. 1. 0. 0. 0. 0. 0.]\n",
      " [0. 0. 0. 1. 0. 0. 0. 0.]\n",
      " [0. 0. 0. 0. 1. 0. 0. 0.]\n",
      " [0. 0. 0. 0. 0. 1. 0. 0.]\n",
      " [0. 0. 0. 0. 0. 0. 1. 0.]\n",
      " [0. 0. 0. 0. 0. 0. 0. 1.]]\n",
      "Sigma z:\n",
      "[[1. 0. 0. 0. 0. 0. 0. 0.]\n",
      " [0. 1. 0. 0. 0. 0. 0. 0.]\n",
      " [0. 0. 1. 0. 0. 0. 0. 0.]\n",
      " [0. 0. 0. 1. 0. 0. 0. 0.]\n",
      " [0. 0. 0. 0. 1. 0. 0. 0.]\n",
      " [0. 0. 0. 0. 0. 1. 0. 0.]\n",
      " [0. 0. 0. 0. 0. 0. 1. 0.]\n",
      " [0. 0. 0. 0. 0. 0. 0. 1.]]\n"
     ]
    }
   ],
   "source": [
    "print(\"Sigma z_mod:\")\n",
    "print(eigs[1])\n",
    "\n",
    "print(\"Sigma z:\")\n",
    "print(np.linalg.eig(sigmaz_k(1, 3).toarray())[1])"
   ]
  },
  {
   "cell_type": "code",
   "execution_count": 10,
   "id": "124fd67d",
   "metadata": {},
   "outputs": [],
   "source": [
    "def convert_tsp_to_ising(g: nx.Graph) -> sparse.coo_matrix:\n",
    "    # У нас два элемента гамильтониана:\n",
    "    #   - часть, дающая нам Гамилтонов цикл\n",
    "    #   - часть, считающая стоимость пути\n",
    "    # Для нас важно, чтобы вес первой части превалирвал.\n",
    "    # Поэтому, в качестве коэффициента мы берем\n",
    "    # пятикратное значение максимального веса ребер в графе.\n",
    "\n",
    "    a = 5 * max([e[2][\"weight\"] for e in g.edges(data=True)])\n",
    "    size = g.number_of_nodes() - 1\n",
    "\n",
    "    H = sparse.coo_matrix((2 ** (size ** 2), 2 ** (size ** 2)), dtype=np.complex)\n",
    "\n",
    "    # Вычисляем сумму по колонкам:\n",
    "    #   - каждая вершина должна быть в каждой колонке строго один раз\n",
    "    for i in range(size):\n",
    "        # Считаем выражение 1 - sum\n",
    "        col_sum = sparse.eye(2 ** (size ** 2), format=\"coo\")\n",
    "        for j in range(size):\n",
    "            col_sum -= sigma_z_mod(i + j * size, size ** 2)\n",
    "\n",
    "        # Возводим в квадрат и добавляем к гамилтониану\n",
    "        H += a * col_sum * col_sum\n",
    "\n",
    "    # Вычисляем сумму по строкам:\n",
    "    #   - каждая вершина должна быть в каждой строке строго один раз\n",
    "    for j in range(size):\n",
    "        row_sum = sparse.eye(2 ** (size ** 2), format=\"coo\")\n",
    "        for i in range(size):\n",
    "            row_sum -= sigma_z_mod(i + j * size, size ** 2)\n",
    "\n",
    "        # Аналогично, в квадрат и добавляем\n",
    "        H += a * row_sum * row_sum\n",
    "\n",
    "    # Считаем сумму по тем ребрам, которых в графе нет и тем, которые есть.\n",
    "    for i in range(size):\n",
    "        for j in range(size):\n",
    "            if g.has_edge(i + 1, j + 1):\n",
    "                # Сумма по всем ребрам графа\n",
    "                coef = g.get_edge_data(i + 1, j + 1)[\"weight\"]\n",
    "            else:\n",
    "                # Сумма по всем отсутствующим ребрам графа\n",
    "                coef = a\n",
    "\n",
    "            for k in range(size - 1):\n",
    "                # Дальше просто используем полученный коэффициент и считаем сумму\n",
    "                H += (\n",
    "                    coef\n",
    "                    * sigma_z_mod(i + k * size, size ** 2)\n",
    "                    * sigma_z_mod(j + (k + 1) * size, size ** 2)\n",
    "                )\n",
    "\n",
    "            H += (\n",
    "                coef\n",
    "                * sigma_z_mod(i + (size - 1) * size, size ** 2)\n",
    "                * sigma_z_mod(j, size ** 2)\n",
    "            )\n",
    "\n",
    "    # Мы всегда начинаем из нулевой вершины, это позволяет нам снизить число необходимых кубитов.\n",
    "    # Но теперь мы должны добавить в гамильтониан слагаемое, отвечающее за нулевую вершину в пути.\n",
    "    for j in range(size):\n",
    "        if g.has_edge(0, j + 1):\n",
    "            coef = g.get_edge_data(0, j + 1)[\"weight\"]\n",
    "        else:\n",
    "            coef = a\n",
    "\n",
    "        H += coef * sigma_z_mod(j, size ** 2)\n",
    "        H += coef * sigma_z_mod(j + (size - 1) * size, size ** 2)\n",
    "\n",
    "    # PennyLane работает с матрицами только в координатном формате, поэтому сразу делаем приведение.\n",
    "    return sparse.coo_matrix(H)"
   ]
  },
  {
   "cell_type": "code",
   "execution_count": 11,
   "id": "dc7691c4",
   "metadata": {},
   "outputs": [
    {
     "name": "stdout",
     "output_type": "stream",
     "text": [
      "Ground state energy: 273.0000-0.0000j\n",
      "SciPy solution (nodes order):\n",
      "[0, 2, 1, 3, 0]\n",
      "SciPy solution (total cost): 213.0\n"
     ]
    }
   ],
   "source": [
    "op = convert_tsp_to_ising(g)\n",
    "scipy_solution = sl.eigs(op, k=1, which=\"SR\", return_eigenvectors=True)\n",
    "print(f\"Ground state energy: {scipy_solution[0][0]:.4f}\")\n",
    "\n",
    "probs = scipy_solution[1] * scipy_solution[1].conj()\n",
    "bit_s = probs2bit_str(probs)\n",
    "\n",
    "# Нулевая вершина всегда первая\n",
    "scipy_path = [0,]\n",
    "\n",
    "for i in range(3):\n",
    "    k = 0\n",
    "    for j in range(3):\n",
    "        if bit_s[j + i * 3] == \"0\":\n",
    "            k = j + 1\n",
    "    scipy_path.append(k)\n",
    "scipy_path.append(0)\n",
    "\n",
    "scipy_solution_cost = 0\n",
    "for i in range(len(scipy_path) - 1):\n",
    "    scipy_solution_cost += g.get_edge_data(scipy_path[i], scipy_path[i + 1])[\"weight\"]\n",
    "\n",
    "print(\"SciPy solution (nodes order):\")\n",
    "print(scipy_path)\n",
    "print(f\"SciPy solution (total cost): {scipy_solution_cost}\")"
   ]
  },
  {
   "cell_type": "code",
   "execution_count": 12,
   "id": "98b78962",
   "metadata": {},
   "outputs": [],
   "source": [
    "import pennylane as qml\n",
    "\n",
    "numer_stability_const = 0.1\n",
    "ham = qml.SparseHamiltonian(op * numer_stability_const, wires=list(range(9)))"
   ]
  },
  {
   "cell_type": "code",
   "execution_count": 13,
   "id": "f0a4ac69",
   "metadata": {},
   "outputs": [],
   "source": [
    "size = len(ham.wires)\n",
    "\n",
    "def layer(params):\n",
    "    for i in range(size):\n",
    "        qml.RY(params[i][0], wires=i)\n",
    "        qml.RZ(params[i][1], wires=i)\n",
    "\n",
    "    for i in range(size - 1):\n",
    "        qml.CZ(wires=[i, i + 1])"
   ]
  },
  {
   "cell_type": "code",
   "execution_count": 14,
   "id": "6c7d731f",
   "metadata": {},
   "outputs": [],
   "source": [
    "device = qml.device(\"default.qubit\", wires=size)\n",
    "num_layers = 3\n",
    "\n",
    "@qml.qnode(device, diff_method=\"parameter-shift\")\n",
    "def feed_forward(params, wires=size):\n",
    "    for k in range(3):\n",
    "        layer(params[k])\n",
    "\n",
    "    for i in range(size):\n",
    "        qml.RY(params[-1][i][0], wires=i)\n",
    "        qml.RZ(params[-1][i][1], wires=i)\n",
    "\n",
    "    return qml.expval(ham)"
   ]
  },
  {
   "cell_type": "code",
   "execution_count": 15,
   "id": "9da391b2",
   "metadata": {},
   "outputs": [],
   "source": [
    "opt = qml.MomentumOptimizer()\n",
    "params = tuple(\n",
    "    tuple(\n",
    "        (\n",
    "            np.random.rand() * 2 * np.pi,\n",
    "            np.random.rand() * 2 * np.pi,\n",
    "        )\n",
    "        for _ in range(size)\n",
    "    )\n",
    "    for _ in range(num_layers + 1)\n",
    ")"
   ]
  },
  {
   "cell_type": "code",
   "execution_count": 16,
   "id": "4626dd4b",
   "metadata": {},
   "outputs": [
    {
     "name": "stdout",
     "output_type": "stream",
     "text": [
      "epoch: 0\tenergy: 360.638506\n"
     ]
    },
    {
     "name": "stdout",
     "output_type": "stream",
     "text": [
      "epoch: 5\tenergy: 163.172963\n"
     ]
    },
    {
     "name": "stdout",
     "output_type": "stream",
     "text": [
      "epoch: 10\tenergy: 96.375950\n"
     ]
    },
    {
     "name": "stdout",
     "output_type": "stream",
     "text": [
      "epoch: 15\tenergy: 56.524352\n"
     ]
    },
    {
     "name": "stdout",
     "output_type": "stream",
     "text": [
      "epoch: 20\tenergy: 43.497589\n"
     ]
    },
    {
     "name": "stdout",
     "output_type": "stream",
     "text": [
      "epoch: 25\tenergy: 35.938162\n"
     ]
    },
    {
     "name": "stdout",
     "output_type": "stream",
     "text": [
      "epoch: 30\tenergy: 31.882151\n"
     ]
    },
    {
     "name": "stdout",
     "output_type": "stream",
     "text": [
      "epoch: 35\tenergy: 29.457526\n"
     ]
    },
    {
     "name": "stdout",
     "output_type": "stream",
     "text": [
      "epoch: 40\tenergy: 29.232270\n"
     ]
    },
    {
     "name": "stdout",
     "output_type": "stream",
     "text": [
      "epoch: 45\tenergy: 28.058306\n"
     ]
    },
    {
     "name": "stdout",
     "output_type": "stream",
     "text": [
      "epoch: 50\tenergy: 27.814023\n"
     ]
    },
    {
     "name": "stdout",
     "output_type": "stream",
     "text": [
      "epoch: 55\tenergy: 27.495886\n"
     ]
    },
    {
     "name": "stdout",
     "output_type": "stream",
     "text": [
      "epoch: 60\tenergy: 27.479515\n"
     ]
    },
    {
     "name": "stdout",
     "output_type": "stream",
     "text": [
      "epoch: 65\tenergy: 27.411348\n"
     ]
    },
    {
     "name": "stdout",
     "output_type": "stream",
     "text": [
      "epoch: 70\tenergy: 27.348231\n"
     ]
    },
    {
     "name": "stdout",
     "output_type": "stream",
     "text": [
      "epoch: 75\tenergy: 27.329692\n"
     ]
    },
    {
     "name": "stdout",
     "output_type": "stream",
     "text": [
      "epoch: 80\tenergy: 27.324815\n"
     ]
    }
   ],
   "source": [
    "energy = [\n",
    "    feed_forward(params),\n",
    "]\n",
    "\n",
    "for epoch in range(85):\n",
    "    params, e = opt.step_and_cost(feed_forward, params)\n",
    "    energy.append(e)\n",
    "\n",
    "    if epoch % 5 == 0:\n",
    "        print(f\"epoch: {epoch}\\tenergy: {e:.6f}\")"
   ]
  },
  {
   "cell_type": "code",
   "execution_count": 17,
   "id": "ed9cb410",
   "metadata": {},
   "outputs": [
    {
     "data": {
      "image/png": "[encoded data removed]",
      "text/plain": [
       "<Figure size 720x576 with 1 Axes>"
      ]
     },
     "metadata": {
      "needs_background": "light"
     },
     "output_type": "display_data"
    }
   ],
   "source": [
    "plt.figure(figsize=(10, 8))\n",
    "plt.plot(np.arange(len(energy)), energy, \".-\", label=\"Energy by epochs\")\n",
    "plt.hlines(\n",
    "    np.real(scipy_solution[0][0]) * numer_stability_const,\n",
    "    0,\n",
    "    len(energy),\n",
    "    color=\"red\",\n",
    "    label=\"Exact solution\",\n",
    ")\n",
    "plt.xlabel(\"Epoch\")\n",
    "plt.ylabel(\"Energy\")\n",
    "plt.legend()\n",
    "plt.show()"
   ]
  },
  {
   "cell_type": "code",
   "execution_count": 18,
   "id": "c17c6b22",
   "metadata": {},
   "outputs": [
    {
     "name": "stdout",
     "output_type": "stream",
     "text": [
      "Quantum solution (nodes order):\n",
      "[0, 2, 1, 3, 0]\n",
      "Quantum solution (total cost): 213.0\n"
     ]
    }
   ],
   "source": [
    "@qml.qnode(device, diff_method=\"parameter-shift\")\n",
    "def answer(params, wires=size):\n",
    "    for k in range(num_layers):\n",
    "        layer(params[k])\n",
    "\n",
    "    for i in range(size):\n",
    "        qml.RY(params[-1][i][0], wires=i)\n",
    "        qml.RZ(params[-1][i][1], wires=i)\n",
    "\n",
    "    return qml.probs(wires=list(range(size)))\n",
    "\n",
    "probs = answer(params)\n",
    "bit_s = probs2bit_str(probs)\n",
    "\n",
    "# Нулевая вершина всегда первая\n",
    "q_path = [0,]\n",
    "\n",
    "for i in range(3):\n",
    "    k = 0\n",
    "    for j in range(3):\n",
    "        if bit_s[j + i * 3] == \"0\":\n",
    "            k = j + 1\n",
    "    q_path.append(k)\n",
    "q_path.append(0)\n",
    "\n",
    "q_solution_cost = 0\n",
    "for i in range(len(q_path) - 1):\n",
    "    q_solution_cost += g.get_edge_data(q_path[i], q_path[i + 1])[\"weight\"]\n",
    "\n",
    "print(\"Quantum solution (nodes order):\")\n",
    "print(q_path)\n",
    "print(f\"Quantum solution (total cost): {q_solution_cost}\")"
   ]
  }
 ],
 "metadata": {
  "jupytext": {
   "formats": "md:myst",
   "text_representation": {
    "extension": ".md",
    "format_name": "myst"
   }
  },
  "kernelspec": {
   "display_name": "Python 3",
   "language": "python",
   "name": "python3"
  },
  "language_info": {
   "codemirror_mode": {
    "name": "ipython",
    "version": 3
   },
   "file_extension": ".py",
   "mimetype": "text/x-python",
   "name": "python",
   "nbconvert_exporter": "python",
   "pygments_lexer": "ipython3",
   "version": "3.8.12"
  },
  "source_map": [
   11,
   20,
   26,
   36,
   39,
   43,
   46,
   50,
   59,
   65,
   75,
   79,
   95,
   99,
   102,
   106,
   131,
   139,
   145,
   165,
   237,
   241,
   267,
   283,
   288,
   309,
   319,
   325,
   339,
   343,
   355,
   363,
   376,
   390,
   394,
   427
  ]
 },
 "nbformat": 4,
 "nbformat_minor": 5
}