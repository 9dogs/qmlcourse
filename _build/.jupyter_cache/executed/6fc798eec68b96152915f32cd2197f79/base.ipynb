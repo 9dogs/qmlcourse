{
 "cells": [
  {
   "cell_type": "code",
   "execution_count": 1,
   "id": "0cafb341",
   "metadata": {},
   "outputs": [],
   "source": [
    "import pennylane as qml\n",
    "from pennylane import numpy as np\n",
    "import numpy as np\n",
    "\n",
    "dev = qml.device('default.qubit', shots=1, wires=2)"
   ]
  },
  {
   "cell_type": "code",
   "execution_count": 2,
   "id": "7f2448ba",
   "metadata": {},
   "outputs": [],
   "source": [
    "def f1():\n",
    "    pass\n",
    "\n",
    "def f2():\n",
    "    qml.PauliX(wires=[1])\n",
    "\n",
    "def f3():\n",
    "    qml.CNOT(wires=[0, 1])\n",
    "\n",
    "def f4():\n",
    "    qml.PauliX(wires=0)\n",
    "    qml.CNOT(wires=[0, 1])\n",
    "    qml.PauliX(wires=0)"
   ]
  },
  {
   "cell_type": "code",
   "execution_count": 3,
   "id": "f12627d4",
   "metadata": {},
   "outputs": [],
   "source": [
    "black_boxes_dict = {'f1': f1, 'f2': f2, 'f3': f3, 'f4': f4}"
   ]
  },
  {
   "cell_type": "code",
   "execution_count": 4,
   "id": "f177235f",
   "metadata": {},
   "outputs": [],
   "source": [
    "def random_black_box():\n",
    "    black_boxes = ['f1', 'f2', 'f3', 'f4']\n",
    "    n = np.random.randint(0, 4)\n",
    "    return black_boxes[n]"
   ]
  },
  {
   "cell_type": "code",
   "execution_count": 5,
   "id": "662a587e",
   "metadata": {},
   "outputs": [],
   "source": [
    "@qml.qnode(dev)\n",
    "def circuit(black_boxe_name):\n",
    "    qml.Hadamard(wires=0)\n",
    "    qml.PauliX(wires=1)\n",
    "    qml.Hadamard(wires=1)\n",
    "    black_boxes_dict[black_box_name]()\n",
    "    qml.Hadamard(wires=0)\n",
    "    return qml.sample(qml.PauliZ([0]))"
   ]
  },
  {
   "cell_type": "code",
   "execution_count": 6,
   "id": "ef67408e",
   "metadata": {},
   "outputs": [],
   "source": [
    "black_box_name = random_black_box()"
   ]
  },
  {
   "cell_type": "code",
   "execution_count": 7,
   "id": "8e8991fa",
   "metadata": {},
   "outputs": [
    {
     "name": "stdout",
     "output_type": "stream",
     "text": [
      "1\n"
     ]
    }
   ],
   "source": [
    "result = circuit(black_box_name)\n",
    "print(result)"
   ]
  },
  {
   "cell_type": "code",
   "execution_count": 8,
   "id": "f7c42822",
   "metadata": {},
   "outputs": [
    {
     "name": "stdout",
     "output_type": "stream",
     "text": [
      "f1\n"
     ]
    }
   ],
   "source": [
    "print(black_box_name)"
   ]
  },
  {
   "cell_type": "code",
   "execution_count": 9,
   "id": "75e8ce0b",
   "metadata": {},
   "outputs": [
    {
     "name": "stdout",
     "output_type": "stream",
     "text": [
      " 0: ──H──H──┤ Sample[Z] \n",
      " 1: ──X──H──┤           \n",
      "\n"
     ]
    }
   ],
   "source": [
    "print(circuit.draw())"
   ]
  }
 ],
 "metadata": {
  "jupytext": {
   "formats": "md:myst",
   "text_representation": {
    "extension": ".md",
    "format_name": "myst"
   }
  },
  "kernelspec": {
   "display_name": "Python 3",
   "language": "python",
   "name": "python3"
  },
  "language_info": {
   "codemirror_mode": {
    "name": "ipython",
    "version": 3
   },
   "file_extension": ".py",
   "mimetype": "text/x-python",
   "name": "python",
   "nbconvert_exporter": "python",
   "pygments_lexer": "ipython3",
   "version": "3.8.11"
  },
  "source_map": [
   11,
   198,
   204,
   208,
   222,
   226,
   228,
   232,
   237,
   241,
   250,
   254,
   256,
   260,
   263,
   267,
   269,
   273,
   275
  ]
 },
 "nbformat": 4,
 "nbformat_minor": 5
}