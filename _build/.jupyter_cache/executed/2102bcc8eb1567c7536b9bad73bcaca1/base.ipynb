{
 "cells": [
  {
   "cell_type": "code",
   "execution_count": 1,
   "id": "84869564",
   "metadata": {},
   "outputs": [],
   "source": [
    "import pennylane as qml\n",
    "from pennylane import numpy as np\n",
    "\n",
    "dev = qml.device('default.qubit', shots=1, wires=3)"
   ]
  },
  {
   "cell_type": "code",
   "execution_count": 2,
   "id": "3569bf1b",
   "metadata": {},
   "outputs": [],
   "source": [
    "def U_start():\n",
    "    qml.PauliX(wires=2)\n",
    "    for i in range(3):\n",
    "        qml.Hadamard(wires=i)"
   ]
  },
  {
   "cell_type": "code",
   "execution_count": 3,
   "id": "85a2dde3",
   "metadata": {},
   "outputs": [],
   "source": [
    " def U_b():\n",
    "    qml.Toffoli(wires=[0, 1, 2])"
   ]
  },
  {
   "cell_type": "code",
   "execution_count": 4,
   "id": "e287691a",
   "metadata": {},
   "outputs": [],
   "source": [
    " def U_c():\n",
    "    for i in range(2):\n",
    "        qml.Hadamard(wires=i)\n",
    "        qml.PauliX(wires=i)\n",
    "\n",
    "    qml.Toffoli(wires=[0, 1, 2])\n",
    "    for i in range(2):\n",
    "        qml.PauliX(wires=i)\n",
    "        qml.Hadamard(wires=i)"
   ]
  },
  {
   "cell_type": "code",
   "execution_count": 5,
   "id": "dcf3fd21",
   "metadata": {},
   "outputs": [],
   "source": [
    "def U_iteration():\n",
    "    U_b()\n",
    "    U_c()"
   ]
  },
  {
   "cell_type": "code",
   "execution_count": 6,
   "id": "ecaf06d0",
   "metadata": {},
   "outputs": [],
   "source": [
    "@qml.qnode(dev)\n",
    "def circuit(N: int):\n",
    "    U_start()\n",
    "    for t in range(N):\n",
    "        U_iteration()\n",
    "    return qml.probs(wires=[0, 1])"
   ]
  },
  {
   "cell_type": "code",
   "execution_count": 7,
   "id": "d7fd30b4",
   "metadata": {},
   "outputs": [
    {
     "name": "stdout",
     "output_type": "stream",
     "text": [
      "[0. 0. 0. 1.]\n"
     ]
    }
   ],
   "source": [
    "print(circuit(N=1))"
   ]
  }
 ],
 "metadata": {
  "jupytext": {
   "formats": "md:myst",
   "text_representation": {
    "extension": ".md",
    "format_name": "myst"
   }
  },
  "kernelspec": {
   "display_name": "Python 3",
   "language": "python",
   "name": "python3"
  },
  "language_info": {
   "codemirror_mode": {
    "name": "ipython",
    "version": 3
   },
   "file_extension": ".py",
   "mimetype": "text/x-python",
   "name": "python",
   "nbconvert_exporter": "python",
   "pygments_lexer": "ipython3",
   "version": "3.8.11"
  },
  "source_map": [
   11,
   163,
   168,
   172,
   177,
   181,
   184,
   189,
   199,
   203,
   207,
   211,
   218,
   222,
   224
  ]
 },
 "nbformat": 4,
 "nbformat_minor": 5
}