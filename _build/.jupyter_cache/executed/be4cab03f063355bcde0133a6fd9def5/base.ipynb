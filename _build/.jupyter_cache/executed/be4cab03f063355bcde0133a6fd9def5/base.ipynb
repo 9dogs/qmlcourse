{
 "cells": [
  {
   "cell_type": "code",
   "execution_count": 1,
   "id": "42589adc",
   "metadata": {},
   "outputs": [],
   "source": [
    "import cirq"
   ]
  },
  {
   "cell_type": "code",
   "execution_count": 2,
   "id": "b19b48f9",
   "metadata": {},
   "outputs": [],
   "source": [
    "qubit = cirq.GridQubit(0, 0)"
   ]
  },
  {
   "cell_type": "code",
   "execution_count": 3,
   "id": "8bd887ac",
   "metadata": {},
   "outputs": [
    {
     "name": "stdout",
     "output_type": "stream",
     "text": [
      "(0, 0): ───H───M───\n"
     ]
    }
   ],
   "source": [
    "circuit = cirq.Circuit()\n",
    "circuit.append(cirq.H(qubit))\n",
    "circuit.append(cirq.measure(qubit))\n",
    "print(circuit)"
   ]
  },
  {
   "cell_type": "code",
   "execution_count": 4,
   "id": "92c4a2c9",
   "metadata": {},
   "outputs": [],
   "source": [
    "sim = cirq.Simulator()"
   ]
  },
  {
   "cell_type": "code",
   "execution_count": 5,
   "id": "c31674ad",
   "metadata": {},
   "outputs": [
    {
     "name": "stdout",
     "output_type": "stream",
     "text": [
      "5 сэмплов:\n",
      "(0, 0)    0.6\n",
      "dtype: float64\n",
      "\n",
      "100 сэмплов:\n",
      "(0, 0)    0.47\n",
      "dtype: float64\n",
      "\n",
      "500 сэмплов:\n",
      "(0, 0)    0.48\n",
      "dtype: float64\n"
     ]
    }
   ],
   "source": [
    "print(\"5 сэмплов:\")\n",
    "print(sim.sample(circuit, repetitions=5).mean())\n",
    "print(\"\\n100 сэмплов:\")\n",
    "print(sim.sample(circuit, repetitions=100).mean())\n",
    "print(\"\\n500 сэмплов:\")\n",
    "print(sim.sample(circuit, repetitions=500).mean())"
   ]
  },
  {
   "cell_type": "code",
   "execution_count": 6,
   "id": "2c82cdb3",
   "metadata": {},
   "outputs": [
    {
     "name": "stdout",
     "output_type": "stream",
     "text": [
      "(0, 0)=1100001101010111000110000\n"
     ]
    }
   ],
   "source": [
    "print(sim.run(circuit, repetitions=25))"
   ]
  },
  {
   "cell_type": "code",
   "execution_count": 7,
   "id": "0b8d7e21",
   "metadata": {},
   "outputs": [],
   "source": [
    "import tensorflow as tf\n",
    "import tensorflow_quantum as tfq"
   ]
  },
  {
   "cell_type": "code",
   "execution_count": 8,
   "id": "07ebd179",
   "metadata": {},
   "outputs": [
    {
     "name": "stdout",
     "output_type": "stream",
     "text": [
      "[cirq.LineQubit(0), cirq.LineQubit(1)]\n"
     ]
    }
   ],
   "source": [
    "qubits = cirq.LineQubit.range(2)\n",
    "print(qubits)"
   ]
  },
  {
   "cell_type": "code",
   "execution_count": 9,
   "id": "80f41c4d",
   "metadata": {},
   "outputs": [],
   "source": [
    "from sklearn.datasets import make_moons\n",
    "x, y = make_moons(25)"
   ]
  }
 ],
 "metadata": {
  "jupytext": {
   "formats": "md:myst",
   "text_representation": {
    "extension": ".md",
    "format_name": "myst"
   }
  },
  "kernelspec": {
   "display_name": "Python 3",
   "language": "python",
   "name": "python3"
  },
  "language_info": {
   "codemirror_mode": {
    "name": "ipython",
    "version": 3
   },
   "file_extension": ".py",
   "mimetype": "text/x-python",
   "name": "python",
   "nbconvert_exporter": "python",
   "pygments_lexer": "ipython3",
   "version": "3.8.10"
  },
  "source_map": [
   11,
   31,
   33,
   37,
   39,
   43,
   48,
   54,
   56,
   60,
   67,
   75,
   77,
   87,
   90,
   94,
   97,
   101
  ]
 },
 "nbformat": 4,
 "nbformat_minor": 5
}