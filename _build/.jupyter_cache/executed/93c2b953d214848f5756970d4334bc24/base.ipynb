{
 "cells": [
  {
   "cell_type": "code",
   "execution_count": 1,
   "id": "7e50ef34",
   "metadata": {},
   "outputs": [],
   "source": [
    "# попробуйте поменять значение переменной dates\n",
    "dates = {'Кунг Фьюри': '1968-09-09', 'Наташа Романова': '1985-03-15'}  "
   ]
  },
  {
   "cell_type": "code",
   "execution_count": 2,
   "id": "19c0a8bf",
   "metadata": {},
   "outputs": [],
   "source": [
    "# попробуйте поменять значение\n",
    "empty_dict = {}  \n",
    "\n",
    "# None\n",
    "empty_dict.get('ключ')"
   ]
  },
  {
   "cell_type": "code",
   "execution_count": 3,
   "id": "3fa9745f",
   "metadata": {},
   "outputs": [
    {
     "data": {
      "text/plain": [
       "-1"
      ]
     },
     "execution_count": 3,
     "metadata": {},
     "output_type": "execute_result"
    }
   ],
   "source": [
    "# попробуйте поменять значение\n",
    "empty_dict = {}  \n",
    "\n",
    "# теперь будет возвращено значение -1\n",
    "empty_dict.get('ключ', -1)"
   ]
  },
  {
   "cell_type": "code",
   "execution_count": 4,
   "id": "2cd06a84",
   "metadata": {},
   "outputs": [
    {
     "name": "stdout",
     "output_type": "stream",
     "text": [
      "0\n",
      "2\n"
     ]
    }
   ],
   "source": [
    "empty_dict = {}  \n",
    "\n",
    "# empty_dict -- пустой словарь, поэтому длина равна 0\n",
    "print(len(empty_dict))\n",
    "\n",
    "marks = dict(линал=100, английский=92)\n",
    "\n",
    "# marks уже содержит две пары, поэтому длина 2\n",
    "print(len(marks))"
   ]
  },
  {
   "cell_type": "code",
   "execution_count": 5,
   "id": "a1cb296d",
   "metadata": {},
   "outputs": [
    {
     "name": "stdout",
     "output_type": "stream",
     "text": [
      "[1, 2, 3, 4]\n"
     ]
    }
   ],
   "source": [
    "# еще один способ создания словаря из последовательности пар\n",
    "holidays = dict([('January', [1, 2, 3, 4]), ('Feburary', [23]), ('March', [8])])\n",
    "\n",
    "# pop() возвращает значение, соответствующее ключу, значит его можно присвоить\n",
    "# переменной\n",
    "january_days = holidays.pop('January')\n",
    "\n",
    "# напечатается соответствующий массив\n",
    "print(january_days)"
   ]
  },
  {
   "cell_type": "code",
   "execution_count": 6,
   "id": "85b6adc7",
   "metadata": {},
   "outputs": [
    {
     "name": "stdout",
     "output_type": "stream",
     "text": [
      "('March', [8])\n"
     ]
    }
   ],
   "source": [
    "# еще один способ создания словаря из последовательности пар\n",
    "holidays = dict([('January', [1, 2, 3, 4]), ('Feburary', [23]), ('March', [8])])\n",
    "\n",
    "# в результате -- последняя добавленная пара\n",
    "print(holidays.popitem())"
   ]
  },
  {
   "cell_type": "code",
   "execution_count": 7,
   "id": "eb2f6a60",
   "metadata": {},
   "outputs": [
    {
     "name": "stdout",
     "output_type": "stream",
     "text": [
      "0\n"
     ]
    }
   ],
   "source": [
    "# вернемся к предыдущему примеру\n",
    "holidays = dict([('January', [1, 2, 3, 4]), ('Feburary', [23]), ('March', [8])])\n",
    "\n",
    "# словарь становится пустой\n",
    "holidays.clear()\n",
    "\n",
    "# значит, длина равна 0\n",
    "print(len(holidays))"
   ]
  },
  {
   "cell_type": "code",
   "execution_count": 8,
   "id": "00e460c4",
   "metadata": {},
   "outputs": [],
   "source": [
    "# создадим два словаря: в первом уже есть два ключа\n",
    "quidditch_team = {'Fred Weasley': '3rd year', 'George Weasley': '3rd year'}\n",
    "\n",
    "# во втором -- один ключ\n",
    "new_members = {'Harry Potter': '1st year'}\n",
    "\n",
    "# добавим пары из new_members\n",
    "# метод update() также работает in place, поэтому после выполнения данной\n",
    "# строки кода, в словаре quidditch_team станет три ключа\n",
    "quidditch_team.update(new_members)"
   ]
  },
  {
   "cell_type": "code",
   "execution_count": 9,
   "id": "0007d711",
   "metadata": {},
   "outputs": [],
   "source": [
    "quidditch_team = {'Fred Weasley': '3rd year', 'George Weasley': '3rd year', 'Harry Potter': '1st year'}\n",
    "\n",
    "# данный ключ (то, что записано первым в тьюпле) уже есть в quidditch_team\n",
    "member_update = [('Harry Potter', '2nd year')]\n",
    "\n",
    "# значение, соответствующее 'Harry Potter', будет переписано\n",
    "quidditch_team.update(new_members)"
   ]
  },
  {
   "cell_type": "code",
   "execution_count": 10,
   "id": "88bff5ec",
   "metadata": {},
   "outputs": [
    {
     "name": "stdout",
     "output_type": "stream",
     "text": [
      "Fred Weasley 3rd year\n",
      "George Weasley 3rd year\n",
      "Harry Potter 1st year\n"
     ]
    }
   ],
   "source": [
    "quidditch_team = {'Fred Weasley': '3rd year', 'George Weasley': '3rd year', 'Harry Potter': '1st year'}\n",
    "\n",
    "# словарь в качестве ключей хранит имена игроков\n",
    "for player in quidditch_team:\n",
    "\n",
    "    # на каждой итерации будет напечатан ключ и значение\n",
    "    print(player, quidditch_team[player])"
   ]
  },
  {
   "cell_type": "code",
   "execution_count": 11,
   "id": "addd81d3",
   "metadata": {},
   "outputs": [],
   "source": [
    "# вспомним про рабочие дни\n",
    "week = {7: 'weekend', 6: 'weekend', 1: 'workday'}\n",
    "\n",
    "# в sorted_week окажутся ключи, отсортированные в порядке возрастания\n",
    "sorted_week = sorted(week)\n",
    "\n",
    "# а тут -- наоборот\n",
    "reverse_sorted_week = reversed(week)"
   ]
  },
  {
   "cell_type": "code",
   "execution_count": 12,
   "id": "b4cfdbd7",
   "metadata": {},
   "outputs": [
    {
     "name": "stdout",
     "output_type": "stream",
     "text": [
      "0x7f608726fd80\n"
     ]
    }
   ],
   "source": [
    "counter = 100\n",
    "\n",
    "# полученное вами значение адреса может отличаться\n",
    "print(hex(id(counter)))"
   ]
  },
  {
   "cell_type": "code",
   "execution_count": 13,
   "id": "d129fc68",
   "metadata": {},
   "outputs": [
    {
     "name": "stdout",
     "output_type": "stream",
     "text": [
      "200 0x7f6087270a00\n"
     ]
    }
   ],
   "source": [
    "counter = 200\n",
    "print(counter, hex(id(counter)))"
   ]
  },
  {
   "cell_type": "code",
   "execution_count": 14,
   "id": "6a8bd911",
   "metadata": {},
   "outputs": [
    {
     "data": {
      "text/plain": [
       "True"
      ]
     },
     "execution_count": 14,
     "metadata": {},
     "output_type": "execute_result"
    }
   ],
   "source": [
    "# создадим две переменные с одинаковыми значениями в диапазоне от -5 до 256\n",
    "a = 20\n",
    "b = 20\n",
    "\n",
    "# a и b указывают на одно и то же место в памяти\n",
    "# попробуйте поменять значение a и b на число больше 256 или меньше -5\n",
    "id(a) == id(b)"
   ]
  },
  {
   "cell_type": "code",
   "execution_count": 15,
   "id": "973b9526",
   "metadata": {},
   "outputs": [
    {
     "name": "stdout",
     "output_type": "stream",
     "text": [
      "0x7f60807df5c0\n",
      "0x7f60807df5c0\n"
     ]
    }
   ],
   "source": [
    "# создадим список и напечатаем его адрес\n",
    "ratings = [1, 2, 3]\n",
    "print(hex(id(ratings)))\n",
    "ratings.append(4)\n",
    "print(hex(id(ratings)))"
   ]
  }
 ],
 "metadata": {
  "jupytext": {
   "formats": "md:myst",
   "text_representation": {
    "extension": ".md",
    "format_name": "myst"
   }
  },
  "kernelspec": {
   "display_name": "Python 3",
   "language": "python",
   "name": "python3"
  },
  "language_info": {
   "codemirror_mode": {
    "name": "ipython",
    "version": 3
   },
   "file_extension": ".py",
   "mimetype": "text/x-python",
   "name": "python",
   "nbconvert_exporter": "python",
   "pygments_lexer": "ipython3",
   "version": "3.8.11"
  },
  "source_map": [
   11,
   36,
   39,
   101,
   107,
   111,
   117,
   121,
   131,
   154,
   164,
   170,
   176,
   180,
   189,
   197,
   208,
   212,
   220,
   234,
   242,
   278,
   287,
   317,
   322,
   326,
   329,
   336,
   344,
   353,
   359
  ]
 },
 "nbformat": 4,
 "nbformat_minor": 5
}