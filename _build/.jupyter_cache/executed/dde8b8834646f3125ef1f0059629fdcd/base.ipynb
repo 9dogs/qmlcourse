{
 "cells": [
  {
   "cell_type": "code",
   "execution_count": 1,
   "id": "4fbe6490",
   "metadata": {},
   "outputs": [],
   "source": [
    "# локально попробуйте поменять значение переменной dates\n",
    "dates = {'Кунг Фьюри': '1968-09-09', 'Наташа Романова': '1985-03-15'}  "
   ]
  },
  {
   "cell_type": "code",
   "execution_count": 2,
   "id": "bb5916e4",
   "metadata": {},
   "outputs": [
    {
     "data": {
      "text/plain": [
       "'1968-09-09'"
      ]
     },
     "execution_count": 2,
     "metadata": {},
     "output_type": "execute_result"
    }
   ],
   "source": [
    "dates['Кунг Фьюри']"
   ]
  },
  {
   "cell_type": "code",
   "execution_count": 3,
   "id": "fe1d8853",
   "metadata": {},
   "outputs": [
    {
     "name": "stdout",
     "output_type": "stream",
     "text": [
      "Ключа действительно нет: 'Капитан Ямайка'\n"
     ]
    }
   ],
   "source": [
    "# пока этого ключа нет в словаре, будет ошибка при обращении\n",
    "# поэтому используем перехват ошибок\n",
    "try:\n",
    "    print(dates['Капитан Ямайка'])\n",
    "except KeyError as e:\n",
    "    print(f'Ключа действительно нет: {e}')"
   ]
  },
  {
   "cell_type": "code",
   "execution_count": 4,
   "id": "e07e237e",
   "metadata": {},
   "outputs": [],
   "source": [
    "# этот ключ уже был в примере\n",
    "dates['Кунг Фьюри'] = '1960-09-09'\n",
    "\n",
    "# а такого не было\n",
    "dates['Капитан Ямайка'] = '1930-10-04'"
   ]
  },
  {
   "cell_type": "code",
   "execution_count": 5,
   "id": "3212bae2",
   "metadata": {},
   "outputs": [
    {
     "name": "stdout",
     "output_type": "stream",
     "text": [
      "False\n",
      "True\n"
     ]
    }
   ],
   "source": [
    "# еще способ создания: пары можно передавать как аргументы dict через =\n",
    "marks = dict(линал=100, английский=92)\n",
    "\n",
    "# False\n",
    "print('матан' in marks)\n",
    "\n",
    "# True\n",
    "print('линал' in marks)"
   ]
  },
  {
   "cell_type": "code",
   "execution_count": 6,
   "id": "26f09c70",
   "metadata": {},
   "outputs": [
    {
     "name": "stdout",
     "output_type": "stream",
     "text": [
      "Нет оценки по матану :(\n"
     ]
    }
   ],
   "source": [
    "if 'матан' in marks:\n",
    "    print(marks['матан'])\n",
    "\n",
    "else:\n",
    "    print('Нет оценки по матану :(')"
   ]
  },
  {
   "cell_type": "code",
   "execution_count": 7,
   "id": "80e2294c",
   "metadata": {},
   "outputs": [
    {
     "name": "stdout",
     "output_type": "stream",
     "text": [
      "None\n"
     ]
    }
   ],
   "source": [
    "empty_dict = {}  \n",
    "\n",
    "# None\n",
    "print(empty_dict.get('ключ'))"
   ]
  },
  {
   "cell_type": "code",
   "execution_count": 8,
   "id": "7b889013",
   "metadata": {},
   "outputs": [
    {
     "name": "stdout",
     "output_type": "stream",
     "text": [
      "-1\n"
     ]
    }
   ],
   "source": [
    "# теперь будет возвращено значение -1\n",
    "print(empty_dict.get('ключ', -1))"
   ]
  },
  {
   "cell_type": "code",
   "execution_count": 9,
   "id": "644204f3",
   "metadata": {},
   "outputs": [
    {
     "name": "stdout",
     "output_type": "stream",
     "text": [
      "0\n",
      "2\n"
     ]
    }
   ],
   "source": [
    "# empty_dict -- пустой словарь, поэтому длина равна 0\n",
    "print(len(empty_dict))\n",
    "\n",
    "# а вот словарь marks уже содержит две пары, поэтому длина 2\n",
    "print(len(marks))"
   ]
  },
  {
   "cell_type": "code",
   "execution_count": 10,
   "id": "9243ba86",
   "metadata": {},
   "outputs": [
    {
     "name": "stdout",
     "output_type": "stream",
     "text": [
      "None\n"
     ]
    }
   ],
   "source": [
    "# из словаря dates удаляется ключ 'Наташа Романова'\n",
    "del dates['Наташа Романова']\n",
    "print(dates.get('Наташа Романова'))"
   ]
  },
  {
   "cell_type": "code",
   "execution_count": 11,
   "id": "bf7b7101",
   "metadata": {},
   "outputs": [
    {
     "name": "stdout",
     "output_type": "stream",
     "text": [
      "[1, 2, 3, 4]\n"
     ]
    }
   ],
   "source": [
    "# еще один способ создания словаря из последовательности пар\n",
    "holidays = dict([('January', [1, 2, 3, 4]), ('Feburary', [23]), ('March', [8])])\n",
    "\n",
    "# pop() возвращает значение, соответствующее ключу, значит его можно присвоить\n",
    "# переменной\n",
    "january_days = holidays.pop('January')\n",
    "\n",
    "# напечатается соответствующий массив\n",
    "print(january_days)"
   ]
  },
  {
   "cell_type": "code",
   "execution_count": 12,
   "id": "3919c6e9",
   "metadata": {},
   "outputs": [
    {
     "name": "stdout",
     "output_type": "stream",
     "text": [
      "('March', [8])\n"
     ]
    }
   ],
   "source": [
    "# в результате -- последняя добавленная пара\n",
    "print(holidays.popitem())"
   ]
  },
  {
   "cell_type": "code",
   "execution_count": 13,
   "id": "96dcbb48",
   "metadata": {},
   "outputs": [
    {
     "name": "stdout",
     "output_type": "stream",
     "text": [
      "0\n"
     ]
    }
   ],
   "source": [
    "# вернемся к предыдущему примеру\n",
    "# словарь становится пустой\n",
    "holidays.clear()\n",
    "\n",
    "# значит, длина равна 0\n",
    "print(len(holidays))"
   ]
  },
  {
   "cell_type": "code",
   "execution_count": 14,
   "id": "9c455038",
   "metadata": {},
   "outputs": [
    {
     "name": "stdout",
     "output_type": "stream",
     "text": [
      "1st year\n"
     ]
    }
   ],
   "source": [
    "# создадим два словаря: в первом уже есть два ключа\n",
    "quidditch_team = {'Fred Weasley': '3rd year', 'George Weasley': '3rd year'}\n",
    "\n",
    "# во втором -- один ключ\n",
    "new_members = {'Harry Potter': '1st year'}\n",
    "\n",
    "# добавим пары из new_members\n",
    "# метод update() также работает in place, поэтому после выполнения данной\n",
    "# строки кода, в словаре quidditch_team станет три ключа\n",
    "quidditch_team.update(new_members)\n",
    "\n",
    "print(quidditch_team['Harry Potter'])"
   ]
  },
  {
   "cell_type": "code",
   "execution_count": 15,
   "id": "7455c348",
   "metadata": {},
   "outputs": [
    {
     "name": "stdout",
     "output_type": "stream",
     "text": [
      "1st year\n"
     ]
    }
   ],
   "source": [
    "# данный ключ (то, что записано первым в тьюпле) уже есть в quidditch_team\n",
    "member_update = [('Harry Potter', '2nd year')]\n",
    "\n",
    "# значение, соответствующее 'Harry Potter', будет переписано\n",
    "quidditch_team.update(new_members)\n",
    "\n",
    "print(quidditch_team['Harry Potter'])"
   ]
  },
  {
   "cell_type": "code",
   "execution_count": 16,
   "id": "b5133f04",
   "metadata": {},
   "outputs": [
    {
     "name": "stdout",
     "output_type": "stream",
     "text": [
      "Fred Weasley 3rd year\n",
      "George Weasley 3rd year\n",
      "Harry Potter 1st year\n"
     ]
    }
   ],
   "source": [
    "# словарь в качестве ключей хранит имена игроков\n",
    "for player in quidditch_team:\n",
    "\n",
    "    # на каждой итерации будет напечатан ключ и значение\n",
    "    print(player, quidditch_team[player])"
   ]
  },
  {
   "cell_type": "code",
   "execution_count": 17,
   "id": "7381a566",
   "metadata": {},
   "outputs": [],
   "source": [
    "# можно создать переменную со всеми значениями словаря\n",
    "school_years = quidditch_team.values()"
   ]
  },
  {
   "cell_type": "code",
   "execution_count": 18,
   "id": "50899087",
   "metadata": {},
   "outputs": [
    {
     "name": "stdout",
     "output_type": "stream",
     "text": [
      "3rd year\n",
      "3rd year\n",
      "1st year\n"
     ]
    }
   ],
   "source": [
    "# словарь в качестве значений хранит годы обучения\n",
    "for year in quidditch_team.values():\n",
    "\n",
    "    # на каждой итерации будет год обучения игрока\n",
    "    print(year)"
   ]
  },
  {
   "cell_type": "code",
   "execution_count": 19,
   "id": "88f7d32b",
   "metadata": {},
   "outputs": [
    {
     "name": "stdout",
     "output_type": "stream",
     "text": [
      "Player Fred Weasley is in 3rd year\n",
      "Player George Weasley is in 3rd year\n",
      "Player Harry Potter is in 1st year\n"
     ]
    }
   ],
   "source": [
    "# сразу две переменные: первая последовательно будет ключами,\n",
    "# вторая -- значениями\n",
    "for player, year in quidditch_team.items():\n",
    "\n",
    "    # items() избавляет от необходимости обращаться quidditch_team[player],\n",
    "    # чтобы получить значение. Оно уже в year\n",
    "    print(f'Player {player} is in {year}')"
   ]
  },
  {
   "cell_type": "code",
   "execution_count": 20,
   "id": "73295028",
   "metadata": {},
   "outputs": [
    {
     "name": "stdout",
     "output_type": "stream",
     "text": [
      "Порядок возрастания: [1, 6, 7]\n",
      "Наоборот: <dict_reversekeyiterator object at 0x7efc26dc1630>\n"
     ]
    }
   ],
   "source": [
    "# вспомним про рабочие дни\n",
    "week = {7: 'weekend', 6: 'weekend', 1: 'workday'}\n",
    "\n",
    "# в sorted_week окажутся ключи, отсортированные в порядке возрастания\n",
    "sorted_week = sorted(week)\n",
    "print(f'Порядок возрастания: {sorted_week}')\n",
    "\n",
    "# а тут -- наоборот\n",
    "reverse_sorted_week = reversed(week)\n",
    "print(f'Наоборот: {reverse_sorted_week}')"
   ]
  },
  {
   "cell_type": "code",
   "execution_count": 21,
   "id": "a1501fb0",
   "metadata": {},
   "outputs": [
    {
     "name": "stdout",
     "output_type": "stream",
     "text": [
      "100 0x7efc2b76ad80\n"
     ]
    }
   ],
   "source": [
    "counter = 100\n",
    "\n",
    "# полученное вами значение адреса может отличаться\n",
    "print(counter, hex(id(counter)))"
   ]
  },
  {
   "cell_type": "code",
   "execution_count": 22,
   "id": "7db98717",
   "metadata": {},
   "outputs": [
    {
     "name": "stdout",
     "output_type": "stream",
     "text": [
      "200 0x7efc2b76ba00\n"
     ]
    }
   ],
   "source": [
    "counter = 200\n",
    "print(counter, hex(id(counter)))"
   ]
  },
  {
   "cell_type": "code",
   "execution_count": 23,
   "id": "dc803b63",
   "metadata": {},
   "outputs": [
    {
     "data": {
      "text/plain": [
       "True"
      ]
     },
     "execution_count": 23,
     "metadata": {},
     "output_type": "execute_result"
    }
   ],
   "source": [
    "# создадим две переменные с одинаковыми значениями в диапазоне от -5 до 256\n",
    "a = 20\n",
    "b = 20\n",
    "\n",
    "# a и b указывают на одно и то же место в памяти\n",
    "# попробуйте поменять значение a и b на число больше 256 или меньше -5\n",
    "id(a) == id(b)"
   ]
  },
  {
   "cell_type": "code",
   "execution_count": 24,
   "id": "6891c285",
   "metadata": {},
   "outputs": [
    {
     "name": "stdout",
     "output_type": "stream",
     "text": [
      "Было: 0x7efc26fb39c0\n",
      "Стало: 0x7efc26fb39c0 - ничего не поменялось!\n"
     ]
    }
   ],
   "source": [
    "# создадим список и напечатаем его адрес\n",
    "ratings = [1, 2, 3]\n",
    "print(f'Было: {hex(id(ratings))}')\n",
    "\n",
    "ratings.append(4)\n",
    "print(f'Стало: {hex(id(ratings))} - ничего не поменялось!')"
   ]
  }
 ],
 "metadata": {
  "jupytext": {
   "formats": "md:myst",
   "text_representation": {
    "extension": ".md",
    "format_name": "myst"
   }
  },
  "kernelspec": {
   "display_name": "Python 3",
   "language": "python",
   "name": "python3"
  },
  "language_info": {
   "codemirror_mode": {
    "name": "ipython",
    "version": 3
   },
   "file_extension": ".py",
   "mimetype": "text/x-python",
   "name": "python",
   "nbconvert_exporter": "python",
   "pygments_lexer": "ipython3",
   "version": "3.8.11"
  },
  "source_map": [
   11,
   36,
   39,
   47,
   49,
   53,
   60,
   66,
   72,
   82,
   91,
   95,
   101,
   105,
   110,
   114,
   117,
   121,
   127,
   143,
   147,
   151,
   161,
   167,
   170,
   174,
   181,
   189,
   202,
   206,
   214,
   228,
   234,
   239,
   242,
   246,
   252,
   259,
   267,
   271,
   282,
   312,
   317,
   326,
   329,
   344,
   352,
   361,
   368
  ]
 },
 "nbformat": 4,
 "nbformat_minor": 5
}