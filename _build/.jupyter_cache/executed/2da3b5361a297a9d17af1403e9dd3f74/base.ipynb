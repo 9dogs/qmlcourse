{
 "cells": [
  {
   "cell_type": "code",
   "execution_count": 1,
   "id": "17ad2030",
   "metadata": {},
   "outputs": [
    {
     "name": "stdout",
     "output_type": "stream",
     "text": [
      "(3,)\n"
     ]
    }
   ],
   "source": [
    "import numpy as np\n",
    "a = np.array([1, 2, 3]) # создадим вектор\n",
    "print(a.shape)\n",
    "b = np.zeros((2, 2)) # создадим матричку 2х2 из нулей\n",
    "c = np.eye(3) # создадим единичную матрицу 3х3\n",
    "q = np.random.random((1, 100)) # случайную вектор-строку"
   ]
  },
  {
   "cell_type": "code",
   "execution_count": 2,
   "id": "edf2f665",
   "metadata": {},
   "outputs": [
    {
     "name": "stdout",
     "output_type": "stream",
     "text": [
      "[ 2 -1 -1]\n",
      "[-1  6 12]\n",
      "17\n"
     ]
    }
   ],
   "source": [
    "a = np.array([1, 2, 3])\n",
    "b = np.array([-1, 3, 4])\n",
    "print(a - b) # разность двух векторов\n",
    "print(a * b) # поэлементное произведение\n",
    "print(a@b)  # скалярное произведение\n"
   ]
  },
  {
   "cell_type": "code",
   "execution_count": 3,
   "id": "53546238",
   "metadata": {},
   "outputs": [
    {
     "name": "stdout",
     "output_type": "stream",
     "text": [
      "a_{0,1} 1 1\n",
      "a_{1,1..3} [1 2]\n",
      "a_{2} [ 8  9 10 11] [ 8  9 10 11] [ 8  9 10 11]\n",
      "[ 0  3  6  9 12 15]\n",
      "[[0 1 2 3]\n",
      " [4 5 6 7]]\n"
     ]
    }
   ],
   "source": [
    "a = np.arange(16).reshape(4, 4)\n",
    "# у нас есть массив 4х4 с числами 1..16\n",
    "\n",
    "# просто по индексам\n",
    "print(\"a_{0,1}\", a[0, 1], a[0][1])\n",
    "\n",
    "# по слайсам\n",
    "print(\"a_{1,1..3}\", a[0, 1:3])\n",
    "print(\"a_{2}\", a[2], a[2, :], a[2, ...])\n",
    "\n",
    "# по маске\n",
    "mask = (a % 3 == 0) # mask.shape == (4, 4)\n",
    "print(a[mask])\n",
    "\n",
    "first_rows = np.array([True, True, False, False])\n",
    "print(a[first_rows])"
   ]
  },
  {
   "cell_type": "code",
   "execution_count": 4,
   "id": "1cd23ae8",
   "metadata": {},
   "outputs": [
    {
     "name": "stdout",
     "output_type": "stream",
     "text": [
      "(4, 4)\n",
      "(1, 4, 4)\n",
      "(4, 4, 1)\n",
      "[ 8  9 10 11]\n",
      "[ 8  9 10 11]\n",
      "[[ 0  1  2  3]\n",
      " [ 4  5  6  7]\n",
      " [ 8  9 10 11]\n",
      " [12 13 14 15]] [[ 0  1  2  3]\n",
      " [ 4  5  6  7]\n",
      " [ 8  9 10 11]\n",
      " [12 13 14 15]]\n",
      "[1 4 7] [1 4 7]\n"
     ]
    }
   ],
   "source": [
    "# None добавляет ось размерности 1\n",
    "print(a.shape)\n",
    "print(a[None].shape)\n",
    "print(a[:, :, None].shape)\n",
    "\n",
    "# : превращается в слайс slice(None), берет все элементы вдоль размерности\n",
    "print(a[2, :])\n",
    "print(a[2, 0:None])\n",
    "\n",
    "\n",
    "# ... ellipsis, превращается в необходимое число двоеточий :,:,:\n",
    "\n",
    "print(a[...], a) # одно и то же\n",
    "\n",
    "z = np.arange(27).reshape(3, 3, 3)\n",
    "print(z[0, ..., 1], z[0, :, 1]) # ... удобен когда мы не знаем настоящий шейп массива или нужно не трогать несколько подряд идущих размерностей"
   ]
  },
  {
   "cell_type": "code",
   "execution_count": 5,
   "id": "0d0fe849",
   "metadata": {},
   "outputs": [
    {
     "name": "stdout",
     "output_type": "stream",
     "text": [
      "[2 4 6]\n"
     ]
    }
   ],
   "source": [
    "a = np.array([1, 2, 3])\n",
    "k = 2\n",
    "print(a * k)"
   ]
  },
  {
   "cell_type": "code",
   "execution_count": 6,
   "id": "b2636a02",
   "metadata": {},
   "outputs": [
    {
     "name": "stdout",
     "output_type": "stream",
     "text": [
      "[-1  0  1]\n"
     ]
    }
   ],
   "source": [
    "a = np.array([1, 2, 3])\n",
    "k = 2\n",
    "print(a - k)"
   ]
  }
 ],
 "metadata": {
  "jupytext": {
   "formats": "md:myst",
   "text_representation": {
    "extension": ".md",
    "format_name": "myst"
   }
  },
  "kernelspec": {
   "display_name": "Python 3",
   "language": "python",
   "name": "python3"
  },
  "language_info": {
   "codemirror_mode": {
    "name": "ipython",
    "version": 3
   },
   "file_extension": ".py",
   "mimetype": "text/x-python",
   "name": "python",
   "nbconvert_exporter": "python",
   "pygments_lexer": "ipython3",
   "version": "3.8.12"
  },
  "source_map": [
   11,
   24,
   31,
   38,
   45,
   52,
   69,
   73,
   90,
   101,
   105,
   110,
   114
  ]
 },
 "nbformat": 4,
 "nbformat_minor": 5
}