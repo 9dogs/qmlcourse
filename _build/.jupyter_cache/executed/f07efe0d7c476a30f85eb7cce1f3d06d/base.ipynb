{
 "cells": [
  {
   "cell_type": "code",
   "execution_count": 1,
   "id": "89f22196",
   "metadata": {},
   "outputs": [],
   "source": [
    "c = 299_792_458 # запишем константу, м/с\n",
    "m = 0.5 # масса некоторого абстрактного объекта, кг\n",
    "E = m * (c ** 2) # вычисляем энергию, Дж\n",
    "\n",
    "some_variable_1 = 10.2 # какая-то другая переменная\n",
    "m = 12"
   ]
  }
 ],
 "metadata": {
  "jupytext": {
   "formats": "md:myst",
   "text_representation": {
    "extension": ".md",
    "format_name": "myst"
   }
  },
  "kernelspec": {
   "display_name": "Python 3",
   "language": "python",
   "name": "python3"
  },
  "language_info": {
   "codemirror_mode": {
    "name": "ipython",
    "version": 3
   },
   "file_extension": ".py",
   "mimetype": "text/x-python",
   "name": "python",
   "nbconvert_exporter": "python",
   "pygments_lexer": "ipython3",
   "version": "3.8.11"
  },
  "source_map": [
   11,
   32,
   39
  ]
 },
 "nbformat": 4,
 "nbformat_minor": 5
}