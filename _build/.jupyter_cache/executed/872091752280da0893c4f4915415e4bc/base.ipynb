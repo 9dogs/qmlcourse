{
 "cells": [
  {
   "cell_type": "code",
   "execution_count": 1,
   "id": "153ddec2",
   "metadata": {},
   "outputs": [],
   "source": [
    "import pennylane as qml\n",
    "from pennylane import numpy as np\n",
    "\n",
    "dev = qml.device(\"default.qubit\", wires=2)"
   ]
  },
  {
   "cell_type": "code",
   "execution_count": 2,
   "id": "b7b1c6be",
   "metadata": {},
   "outputs": [],
   "source": [
    "@qml.qnode(dev)\n",
    "def circuit(param):\n",
    "    qml.RX(param, wires=0)\n",
    "    qml.CNOT(wires=[0, 1])\n",
    "    return qml.expval(qml.PauliZ(0)), qml.expval(qml.PauliZ(1))"
   ]
  },
  {
   "cell_type": "code",
   "execution_count": 3,
   "id": "3c48abd5",
   "metadata": {},
   "outputs": [
    {
     "name": "stdout",
     "output_type": "stream",
     "text": [
      "[2.22044605e-16 2.22044605e-16]\n"
     ]
    }
   ],
   "source": [
    "print(circuit(np.pi / 2))"
   ]
  },
  {
   "cell_type": "code",
   "execution_count": 4,
   "id": "41214f11",
   "metadata": {},
   "outputs": [],
   "source": [
    "def entropy(rho: np.array) -> float:\n",
    "    e = -np.sum(np.diag(rho) * np.log(np.diag(rho) + 1e-16))\n",
    "    return np.real(e)"
   ]
  },
  {
   "cell_type": "code",
   "execution_count": 5,
   "id": "3f84c4ab",
   "metadata": {},
   "outputs": [],
   "source": [
    "h = 1 / np.sqrt(2) * np.array([\n",
    "    [1 + 0j, 1 + 0j],\n",
    "    [1 + 0j, 0j - 1]\n",
    "])"
   ]
  },
  {
   "cell_type": "code",
   "execution_count": 6,
   "id": "e56b86dc",
   "metadata": {},
   "outputs": [
    {
     "name": "stdout",
     "output_type": "stream",
     "text": [
      "Entropy Psi: -0.00\n",
      "Entropy (H I) Psi: 0.69\n",
      "Entropy (I H) Psi: 0.69\n",
      "Entropy (H H) Psi: 1.39\n"
     ]
    }
   ],
   "source": [
    "basis_0 = np.array([1 + 0j, 0 + 0j]).reshape((2, 1))\n",
    "psi = np.kron(basis_0, basis_0)\n",
    "rho = psi @ psi.conj().T\n",
    "\n",
    "entropy0 = entropy(rho)\n",
    "entropy1 = entropy(np.kron(h, np.eye(2)) @ rho @ np.kron(h, np.eye(2)).T)\n",
    "entropy2 = entropy(np.kron(np.eye(2), h) @ rho @ np.kron(np.eye(2), h).T)\n",
    "entropy3 = entropy(np.kron(h, h) @ rho @ np.kron(h, h).T)\n",
    "\n",
    "print(f\"Entropy Psi: {entropy0:.2f}\")\n",
    "print(f\"Entropy (H I) Psi: {entropy1:.2f}\")\n",
    "print(f\"Entropy (I H) Psi: {entropy2:.2f}\")\n",
    "print(f\"Entropy (H H) Psi: {entropy3:.2f}\")"
   ]
  }
 ],
 "metadata": {
  "jupytext": {
   "formats": "md:myst",
   "text_representation": {
    "extension": ".md",
    "format_name": "myst"
   }
  },
  "kernelspec": {
   "display_name": "Python 3",
   "language": "python",
   "name": "python3"
  },
  "language_info": {
   "codemirror_mode": {
    "name": "ipython",
    "version": 3
   },
   "file_extension": ".py",
   "mimetype": "text/x-python",
   "name": "python",
   "nbconvert_exporter": "python",
   "pygments_lexer": "ipython3",
   "version": "3.8.12"
  },
  "source_map": [
   11,
   218,
   223,
   227,
   233,
   237,
   239,
   305,
   309,
   316,
   321,
   329,
   343
  ]
 },
 "nbformat": 4,
 "nbformat_minor": 5
}