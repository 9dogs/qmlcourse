{
 "cells": [
  {
   "cell_type": "code",
   "execution_count": 1,
   "id": "d244c5fd",
   "metadata": {},
   "outputs": [
    {
     "name": "stderr",
     "output_type": "stream",
     "text": [
      "2021-08-26 14:36:01.095551: W tensorflow/stream_executor/platform/default/dso_loader.cc:60] Could not load dynamic library 'libcudart.so.11.0'; dlerror: libcudart.so.11.0: cannot open shared object file: No such file or directory; LD_LIBRARY_PATH: /opt/hostedtoolcache/Python/3.8.11/x64/lib\n",
      "2021-08-26 14:36:01.095585: I tensorflow/stream_executor/cuda/cudart_stub.cc:29] Ignore above cudart dlerror if you do not have a GPU set up on your machine.\n"
     ]
    }
   ],
   "source": [
    "import pennylane as qml\n",
    "from pennylane import numpy as np\n",
    "\n",
    "dev = qml.device('default.qubit', shots=1, wires=3)"
   ]
  },
  {
   "cell_type": "code",
   "execution_count": 2,
   "id": "bf669627",
   "metadata": {},
   "outputs": [],
   "source": [
    "def U_start():\n",
    "    qml.PauliX(wires=2)\n",
    "    for i in range(3):\n",
    "        qml.Hadamard(wires=i)"
   ]
  },
  {
   "cell_type": "code",
   "execution_count": 3,
   "id": "7e6c80ff",
   "metadata": {},
   "outputs": [],
   "source": [
    " def U_ta():\n",
    "    qml.Toffoli(wires=[0, 1, 2])"
   ]
  },
  {
   "cell_type": "code",
   "execution_count": 4,
   "id": "fac4feb2",
   "metadata": {},
   "outputs": [],
   "source": [
    " def U_tb():\n",
    "    for i in range(2):\n",
    "        qml.Hadamard(wires=i)\n",
    "        qml.PauliX(wires=i)\n",
    "\n",
    "    qml.Toffoli(wires=[0, 1, 2])\n",
    "    for i in range(2):\n",
    "        qml.PauliX(wires=i)\n",
    "        qml.Hadamard(wires=i)"
   ]
  },
  {
   "cell_type": "code",
   "execution_count": 5,
   "id": "b61913c9",
   "metadata": {},
   "outputs": [],
   "source": [
    "def U_iteration():\n",
    "    U_ta()\n",
    "    U_tb()"
   ]
  },
  {
   "cell_type": "code",
   "execution_count": 6,
   "id": "e476325b",
   "metadata": {},
   "outputs": [],
   "source": [
    "@qml.qnode(dev)\n",
    "def circuit(N):\n",
    "    U_start()\n",
    "    for t in range(N):\n",
    "        U_iteration()\n",
    "    return qml.sample(qml.PauliZ(0)), qml.sample(qml.PauliZ(1))"
   ]
  },
  {
   "cell_type": "code",
   "execution_count": 7,
   "id": "57f32211",
   "metadata": {},
   "outputs": [
    {
     "name": "stdout",
     "output_type": "stream",
     "text": [
      "[[-1]\n",
      " [-1]]\n"
     ]
    }
   ],
   "source": [
    "print(circuit(N=1))"
   ]
  }
 ],
 "metadata": {
  "jupytext": {
   "formats": "md:myst",
   "text_representation": {
    "extension": ".md",
    "format_name": "myst"
   }
  },
  "kernelspec": {
   "display_name": "Python 3",
   "language": "python",
   "name": "python3"
  },
  "language_info": {
   "codemirror_mode": {
    "name": "ipython",
    "version": 3
   },
   "file_extension": ".py",
   "mimetype": "text/x-python",
   "name": "python",
   "nbconvert_exporter": "python",
   "pygments_lexer": "ipython3",
   "version": "3.8.11"
  },
  "source_map": [
   11,
   158,
   163,
   167,
   172,
   176,
   179,
   184,
   194,
   198,
   202,
   206,
   213,
   217,
   219
  ]
 },
 "nbformat": 4,
 "nbformat_minor": 5
}