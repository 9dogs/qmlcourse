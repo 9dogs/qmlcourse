{
 "cells": [
  {
   "cell_type": "code",
   "execution_count": 1,
   "id": "08edce3c",
   "metadata": {},
   "outputs": [],
   "source": [
    "# локально попробуйте поменять значение переменной dates\n",
    "dates = {'Кунг Фьюри': '1968-09-09', 'Наташа Романова': '1985-03-15'}  "
   ]
  },
  {
   "cell_type": "code",
   "execution_count": 2,
   "id": "dc518355",
   "metadata": {},
   "outputs": [
    {
     "data": {
      "text/plain": [
       "'1968-09-09'"
      ]
     },
     "execution_count": 2,
     "metadata": {},
     "output_type": "execute_result"
    }
   ],
   "source": [
    "dates['Кунг Фьюри']"
   ]
  },
  {
   "cell_type": "code",
   "execution_count": 3,
   "id": "df9b2b0a",
   "metadata": {},
   "outputs": [],
   "source": [
    "# этот ключ уже был в примере\n",
    "dates['Кунг Фьюри'] = '1960-09-09'\n",
    "\n",
    "# а такого не было\n",
    "dates['Капитан Ямайка'] = '1930-10-04'"
   ]
  },
  {
   "cell_type": "code",
   "execution_count": 4,
   "id": "4923e2ec",
   "metadata": {},
   "outputs": [
    {
     "name": "stdout",
     "output_type": "stream",
     "text": [
      "False\n",
      "True\n"
     ]
    }
   ],
   "source": [
    "# еще способ создания: пары можно передавать как аргументы dict через =\n",
    "marks = dict(линал=100, английский=92)\n",
    "\n",
    "# False\n",
    "print('матан' in marks)\n",
    "\n",
    "# True\n",
    "print('линал' in marks)"
   ]
  },
  {
   "cell_type": "code",
   "execution_count": 5,
   "id": "b85c20b8",
   "metadata": {},
   "outputs": [
    {
     "name": "stdout",
     "output_type": "stream",
     "text": [
      "Нет оценки по матану :(\n"
     ]
    }
   ],
   "source": [
    "if 'матан' in marks:\n",
    "    print(marks['матан'])\n",
    "\n",
    "else:\n",
    "    print('Нет оценки по матану :(')"
   ]
  },
  {
   "cell_type": "code",
   "execution_count": 6,
   "id": "8bfc04d3",
   "metadata": {},
   "outputs": [],
   "source": [
    "empty_dict = {}  \n",
    "\n",
    "# None\n",
    "empty_dict.get('ключ')"
   ]
  },
  {
   "cell_type": "code",
   "execution_count": 7,
   "id": "5a2c1955",
   "metadata": {},
   "outputs": [
    {
     "data": {
      "text/plain": [
       "-1"
      ]
     },
     "execution_count": 7,
     "metadata": {},
     "output_type": "execute_result"
    }
   ],
   "source": [
    "# теперь будет возвращено значение -1\n",
    "empty_dict.get('ключ', -1)"
   ]
  },
  {
   "cell_type": "code",
   "execution_count": 8,
   "id": "c62ca7ee",
   "metadata": {},
   "outputs": [
    {
     "name": "stdout",
     "output_type": "stream",
     "text": [
      "0\n",
      "2\n"
     ]
    }
   ],
   "source": [
    "# empty_dict -- пустой словарь, поэтому длина равна 0\n",
    "print(len(empty_dict))\n",
    "\n",
    "# а вот словарь marks уже содержит две пары, поэтому длина 2\n",
    "print(len(marks))"
   ]
  },
  {
   "cell_type": "code",
   "execution_count": 9,
   "id": "010d7a5b",
   "metadata": {},
   "outputs": [
    {
     "name": "stdout",
     "output_type": "stream",
     "text": [
      "[1, 2, 3, 4]\n"
     ]
    }
   ],
   "source": [
    "# еще один способ создания словаря из последовательности пар\n",
    "holidays = dict([('January', [1, 2, 3, 4]), ('Feburary', [23]), ('March', [8])])\n",
    "\n",
    "# pop() возвращает значение, соответствующее ключу, значит его можно присвоить\n",
    "# переменной\n",
    "january_days = holidays.pop('January')\n",
    "\n",
    "# напечатается соответствующий массив\n",
    "print(january_days)"
   ]
  },
  {
   "cell_type": "code",
   "execution_count": 10,
   "id": "b8e243da",
   "metadata": {},
   "outputs": [
    {
     "name": "stdout",
     "output_type": "stream",
     "text": [
      "('March', [8])\n"
     ]
    }
   ],
   "source": [
    "# в результате -- последняя добавленная пара\n",
    "print(holidays.popitem())"
   ]
  },
  {
   "cell_type": "code",
   "execution_count": 11,
   "id": "b092f290",
   "metadata": {},
   "outputs": [
    {
     "name": "stdout",
     "output_type": "stream",
     "text": [
      "0\n"
     ]
    }
   ],
   "source": [
    "# вернемся к предыдущему примеру\n",
    "# словарь становится пустой\n",
    "holidays.clear()\n",
    "\n",
    "# значит, длина равна 0\n",
    "print(len(holidays))"
   ]
  },
  {
   "cell_type": "code",
   "execution_count": 12,
   "id": "6d457d7c",
   "metadata": {},
   "outputs": [],
   "source": [
    "# создадим два словаря: в первом уже есть два ключа\n",
    "quidditch_team = {'Fred Weasley': '3rd year', 'George Weasley': '3rd year'}\n",
    "\n",
    "# во втором -- один ключ\n",
    "new_members = {'Harry Potter': '1st year'}\n",
    "\n",
    "# добавим пары из new_members\n",
    "# метод update() также работает in place, поэтому после выполнения данной\n",
    "# строки кода, в словаре quidditch_team станет три ключа\n",
    "quidditch_team.update(new_members)"
   ]
  },
  {
   "cell_type": "code",
   "execution_count": 13,
   "id": "fe2bf5a9",
   "metadata": {},
   "outputs": [],
   "source": [
    "# данный ключ (то, что записано первым в тьюпле) уже есть в quidditch_team\n",
    "member_update = [('Harry Potter', '2nd year')]\n",
    "\n",
    "# значение, соответствующее 'Harry Potter', будет переписано\n",
    "quidditch_team.update(new_members)"
   ]
  },
  {
   "cell_type": "code",
   "execution_count": 14,
   "id": "e54e63b9",
   "metadata": {},
   "outputs": [
    {
     "name": "stdout",
     "output_type": "stream",
     "text": [
      "Fred Weasley 3rd year\n",
      "George Weasley 3rd year\n",
      "Harry Potter 1st year\n"
     ]
    }
   ],
   "source": [
    "# словарь в качестве ключей хранит имена игроков\n",
    "for player in quidditch_team:\n",
    "\n",
    "    # на каждой итерации будет напечатан ключ и значение\n",
    "    print(player, quidditch_team[player])"
   ]
  },
  {
   "cell_type": "code",
   "execution_count": 15,
   "id": "38e985b3",
   "metadata": {},
   "outputs": [],
   "source": [
    "school_years = quidditch_team.values()"
   ]
  },
  {
   "cell_type": "code",
   "execution_count": 16,
   "id": "75bc210e",
   "metadata": {},
   "outputs": [
    {
     "name": "stdout",
     "output_type": "stream",
     "text": [
      "3rd year\n",
      "3rd year\n",
      "1st year\n"
     ]
    }
   ],
   "source": [
    "# словарь в качестве значений хранит имена годы обучения\n",
    "for year in quidditch_team.values():\n",
    "\n",
    "    # на каждой итерации будет год обучения игрока\n",
    "    print(year)"
   ]
  },
  {
   "cell_type": "code",
   "execution_count": 17,
   "id": "358af964",
   "metadata": {},
   "outputs": [
    {
     "name": "stdout",
     "output_type": "stream",
     "text": [
      "Player Fred Weasley is in 3rd year\n",
      "Player George Weasley is in 3rd year\n",
      "Player Harry Potter is in 1st year\n"
     ]
    }
   ],
   "source": [
    "# сразу две переменные: первая последовательно будет ключами,\n",
    "# вторая -- значениями\n",
    "for player, year in quidditch_team.items():\n",
    "\n",
    "    # items() избавляет от необходимости обращаться quidditch_team[player],\n",
    "    # чтобы получить значение. Оно уже в year\n",
    "    print(f'Player {player} is in {year}')"
   ]
  },
  {
   "cell_type": "code",
   "execution_count": 18,
   "id": "cfcb73ee",
   "metadata": {},
   "outputs": [],
   "source": [
    "# вспомним про рабочие дни\n",
    "week = {7: 'weekend', 6: 'weekend', 1: 'workday'}\n",
    "\n",
    "# в sorted_week окажутся ключи, отсортированные в порядке возрастания\n",
    "sorted_week = sorted(week)\n",
    "\n",
    "# а тут -- наоборот\n",
    "reverse_sorted_week = reversed(week)"
   ]
  },
  {
   "cell_type": "code",
   "execution_count": 19,
   "id": "752ed2f2",
   "metadata": {},
   "outputs": [
    {
     "name": "stdout",
     "output_type": "stream",
     "text": [
      "0x7f34102dcd80\n"
     ]
    }
   ],
   "source": [
    "counter = 100\n",
    "\n",
    "# полученное вами значение адреса может отличаться\n",
    "print(hex(id(counter)))"
   ]
  },
  {
   "cell_type": "code",
   "execution_count": 20,
   "id": "26925da6",
   "metadata": {},
   "outputs": [
    {
     "name": "stdout",
     "output_type": "stream",
     "text": [
      "200 0x7f34102dda00\n"
     ]
    }
   ],
   "source": [
    "counter = 200\n",
    "print(counter, hex(id(counter)))"
   ]
  },
  {
   "cell_type": "code",
   "execution_count": 21,
   "id": "e3c123fe",
   "metadata": {},
   "outputs": [
    {
     "data": {
      "text/plain": [
       "True"
      ]
     },
     "execution_count": 21,
     "metadata": {},
     "output_type": "execute_result"
    }
   ],
   "source": [
    "# создадим две переменные с одинаковыми значениями в диапазоне от -5 до 256\n",
    "a = 20\n",
    "b = 20\n",
    "\n",
    "# a и b указывают на одно и то же место в памяти\n",
    "# попробуйте поменять значение a и b на число больше 256 или меньше -5\n",
    "id(a) == id(b)"
   ]
  },
  {
   "cell_type": "code",
   "execution_count": 22,
   "id": "b7489ddc",
   "metadata": {},
   "outputs": [
    {
     "name": "stdout",
     "output_type": "stream",
     "text": [
      "0x7f340ba3b740\n",
      "0x7f340ba3b740\n"
     ]
    }
   ],
   "source": [
    "# создадим список и напечатаем его адрес\n",
    "ratings = [1, 2, 3]\n",
    "print(hex(id(ratings)))\n",
    "ratings.append(4)\n",
    "print(hex(id(ratings)))"
   ]
  }
 ],
 "metadata": {
  "jupytext": {
   "formats": "md:myst",
   "text_representation": {
    "extension": ".md",
    "format_name": "myst"
   }
  },
  "kernelspec": {
   "display_name": "Python 3",
   "language": "python",
   "name": "python3"
  },
  "language_info": {
   "codemirror_mode": {
    "name": "ipython",
    "version": 3
   },
   "file_extension": ".py",
   "mimetype": "text/x-python",
   "name": "python",
   "nbconvert_exporter": "python",
   "pygments_lexer": "ipython3",
   "version": "3.8.11"
  },
  "source_map": [
   11,
   36,
   39,
   47,
   49,
   62,
   68,
   78,
   87,
   91,
   97,
   101,
   106,
   110,
   113,
   117,
   123,
   146,
   156,
   162,
   165,
   169,
   176,
   184,
   195,
   199,
   205,
   219,
   225,
   230,
   232,
   236,
   242,
   249,
   257,
   261,
   270,
   300,
   305,
   314,
   317,
   332,
   340,
   349,
   355
  ]
 },
 "nbformat": 4,
 "nbformat_minor": 5
}