{
 "cells": [
  {
   "cell_type": "code",
   "execution_count": 1,
   "id": "63372322",
   "metadata": {},
   "outputs": [
    {
     "name": "stdout",
     "output_type": "stream",
     "text": [
      "a = array([1, 2, 3])\n",
      "b = array([[0., 0.],\n",
      "       [0., 0.]])\n",
      "c = array([[1., 0., 0.],\n",
      "       [0., 1., 0.],\n",
      "       [0., 0., 1.]])\n",
      "q = array([[0.57082139, 0.36993029, 0.45401214, 0.33005512, 0.95674083,\n",
      "        0.56040096, 0.76824237, 0.38268489, 0.73166959, 0.87361145,\n",
      "        0.12698558, 0.92720012, 0.77417621, 0.78957571, 0.44840018,\n",
      "        0.00716917, 0.64616837, 0.19758688, 0.63979546, 0.59636372,\n",
      "        0.61757197, 0.22045616, 0.23542215, 0.90696162, 0.79538996,\n",
      "        0.47896193, 0.88868939, 0.41718578, 0.00407227, 0.71176224,\n",
      "        0.9534245 , 0.46106395, 0.21498149, 0.00511336, 0.90288084,\n",
      "        0.69911752, 0.46673178, 0.75085726, 0.9203732 , 0.88056869,\n",
      "        0.29311809, 0.4974451 , 0.06512541, 0.26783214, 0.5687371 ,\n",
      "        0.8912709 , 0.40351702, 0.52259953, 0.81962311, 0.7531149 ,\n",
      "        0.88216758, 0.16963851, 0.01449336, 0.83310114, 0.87939821,\n",
      "        0.77549904, 0.23409649, 0.85438279, 0.83709866, 0.95591167,\n",
      "        0.94138284, 0.91189771, 0.96388879, 0.38486917, 0.3454493 ,\n",
      "        0.66420765, 0.28559998, 0.11767726, 0.29117043, 0.71658991,\n",
      "        0.36149553, 0.78541404, 0.58577237, 0.22932507, 0.54185195,\n",
      "        0.17363579, 0.09979029, 0.95104471, 0.43015973, 0.47899484,\n",
      "        0.86167288, 0.07991797, 0.53486822, 0.578505  , 0.85162983,\n",
      "        0.93049196, 0.145157  , 0.847595  , 0.64200214, 0.13028915,\n",
      "        0.77803293, 0.38018961, 0.45421157, 0.24081315, 0.10410314,\n",
      "        0.14967679, 0.3123686 , 0.26248208, 0.86739447, 0.36548075]])\n"
     ]
    }
   ],
   "source": [
    "import numpy as np\n",
    "\n",
    "a = np.array([1, 2, 3]) # создадим вектор\n",
    "print(f\"{a = }\")\n",
    "\n",
    "b = np.zeros((2, 2))\n",
    "print(f\"{b = }\")\n",
    "\n",
    "c = np.eye(3)\n",
    "print(f\"{c = }\")\n",
    "\n",
    "q = np.random.random((1, 100))\n",
    "print(f\"{q = }\")"
   ]
  },
  {
   "cell_type": "code",
   "execution_count": 2,
   "id": "a36429cb",
   "metadata": {},
   "outputs": [
    {
     "name": "stdout",
     "output_type": "stream",
     "text": [
      "diff = array([ 2, -1, -1])\n",
      "mult = array([-1,  6, 12])\n",
      "scalar_mult = 17\n"
     ]
    }
   ],
   "source": [
    "a = np.array([1, 2, 3])\n",
    "b = np.array([-1, 3, 4])\n",
    "\n",
    "diff = a - b\n",
    "print(f\"{diff = }\")\n",
    "\n",
    "mult = a * b\n",
    "print(f\"{mult = }\")\n",
    "\n",
    "scalar_mult = a @ b\n",
    "print(f\"{scalar_mult = }\")"
   ]
  },
  {
   "cell_type": "code",
   "execution_count": 3,
   "id": "149acb81",
   "metadata": {},
   "outputs": [
    {
     "name": "stdout",
     "output_type": "stream",
     "text": [
      "a = array([[ 0,  1,  2,  3],\n",
      "       [ 4,  5,  6,  7],\n",
      "       [ 8,  9, 10, 11],\n",
      "       [12, 13, 14, 15]])\n",
      "a_(0, 1): a[0, 1] = 1, a[0][1] = 1\n",
      "a_{1,1..3} [1 2]\n",
      "a_2: a[2] = array([ 8,  9, 10, 11]), a[2, :] = array([ 8,  9, 10, 11]), a[2, ...] = array([ 8,  9, 10, 11])\n",
      "mask = array([[ True, False, False,  True],\n",
      "       [False, False,  True, False],\n",
      "       [False,  True, False, False],\n",
      "       [ True, False, False,  True]])\n",
      "a[mask] = array([ 0,  3,  6,  9, 12, 15])\n",
      "a[first_rows] = array([[0, 1, 2, 3],\n",
      "       [4, 5, 6, 7]])\n"
     ]
    }
   ],
   "source": [
    "a = np.arange(16).reshape(4, 4)\n",
    "print(f\"{a = }\")\n",
    "\n",
    "# просто по индексам\n",
    "print(f\"a_{0,1}: {a[0, 1] = }, {a[0][1] = }\")\n",
    "\n",
    "# по слайсам\n",
    "print(\"a_{1,1..3}\", a[0, 1:3])\n",
    "print(f\"a_{2}: {a[2] = }, {a[2, :] = }, {a[2, ...] = }\")\n",
    "\n",
    "# по маске\n",
    "mask = (a % 3 == 0)\n",
    "print(f\"{mask = }\")\n",
    "print(f\"{a[mask] = }\")\n",
    "\n",
    "first_rows = np.array([True, True, False, False])\n",
    "print(f\"{a[first_rows] = }\")"
   ]
  },
  {
   "cell_type": "code",
   "execution_count": 4,
   "id": "1787f098",
   "metadata": {},
   "outputs": [
    {
     "name": "stdout",
     "output_type": "stream",
     "text": [
      "a = array([[ 0,  1,  2,  3],\n",
      "       [ 4,  5,  6,  7],\n",
      "       [ 8,  9, 10, 11],\n",
      "       [12, 13, 14, 15]])\n",
      "a[None].shape = (1, 4, 4)\n",
      "a[:, :, None].shape = (4, 4, 1)\n",
      "a[2, :] = array([ 8,  9, 10, 11])\n",
      "a[2, 0:None] = array([ 8,  9, 10, 11])\n",
      "a[...] = array([[ 0,  1,  2,  3],\n",
      "       [ 4,  5,  6,  7],\n",
      "       [ 8,  9, 10, 11],\n",
      "       [12, 13, 14, 15]])\n",
      "z[0, ..., 1] = array([1, 4, 7]), z[0, :, 1] = array([1, 4, 7])\n"
     ]
    }
   ],
   "source": [
    "a = np.arange(16).reshape(4, 4)\n",
    "print(f\"{a = }\")\n",
    "\n",
    "# None добавляет ось размерности 1\n",
    "print(f\"{a[None].shape = }\")\n",
    "print(f\"{a[:, :, None].shape = }\")\n",
    "\n",
    "# : превращается в slice (None), берет все элементы вдоль размерности\n",
    "print(f\"{a[2, :] = }\")\n",
    "print(f\"{a[2, 0:None] = }\")\n",
    "\n",
    "# ... ellipsis, превращается в необходимое число двоеточий :,:,:\n",
    "print(f\"{a[...] = }\")\n",
    "\n",
    "# также ... удобен когда мы не знаем настоящий шейп массива или нужно не трогать несколько подряд идущих размерностей\n",
    "z = np.arange(27).reshape(3, 3, 3)\n",
    "print(f\"{z[0, ..., 1] = }, {z[0, :, 1] = }\")"
   ]
  },
  {
   "cell_type": "code",
   "execution_count": 5,
   "id": "c968c7d0",
   "metadata": {},
   "outputs": [
    {
     "name": "stdout",
     "output_type": "stream",
     "text": [
      "element = 3\n",
      "a = array([1, 2, 5])\n"
     ]
    }
   ],
   "source": [
    "a = np.array([1, 2, 3])\n",
    "element = a[2]\n",
    "print(f\"{element = }\")\n",
    "\n",
    "a[2] = 5\n",
    "print(f\"{a = }\")"
   ]
  },
  {
   "cell_type": "code",
   "execution_count": 6,
   "id": "dc4b88c1",
   "metadata": {},
   "outputs": [
    {
     "name": "stdout",
     "output_type": "stream",
     "text": [
      "selection = (array([0, 1]),)\n",
      "a2 = array([ 2,  2, 12, 16])\n",
      "b_mult = array([[1, 1, 2, 1],\n",
      "       [0, 1, 3, 1]])\n"
     ]
    }
   ],
   "source": [
    "# создадим вектор\n",
    "a = np.array([2, 4, 6, 8])\n",
    "\n",
    "selection = np.where(a < 5)\n",
    "print(f\"{selection = }\")\n",
    "\n",
    "# дополнительно мы можем передать два значения или вектора, при выполнении условия выбираются элементы из первого значения/вектора, при невыполнении - из второго\n",
    "a2 = np.where(a < 5, 2, a * 2)\n",
    "print(f\"{a2 = }\")\n",
    "\n",
    "# np.where работает и с многомерными массивами\n",
    "b = np.array([[8, 8, 2, 6], [0, 5, 3, 4]])\n",
    "b_mult = np.where(b < 4, b, 1)\n",
    "print(f\"{b_mult = }\")"
   ]
  },
  {
   "cell_type": "code",
   "execution_count": 7,
   "id": "b0589b02",
   "metadata": {},
   "outputs": [
    {
     "name": "stdout",
     "output_type": "stream",
     "text": [
      "broad = array([2, 4, 6])\n"
     ]
    }
   ],
   "source": [
    "a = np.array([1, 2, 3])\n",
    "k = 2\n",
    "broad = a * k\n",
    "print(f\"{broad = }\")"
   ]
  },
  {
   "cell_type": "code",
   "execution_count": 8,
   "id": "65603e3d",
   "metadata": {},
   "outputs": [
    {
     "name": "stdout",
     "output_type": "stream",
     "text": [
      "broad = array([-1,  0,  1])\n"
     ]
    }
   ],
   "source": [
    "a = np.array([1, 2, 3])\n",
    "k = 2\n",
    "broad = a - k\n",
    "print(f\"{broad = }\")"
   ]
  },
  {
   "cell_type": "code",
   "execution_count": 9,
   "id": "a2989ad7",
   "metadata": {},
   "outputs": [
    {
     "name": "stdout",
     "output_type": "stream",
     "text": [
      "f16 = 0.1, f32 = 0.099975586, f64 = 0.0999755859375\n",
      "f16 == f32 == f64 = True\n",
      "f16 = 0.1, f32 = 0.1, f64 = 0.1\n",
      "False\n"
     ]
    }
   ],
   "source": [
    "f16 = np.float16(\"0.1\")\n",
    "f32 = np.float32(f16)\n",
    "f64 = np.float64(f32)\n",
    "print(f\"{f16 = }, {f32 = }, {f64 = }\")\n",
    "print(f\"{f16 == f32 == f64 = }\")\n",
    "\n",
    "f16 = np.float16(\"0.1\")\n",
    "f32 = np.float32(\"0.1\")\n",
    "f64 = np.float64(\"0.1\")\n",
    "print(f\"{f16 = }, {f32 = }, {f64 = }\")\n",
    "print(f16 == f32 == f64)"
   ]
  },
  {
   "cell_type": "code",
   "execution_count": 10,
   "id": "d4f24503",
   "metadata": {},
   "outputs": [
    {
     "name": "stdout",
     "output_type": "stream",
     "text": [
      "np.allclose([1e10,1e-7], [1.00001e10,1e-8]) = False\n",
      "np.allclose([1e10,1e-8], [1.00001e10,1e-9]) = True\n"
     ]
    }
   ],
   "source": [
    "print(f\"{np.allclose([1e10,1e-7], [1.00001e10,1e-8]) = }\")\n",
    "print(f\"{np.allclose([1e10,1e-8], [1.00001e10,1e-9]) = }\")"
   ]
  },
  {
   "cell_type": "code",
   "execution_count": 11,
   "id": "ebda994c",
   "metadata": {},
   "outputs": [
    {
     "name": "stdout",
     "output_type": "stream",
     "text": [
      "solution = array([ 1.4, -1.2])\n"
     ]
    }
   ],
   "source": [
    "a = np.array([[7, 4], [9, 8]])\n",
    "b = np.array([5, 3])\n",
    "solution = np.linalg.solve(a, b)\n",
    "print(f\"{solution = }\")"
   ]
  },
  {
   "cell_type": "code",
   "execution_count": 12,
   "id": "dfa04b57",
   "metadata": {},
   "outputs": [
    {
     "name": "stdout",
     "output_type": "stream",
     "text": [
      "inv = array([[-2. ,  1. ],\n",
      "       [ 1.5, -0.5]])\n"
     ]
    }
   ],
   "source": [
    "a = np.array([[1., 2.], [3., 4.]])\n",
    "inv = np.linalg.inv(a)\n",
    "print(f\"{inv = }\")"
   ]
  },
  {
   "cell_type": "code",
   "execution_count": 13,
   "id": "bce5f938",
   "metadata": {},
   "outputs": [
    {
     "name": "stdout",
     "output_type": "stream",
     "text": [
      "(array([1., 2., 3.]), array([[1., 0., 0.],\n",
      "       [0., 1., 0.],\n",
      "       [0., 0., 1.]]))\n"
     ]
    }
   ],
   "source": [
    "print(np.linalg.eig(np.diag((1, 2, 3))))"
   ]
  }
 ],
 "metadata": {
  "jupytext": {
   "formats": "md:myst",
   "text_representation": {
    "extension": ".md",
    "format_name": "myst"
   }
  },
  "kernelspec": {
   "display_name": "Python 3",
   "language": "python",
   "name": "python3"
  },
  "language_info": {
   "codemirror_mode": {
    "name": "ipython",
    "version": 3
   },
   "file_extension": ".py",
   "mimetype": "text/x-python",
   "name": "python",
   "nbconvert_exporter": "python",
   "pygments_lexer": "ipython3",
   "version": "3.8.12"
  },
  "source_map": [
   11,
   22,
   36,
   42,
   54,
   61,
   79,
   83,
   101,
   105,
   112,
   116,
   131,
   138,
   143,
   147,
   152,
   175,
   187,
   191,
   194,
   207,
   212,
   218,
   222,
   228,
   230
  ]
 },
 "nbformat": 4,
 "nbformat_minor": 5
}