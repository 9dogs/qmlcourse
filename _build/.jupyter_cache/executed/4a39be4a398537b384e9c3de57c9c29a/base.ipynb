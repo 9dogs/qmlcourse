{
 "cells": [
  {
   "cell_type": "code",
   "execution_count": 1,
   "id": "1977a699",
   "metadata": {},
   "outputs": [
    {
     "name": "stdout",
     "output_type": "stream",
     "text": [
      "{'Кунг Фьюри': '1968-09-09', 'Наташа Романова': '1985-03-15'}\n"
     ]
    }
   ],
   "source": [
    "# локально попробуйте поменять значение переменной dates\n",
    "dates = {\"Кунг Фьюри\": \"1968-09-09\", \"Наташа Романова\": \"1985-03-15\"}\n",
    "print(dates)"
   ]
  },
  {
   "cell_type": "code",
   "execution_count": 2,
   "id": "8c92b244",
   "metadata": {},
   "outputs": [
    {
     "data": {
      "text/plain": [
       "'1968-09-09'"
      ]
     },
     "execution_count": 2,
     "metadata": {},
     "output_type": "execute_result"
    }
   ],
   "source": [
    "dates[\"Кунг Фьюри\"]"
   ]
  },
  {
   "cell_type": "code",
   "execution_count": 3,
   "id": "4df69a1f",
   "metadata": {},
   "outputs": [
    {
     "name": "stdout",
     "output_type": "stream",
     "text": [
      "Ключа действительно нет: 'Капитан Ямайка'\n"
     ]
    }
   ],
   "source": [
    "# пока этого ключа нет в словаре, будет ошибка при обращении\n",
    "# поэтому используем перехват ошибок\n",
    "try:\n",
    "    print(dates[\"Капитан Ямайка\"])\n",
    "\n",
    "except KeyError as e:\n",
    "    print(f\"Ключа действительно нет: {e}\")"
   ]
  },
  {
   "cell_type": "code",
   "execution_count": 4,
   "id": "c7922193",
   "metadata": {},
   "outputs": [],
   "source": [
    "# этот ключ уже был в примере\n",
    "dates[\"Кунг Фьюри\"] = \"1960-09-09\"\n",
    "\n",
    "# а такого не было\n",
    "dates[\"Капитан Ямайка\"] = \"1930-10-04\""
   ]
  },
  {
   "cell_type": "code",
   "execution_count": 5,
   "id": "038cc75c",
   "metadata": {},
   "outputs": [
    {
     "name": "stdout",
     "output_type": "stream",
     "text": [
      "\"матан\" in marks = False\n",
      "True\n"
     ]
    }
   ],
   "source": [
    "# еще способ создания: пары можно передавать как аргументы dict через `=`\n",
    "marks = dict(линал=100, английский=92)\n",
    "\n",
    "# False\n",
    "print(f'{\"матан\" in marks = }')\n",
    "\n",
    "# True\n",
    "print(f'{\"линал\" in marks}')"
   ]
  },
  {
   "cell_type": "code",
   "execution_count": 6,
   "id": "673be668",
   "metadata": {},
   "outputs": [
    {
     "name": "stdout",
     "output_type": "stream",
     "text": [
      "Нет оценки по матану :(\n"
     ]
    }
   ],
   "source": [
    "if \"матан\" in marks:\n",
    "    print(marks[\"матан\"])\n",
    "\n",
    "else:\n",
    "    print(\"Нет оценки по матану :(\")"
   ]
  },
  {
   "cell_type": "code",
   "execution_count": 7,
   "id": "e5dc4726",
   "metadata": {},
   "outputs": [
    {
     "name": "stdout",
     "output_type": "stream",
     "text": [
      "None\n"
     ]
    }
   ],
   "source": [
    "empty_dict = {}\n",
    "\n",
    "# None\n",
    "print(empty_dict.get(\"ключ\"))"
   ]
  },
  {
   "cell_type": "code",
   "execution_count": 8,
   "id": "37384e6f",
   "metadata": {},
   "outputs": [
    {
     "name": "stdout",
     "output_type": "stream",
     "text": [
      "-1\n"
     ]
    }
   ],
   "source": [
    "# теперь будет возвращено значение -1\n",
    "print(empty_dict.get(\"ключ\", -1))"
   ]
  },
  {
   "cell_type": "code",
   "execution_count": 9,
   "id": "94568ade",
   "metadata": {},
   "outputs": [
    {
     "name": "stdout",
     "output_type": "stream",
     "text": [
      "0\n",
      "2\n"
     ]
    }
   ],
   "source": [
    "# empty_dict -- пустой словарь, поэтому длина равна 0\n",
    "print(f\"{len(empty_dict)}\")\n",
    "\n",
    "# а вот словарь marks уже содержит две пары, поэтому длина 2\n",
    "print(f\"{len(marks)}\")"
   ]
  },
  {
   "cell_type": "code",
   "execution_count": 10,
   "id": "e9593d98",
   "metadata": {},
   "outputs": [
    {
     "name": "stdout",
     "output_type": "stream",
     "text": [
      "None\n"
     ]
    }
   ],
   "source": [
    "# из словаря dates удаляется ключ \"Наташа Романова\"\n",
    "del dates[\"Наташа Романова\"]\n",
    "print(dates.get(\"Наташа Романова\"))"
   ]
  },
  {
   "cell_type": "code",
   "execution_count": 11,
   "id": "9874d021",
   "metadata": {},
   "outputs": [
    {
     "name": "stdout",
     "output_type": "stream",
     "text": [
      "[1, 2, 3, 4]\n"
     ]
    }
   ],
   "source": [
    "# еще один способ создания словаря из последовательности пар\n",
    "holidays = dict([(\"January\", [1, 2, 3, 4]), (\"Feburary\", [23]), (\"March\", [8])])\n",
    "\n",
    "# pop() возвращает значение, соответствующее ключу, значит его можно присвоить\n",
    "# переменной\n",
    "january_days = holidays.pop(\"January\")\n",
    "\n",
    "# напечатается соответствующий массив\n",
    "print(january_days)"
   ]
  },
  {
   "cell_type": "code",
   "execution_count": 12,
   "id": "f8f67ed5",
   "metadata": {},
   "outputs": [
    {
     "name": "stdout",
     "output_type": "stream",
     "text": [
      "('March', [8])\n"
     ]
    }
   ],
   "source": [
    "# в результате -- последняя добавленная пара\n",
    "print(holidays.popitem())"
   ]
  },
  {
   "cell_type": "code",
   "execution_count": 13,
   "id": "00065752",
   "metadata": {},
   "outputs": [
    {
     "name": "stdout",
     "output_type": "stream",
     "text": [
      "0\n"
     ]
    }
   ],
   "source": [
    "# вернемся к предыдущему примеру\n",
    "# словарь становится пустой\n",
    "holidays.clear()\n",
    "\n",
    "# значит, длина равна 0\n",
    "print(len(holidays))"
   ]
  },
  {
   "cell_type": "code",
   "execution_count": 14,
   "id": "af57f1ad",
   "metadata": {},
   "outputs": [
    {
     "name": "stdout",
     "output_type": "stream",
     "text": [
      "1st year\n"
     ]
    }
   ],
   "source": [
    "# создадим два словаря: в первом уже есть два ключа\n",
    "quidditch_team = {\"Fred Weasley\": \"3rd year\", \"George Weasley\": \"3rd year\"}\n",
    "\n",
    "# во втором -- один ключ\n",
    "new_members = {\"Harry Potter\": \"1st year\"}\n",
    "\n",
    "# добавим пары из new_members\n",
    "# метод update() также работает in place, поэтому после выполнения данной\n",
    "# строки кода, в словаре quidditch_team станет три ключа\n",
    "quidditch_team.update(new_members)\n",
    "\n",
    "print(quidditch_team[\"Harry Potter\"])"
   ]
  },
  {
   "cell_type": "code",
   "execution_count": 15,
   "id": "9f34bedb",
   "metadata": {},
   "outputs": [
    {
     "name": "stdout",
     "output_type": "stream",
     "text": [
      "1st year\n"
     ]
    }
   ],
   "source": [
    "# данный ключ (то, что записано первым в кортеже) уже есть в quidditch_team\n",
    "member_update = [(\"Harry Potter\", \"2nd year\")]\n",
    "\n",
    "# значение, соответствующее \"Harry Potter\", будет переписано\n",
    "quidditch_team.update(new_members)\n",
    "\n",
    "print(quidditch_team[\"Harry Potter\"])"
   ]
  },
  {
   "cell_type": "code",
   "execution_count": 16,
   "id": "8ea73194",
   "metadata": {},
   "outputs": [
    {
     "name": "stdout",
     "output_type": "stream",
     "text": [
      "Fred Weasley 3rd year\n",
      "George Weasley 3rd year\n",
      "Harry Potter 1st year\n"
     ]
    }
   ],
   "source": [
    "# словарь в качестве ключей хранит имена игроков\n",
    "for player in quidditch_team:\n",
    "\n",
    "    # на каждой итерации будет напечатан ключ и значение\n",
    "    print(player, quidditch_team[player])"
   ]
  },
  {
   "cell_type": "code",
   "execution_count": 17,
   "id": "ffcfd285",
   "metadata": {},
   "outputs": [],
   "source": [
    "# можно создать переменную со всеми значениями словаря\n",
    "school_years = quidditch_team.values()"
   ]
  },
  {
   "cell_type": "code",
   "execution_count": 18,
   "id": "5c328a0d",
   "metadata": {},
   "outputs": [
    {
     "name": "stdout",
     "output_type": "stream",
     "text": [
      "3rd year\n",
      "3rd year\n",
      "1st year\n"
     ]
    }
   ],
   "source": [
    "# словарь в качестве значений хранит годы обучения\n",
    "for year in quidditch_team.values():\n",
    "\n",
    "    # на каждой итерации будет год обучения игрока\n",
    "    print(year)"
   ]
  },
  {
   "cell_type": "code",
   "execution_count": 19,
   "id": "a2ea13b8",
   "metadata": {},
   "outputs": [
    {
     "name": "stdout",
     "output_type": "stream",
     "text": [
      "Player Fred Weasley is in 3rd year\n",
      "Player George Weasley is in 3rd year\n",
      "Player Harry Potter is in 1st year\n"
     ]
    }
   ],
   "source": [
    "# сразу две переменные: первая последовательно будет ключами,\n",
    "# вторая -- значениями\n",
    "for player, year in quidditch_team.items():\n",
    "\n",
    "    # items() избавляет от необходимости обращаться quidditch_team[player],\n",
    "    # чтобы получить значение. Оно уже в year\n",
    "    print(f\"Player {player} is in {year}\")"
   ]
  },
  {
   "cell_type": "code",
   "execution_count": 20,
   "id": "a454392d",
   "metadata": {},
   "outputs": [
    {
     "name": "stdout",
     "output_type": "stream",
     "text": [
      "Порядок возрастания: [1, 6, 7]\n"
     ]
    }
   ],
   "source": [
    "# вспомним про рабочие дни\n",
    "week = {7: \"weekend\", 6: \"weekend\", 1: \"workday\"}\n",
    "\n",
    "# в sorted_week окажутся ключи, отсортированные в порядке возрастания\n",
    "sorted_week = sorted(week)\n",
    "print(f\"Порядок возрастания: {sorted_week}\")"
   ]
  },
  {
   "cell_type": "code",
   "execution_count": 21,
   "id": "7a2c17c0",
   "metadata": {},
   "outputs": [
    {
     "name": "stdout",
     "output_type": "stream",
     "text": [
      "100 0x7f958f09ed80\n"
     ]
    }
   ],
   "source": [
    "counter = 100\n",
    "\n",
    "# полученное вами значение адреса может отличаться\n",
    "print(counter, hex(id(counter)))"
   ]
  },
  {
   "cell_type": "code",
   "execution_count": 22,
   "id": "8c8f975e",
   "metadata": {},
   "outputs": [
    {
     "name": "stdout",
     "output_type": "stream",
     "text": [
      "counter = 200, hex(id(counter)) = '0x7f958f09fa00'\n"
     ]
    }
   ],
   "source": [
    "counter = 200\n",
    "print(f'{counter = }, {hex(id(counter)) = }')"
   ]
  },
  {
   "cell_type": "code",
   "execution_count": 23,
   "id": "eb75b380",
   "metadata": {},
   "outputs": [
    {
     "data": {
      "text/plain": [
       "True"
      ]
     },
     "execution_count": 23,
     "metadata": {},
     "output_type": "execute_result"
    }
   ],
   "source": [
    "# создадим две переменные с одинаковыми значениями в диапазоне от -5 до 256\n",
    "a = 20\n",
    "b = 20\n",
    "\n",
    "# a и b указывают на одно и то же место в памяти\n",
    "# попробуйте у себя поменять значение a и b на число больше 256 или меньше -5\n",
    "id(a) == id(b)"
   ]
  },
  {
   "cell_type": "code",
   "execution_count": 24,
   "id": "201bd4fd",
   "metadata": {},
   "outputs": [
    {
     "name": "stdout",
     "output_type": "stream",
     "text": [
      "Было: 0x7f9584d677c0\n",
      "Стало: 0x7f9584d677c0 - ничего не поменялось!\n"
     ]
    }
   ],
   "source": [
    "# создадим список и напечатаем его адрес\n",
    "ratings = [1, 2, 3]\n",
    "print(f\"Было: {hex(id(ratings))}\")\n",
    "\n",
    "ratings.append(4)\n",
    "print(f\"Стало: {hex(id(ratings))} - ничего не поменялось!\")"
   ]
  },
  {
   "cell_type": "code",
   "execution_count": 25,
   "id": "42639e95",
   "metadata": {},
   "outputs": [
    {
     "name": "stdout",
     "output_type": "stream",
     "text": [
      "flowers = {'roses': 'red', 'violets': 'blue'}\n",
      "anime = {'Ведьмак': 'Кошмар волка', 'Призрак в доспехах': ['Призрак в доспехах', 'Синдром одиночки', 'Невинность']}\n",
      "literature = {'poem_flowers': {'roses': 'red', 'violets': 'blue'}}\n"
     ]
    }
   ],
   "source": [
    "# при помощи \"литерала\" - фигурных скобок {}\n",
    "flowers = {\"roses\": \"red\", \"violets\": \"blue\"}\n",
    "\n",
    "# при помощи вызова\n",
    "#   dict() и последовательности с парами значений\n",
    "anime = dict([(\"Ведьмак\", \"Кошмар волка\"),\n",
    "(\"Призрак в доспехах\", [\"Призрак в доспехах\", \"Синдром одиночки\", \"Невинность\"])])\n",
    "\n",
    "#   dict() и \"ключ=значение\"\n",
    "literature = dict(poem_flowers=flowers)\n",
    "\n",
    "print(f\"{flowers = }\\n{anime = }\\n{literature = }\")"
   ]
  },
  {
   "cell_type": "code",
   "execution_count": 26,
   "id": "4bfe3769",
   "metadata": {},
   "outputs": [
    {
     "name": "stdout",
     "output_type": "stream",
     "text": [
      "blue\n",
      "None\n"
     ]
    }
   ],
   "source": [
    "# доступ к элементу, если ключа нет - ошибка\n",
    "print(flowers[\"violets\"])\n",
    "\n",
    "# при помощи get()\n",
    "print(flowers.get(\"magnolias\"))"
   ]
  },
  {
   "cell_type": "code",
   "execution_count": 27,
   "id": "80167f5b",
   "metadata": {},
   "outputs": [
    {
     "name": "stdout",
     "output_type": "stream",
     "text": [
      "Ключи: dict_keys([0, 1, 2, 3, 4])\n",
      "Значения: dict_values(['Пн', 'Вт', 'Ср', 'Чт', 'Пт'])\n"
     ]
    }
   ],
   "source": [
    "days = [\"Пн\", \"Вт\", \"Ср\", \"Чт\", \"Пт\"]\n",
    "\n",
    "# создадим пустой словарь\n",
    "numbered_days = {}\n",
    "\n",
    "# будем добавлять в него элементы в цикле\n",
    "for num in range(len(days)):\n",
    "    numbered_days[num] = days[num]\n",
    "\n",
    "# получим отдельно ключи и значения\n",
    "# пары из tuple можно сразу получить при помощи метода items()\n",
    "keys = numbered_days.keys()\n",
    "values = numbered_days.values()\n",
    "\n",
    "print(f\"Ключи: {keys}\\nЗначения: {values}\")"
   ]
  }
 ],
 "metadata": {
  "jupytext": {
   "formats": "md:myst",
   "text_representation": {
    "extension": ".md",
    "format_name": "myst"
   }
  },
  "kernelspec": {
   "display_name": "Python 3",
   "language": "python",
   "name": "python3"
  },
  "language_info": {
   "codemirror_mode": {
    "name": "ipython",
    "version": 3
   },
   "file_extension": ".py",
   "mimetype": "text/x-python",
   "name": "python",
   "nbconvert_exporter": "python",
   "pygments_lexer": "ipython3",
   "version": "3.8.12"
  },
  "source_map": [
   11,
   37,
   41,
   49,
   51,
   55,
   63,
   69,
   75,
   85,
   94,
   98,
   104,
   108,
   113,
   117,
   120,
   124,
   130,
   145,
   149,
   153,
   163,
   169,
   172,
   176,
   183,
   194,
   207,
   211,
   219,
   234,
   240,
   245,
   248,
   252,
   258,
   265,
   273,
   277,
   284,
   314,
   319,
   328,
   331,
   344,
   352,
   361,
   368,
   391,
   404,
   408,
   417,
   433
  ]
 },
 "nbformat": 4,
 "nbformat_minor": 5
}