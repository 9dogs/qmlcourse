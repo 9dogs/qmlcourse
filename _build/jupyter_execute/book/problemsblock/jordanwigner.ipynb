{
 "cells": [
  {
   "cell_type": "markdown",
   "id": "71cf1acf",
   "metadata": {},
   "source": [
    "(quantchembasic)=\n",
    "\n",
    "# Преобразование Жордана-Вигнера\n",
    "\n",
    "## Описание лекции\n",
    "\n",
    "\n",
    "## Введение\n",
    "\n",
    "## Спины, фермионы и бозоны\n",
    "\n",
    "## Переход от спинов к фермионам\n",
    "\n",
    "Мы можем попробовать сопоставить спину фермион сказав что спин вверх значит что фермион есть, а спин вниз -- что его нет.\n",
    "Тогда лестничные операторы $\\sigma^+$ и $\\sigma^-$ выполняют функцию операторов создания и разрушения. \n",
    "Действительно, на одной вершине эти операторы выполняют фермионное антикоммутационное отношение\n",
    "$$ \\{ \\sigma^+_j, \\sigma^-_j} = 1. $$\n",
    "\n",
    "К сожалению, на разных вершинах эти операторы коммутируют, а не антикоммутируют. Чтобы это исправить, мы \"прикрепляем\"\n",
    "к каждому спину \"нить\":\n",
    "$$\\sigma^+_i = \\left[ \\prod_{j_i} (1-2c^\\dagger_j c_j) \\right] c_i$$"
   ]
  }
 ],
 "metadata": {
  "jupytext": {
   "formats": "md:myst",
   "text_representation": {
    "extension": ".md",
    "format_name": "myst"
   }
  },
  "kernelspec": {
   "display_name": "Python 3",
   "language": "python",
   "name": "python3"
  },
  "language_info": {
   "codemirror_mode": {
    "name": "ipython",
    "version": 3
   },
   "file_extension": ".py",
   "mimetype": "text/x-python",
   "name": "python",
   "nbconvert_exporter": "python",
   "pygments_lexer": "ipython3",
   "version": "3.8.12"
  },
  "source_map": [
   11
  ]
 },
 "nbformat": 4,
 "nbformat_minor": 5
}