{
 "cells": [
  {
   "cell_type": "markdown",
   "id": "02e04331",
   "metadata": {},
   "source": [
    "(numpy)=\n",
    "# Numpy\n",
    "\n",
    "Широко используемая библиотека для вычислений с многомерными массивами. API большей частью вдохновлен MATLABом (великая и ужасная среда, язык и IDE для матричных вычислений), а теперь сам является примером для подражания API различных вычислительных пакетов.\n",
    "Более последовательный гайд стоит посмотреть на [сайте библиотеки](https://numpy.org/devdocs/user)\n",
    "\n",
    "\n",
    "## Массивы"
   ]
  },
  {
   "cell_type": "code",
   "execution_count": null,
   "id": "04e0984d",
   "metadata": {},
   "outputs": [],
   "source": [
    "import numpy as np\n",
    "\n",
    "a = np.array([1, 2, 3]) # создадим вектор\n",
    "print(f\"{a = }\")\n",
    "\n",
    "b = np.zeros((2, 2))\n",
    "print(f\"{b = }\")\n",
    "\n",
    "c = np.eye(3)\n",
    "print(f\"{c = }\")\n",
    "\n",
    "q = np.random.random((1, 100))\n",
    "print(f\"{q = }\")"
   ]
  },
  {
   "cell_type": "markdown",
   "id": "bfff122c",
   "metadata": {},
   "source": [
    "## Math ops\n",
    "Для удобства использования np.ndarray определены арифметические операторы, так чтобы соответствовать ожиданиям:"
   ]
  },
  {
   "cell_type": "code",
   "execution_count": null,
   "id": "f8cebef9",
   "metadata": {},
   "outputs": [],
   "source": [
    "a = np.array([1, 2, 3])\n",
    "b = np.array([-1, 3, 4])\n",
    "\n",
    "diff = a - b\n",
    "print(f\"{diff = }\")\n",
    "\n",
    "mult = a * b\n",
    "print(f\"{mult = }\")\n",
    "\n",
    "scalar_mult = a @ b\n",
    "print(f\"{scalar_mult = }\")"
   ]
  },
  {
   "cell_type": "markdown",
   "id": "e39b0a2e",
   "metadata": {},
   "source": [
    "## Indexing, slicing and sugar\n",
    "\n",
    "Numpy поддерживает кажется все разумные варианты индексации:"
   ]
  },
  {
   "cell_type": "code",
   "execution_count": null,
   "id": "36987cea",
   "metadata": {},
   "outputs": [],
   "source": [
    "a = np.arange(16).reshape(4, 4)\n",
    "print(f\"{a = }\")\n",
    "\n",
    "# просто по индексам\n",
    "print(f\"a_{0,1}: {a[0, 1] = }, {a[0][1] = }\")\n",
    "\n",
    "# по слайсам\n",
    "print(\"a_{1,1..3}\", a[0, 1:3])\n",
    "print(f\"a_{2}: {a[2] = }, {a[2, :] = }, {a[2, ...] = }\")\n",
    "\n",
    "# по маске\n",
    "mask = (a % 3 == 0)\n",
    "print(f\"{mask = }\")\n",
    "print(f\"{a[mask] = }\")\n",
    "\n",
    "first_rows = np.array([True, True, False, False])\n",
    "print(f\"{a[first_rows] = }\")"
   ]
  },
  {
   "cell_type": "markdown",
   "id": "4a527795",
   "metadata": {},
   "source": [
    "Для работы с размерностями часто используются еще три конструкции: `None`, `...` (ellipsis, многоточие) и `:` (двоеточие)."
   ]
  },
  {
   "cell_type": "code",
   "execution_count": null,
   "id": "a697ae1e",
   "metadata": {},
   "outputs": [],
   "source": [
    "print(f\"{a = }\")\n",
    "\n",
    "# None добавляет ось размерности 1\n",
    "print(f\"{a[None].shape = \"})\n",
    "print(f\"{a[:, :, None].shape = }\")\n",
    "\n",
    "# : превращается в slice (None), берет все элементы вдоль размерности\n",
    "print(f\"{a[2, :] = \"})\n",
    "print(f\"a[2, 0:None] = }\")\n",
    "\n",
    "# ... ellipsis, превращается в необходимое число двоеточий :,:,:\n",
    "print(f\"{a[...] = }\")\n",
    "\n",
    "# также ... удобен когда мы не знаем настоящий шейп массива или нужно не трогать несколько подряд идущих размерностей\n",
    "z = np.arange(27).reshape(3, 3, 3)\n",
    "print(f\"{z[0, ..., 1] = }, {z[0, :, 1] = }\")"
   ]
  },
  {
   "cell_type": "markdown",
   "id": "17035154",
   "metadata": {},
   "source": [
    "В целом, в numpy очень здорово реализованы методы `__getitem__`/`__setitem__`."
   ]
  },
  {
   "cell_type": "code",
   "execution_count": null,
   "id": "e5ab4f24",
   "metadata": {},
   "outputs": [],
   "source": [
    "a = np.array([1, 2, 3])\n",
    "element = a[2]\n",
    "print(f\"{element = }\")\n",
    "\n",
    "a[2] = 5\n",
    "print(f\"{a = }\")"
   ]
  },
  {
   "cell_type": "markdown",
   "id": "417679d2",
   "metadata": {},
   "source": [
    "Кроме того, мы можем делать индексацию по заданному условию с помощью `np.where`"
   ]
  },
  {
   "cell_type": "code",
   "execution_count": null,
   "id": "3a453b27",
   "metadata": {},
   "outputs": [],
   "source": [
    "# создадим вектор\n",
    "a = np.array([2, 4, 6, 8])\n",
    "\n",
    "selection = np.where(a < 5)\n",
    "print(f\"{selection = }\")\n",
    "\n",
    "# дополнительно мы можем передать два значения или вектора, при выполнении условия выбираются элементы из первого значения/вектора, при невыполнении - из второго\n",
    "a2 = np.where(a < 5, 2, a * 2)\n",
    "print(f\"{a2 = }\")\n",
    "\n",
    "# np.where работает и с многомерными массивами\n",
    "b = np.array([[8, 8, 2, 6], [0, 5, 3, 4]])\n",
    "b_mult = np.where(b < 4, b, 1)\n",
    "print(f\"{b_mult = }\")"
   ]
  },
  {
   "cell_type": "markdown",
   "id": "c397d2aa",
   "metadata": {},
   "source": [
    "## Broadcasting\n",
    "\n",
    "Что происходит, если мы хотим арифметику с массивами разных размеров?"
   ]
  },
  {
   "cell_type": "code",
   "execution_count": null,
   "id": "b2f8e387",
   "metadata": {},
   "outputs": [],
   "source": [
    "a = np.array([1, 2, 3])\n",
    "k = 2\n",
    "broad = a * k\n",
    "print(f\"{broad = }\")"
   ]
  },
  {
   "cell_type": "markdown",
   "id": "480c104b",
   "metadata": {},
   "source": [
    "С точки зрения математики, ничего интересного тут не происходит: мы подразумевали умножение всего вектора на скаляр. Однако матричные операции в numpy справляются и с менее очевидными случаями, например при сложении или вычитании вектора и скаляра:"
   ]
  },
  {
   "cell_type": "code",
   "execution_count": null,
   "id": "17764b75",
   "metadata": {},
   "outputs": [],
   "source": [
    "a = np.array([1, 2, 3])\n",
    "k = 2\n",
    "broad = a - k\n",
    "print(f\"{broad = }\")"
   ]
  },
  {
   "cell_type": "markdown",
   "id": "4f53bdc6",
   "metadata": {},
   "source": [
    "В numpy приняты следующие правила работы с массивами разного размера:\n",
    "\n",
    "1. Размерности сравниваются справа налево\n",
    "2. Два массива совместимы в размерности, если она одинаковая, либо у одного из массивов единичная.\n",
    "3. Вдоль отсутствующих размерностей происходит расширение повторением (`np.repeat`).\n",
    "\n",
    "![.](https://i.stack.imgur.com/JcKv1.png)\n",
    "\n",
    "```{admonition} Link to the source\n",
    "https://mathematica.stackexchange.com/questions/99171/how-to-implement-the-general-array-broadcasting-method-from-numpy\n",
    "```\n",
    "\n",
    "Be aware, автоматический броадкастинг легко приводит к ошибкам, так что лучше делать его самостоятельно в явной форме.\n",
    "\n",
    "\n",
    "## floating point things\n",
    "\n",
    "Отдельно стоит поговорить про числа с плавающей точкой.\n",
    "Число с плавающей запятой (или число с плавающей точкой) — экспоненциальная форма представления вещественных (действительных) чисел, в которой число хранится в виде мантиссы и порядка (показателя степени). При этом число с плавающей запятой имеет фиксированную относительную точность и изменяющуюся абсолютную.\n",
    "В результате одно и то же значение может выглядеть по-разному, если хранить его с разной точностью."
   ]
  },
  {
   "cell_type": "code",
   "execution_count": null,
   "id": "02ebed27",
   "metadata": {},
   "outputs": [],
   "source": [
    "f16 = np.float16(\"0.1\")\n",
    "f32 = np.float32(f16)\n",
    "f64 = np.float64(f32)\n",
    "print(f\"{f16 = }, {f32 = }, {f64 = }\")\n",
    "print(f\"{f16 == f32 == f64 = }\")\n",
    "\n",
    "f16 = np.float16(\"0.1\")\n",
    "f32 = np.float32(\"0.1\")\n",
    "f64 = np.float64(\"0.1\")\n",
    "print(f\"{f16 = }, {f32 = }, {f64 = }\")\n",
    "print(f16 == f32 == f64)"
   ]
  },
  {
   "cell_type": "markdown",
   "id": "c08fedb0",
   "metadata": {},
   "source": [
    "Из-за этого для сравнения массивов с типом float используют `np.allclose`."
   ]
  },
  {
   "cell_type": "code",
   "execution_count": null,
   "id": "7d4e8e15",
   "metadata": {},
   "outputs": [],
   "source": [
    "print(f\"{np.allclose([1e10,1e-7], [1.00001e10,1e-8]) = }\")\n",
    "print(f\"{np.allclose([1e10,1e-8], [1.00001e10,1e-9]) = }\")"
   ]
  },
  {
   "cell_type": "markdown",
   "id": "64b24689",
   "metadata": {},
   "source": [
    "## numpy & linalg fun\n",
    "\n",
    "[Не знаю, что имеется ввиду под \"Матричные трюки\"]\n",
    "\n",
    "[\"вычисление попарных расстояний\" - вроде обычно используется scipy/sklearn?]\n",
    "\n",
    "### Решение системы линейных уравнений\n",
    "\n",
    "Numpy позволяет решить систему линейных уравнений."
   ]
  },
  {
   "cell_type": "code",
   "execution_count": null,
   "id": "86e5ef1e",
   "metadata": {},
   "outputs": [],
   "source": [
    "a = np.array([[7, 4], [9, 8]])\n",
    "b = np.array([5, 3])\n",
    "solution = np.linalg.solve(a, b)\n",
    "print(f\"{solution = }\")"
   ]
  },
  {
   "cell_type": "markdown",
   "id": "45b5e8ee",
   "metadata": {},
   "source": [
    "### Обращение матриц.\n",
    "\n",
    "Numpy даёт возможность выполнить операцию обращения матриц."
   ]
  },
  {
   "cell_type": "code",
   "execution_count": null,
   "id": "6799971f",
   "metadata": {},
   "outputs": [],
   "source": [
    "a = np.array([[1., 2.], [3., 4.]])\n",
    "inv = np.linalg.inv(a)\n",
    "print(f\"{inv = }\")"
   ]
  },
  {
   "cell_type": "markdown",
   "id": "ac06d271",
   "metadata": {},
   "source": [
    "### Собственные вектора и числа\n",
    "\n",
    "Вычисление собственных векторов и чисел."
   ]
  },
  {
   "cell_type": "code",
   "execution_count": null,
   "id": "b3a9b4e6",
   "metadata": {},
   "outputs": [],
   "source": [
    "print(np.linalg.eig(np.diag((1, 2, 3))))"
   ]
  },
  {
   "cell_type": "markdown",
   "id": "fb5348f3",
   "metadata": {},
   "source": [
    "## Что мы узнали\n",
    "\n",
    "- основы работы с numpy\n",
    "- индексацию в массивах\n",
    "- broadcasting\n",
    "- floating point things\n",
    "- numpy fun"
   ]
  }
 ],
 "metadata": {
  "jupytext": {
   "formats": "md:myst",
   "text_representation": {
    "extension": ".md",
    "format_name": "myst"
   }
  },
  "kernelspec": {
   "display_name": "Python 3",
   "language": "python",
   "name": "python3"
  },
  "source_map": [
   11,
   22,
   36,
   42,
   54,
   61,
   79,
   83,
   100,
   104,
   111,
   115,
   130,
   137,
   142,
   146,
   151,
   174,
   186,
   190,
   193,
   206,
   211,
   217,
   221,
   227,
   229
  ]
 },
 "nbformat": 4,
 "nbformat_minor": 5
}