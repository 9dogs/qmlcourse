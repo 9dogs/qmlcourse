{
 "cells": [
  {
   "cell_type": "markdown",
   "id": "763e7eef",
   "metadata": {},
   "source": [
    "(numpy)=\n",
    "# Numpy\n",
    "\n",
    "Широкоиспользуемая библиотека для вычислений с многомерными массивами. API большей частью вдохновлен MATLABом (великая и ужасная среда, язык и IDE для матричных вычислений), а теперь сам является примером для подражания API различных вычислительных пакетов.\n",
    "\n",
    "Более последовательный гайд стоит посмотреть на [оффсайте библиотеки](https://numpy.org/devdocs/user)\n",
    "\n",
    "\n",
    "## Массивы"
   ]
  },
  {
   "cell_type": "code",
   "execution_count": 1,
   "id": "c58dde60",
   "metadata": {},
   "outputs": [
    {
     "name": "stdout",
     "output_type": "stream",
     "text": [
      "(3,)\n"
     ]
    }
   ],
   "source": [
    "import numpy as np\n",
    "a = np.array([1, 2, 3]) # создадим вектор\n",
    "print(a.shape)\n",
    "b = np.zeros((2, 2)) # создадим матричку 2х2 из нулей\n",
    "c = np.eye(3) # создадим единичную матрицу 3х3\n",
    "q = np.random.random((1, 100)) # случайную вектор-строку"
   ]
  },
  {
   "cell_type": "markdown",
   "id": "0007534f",
   "metadata": {},
   "source": [
    "## Math ops\n",
    "Для удобства использования np.ndarray определены арифметические операторы, так чтобы соответствовать ожиданиям:"
   ]
  },
  {
   "cell_type": "code",
   "execution_count": 2,
   "id": "f34e7f69",
   "metadata": {},
   "outputs": [
    {
     "name": "stdout",
     "output_type": "stream",
     "text": [
      "[ 2 -1 -1]\n",
      "[-1  6 12]\n",
      "17\n"
     ]
    }
   ],
   "source": [
    "a = np.array([1, 2, 3])\n",
    "b = np.array([-1, 3, 4])\n",
    "print(a - b) # разность двух векторов\n",
    "print(a * b) # поэлементное произведение\n",
    "print(a@b)  # скалярное произведение\n"
   ]
  },
  {
   "cell_type": "markdown",
   "id": "8eb1e305",
   "metadata": {},
   "source": [
    "## Indexing, slicing and sugar\n",
    "\n",
    "Numpy поддерживает кажется все разумные варианты индексации:"
   ]
  },
  {
   "cell_type": "code",
   "execution_count": 3,
   "id": "e2d9050a",
   "metadata": {},
   "outputs": [
    {
     "name": "stdout",
     "output_type": "stream",
     "text": [
      "a_{0,1} 1 1\n",
      "a_{1,1..3} [1 2]\n",
      "a_{2} [ 8  9 10 11] [ 8  9 10 11] [ 8  9 10 11]\n",
      "[ 0  3  6  9 12 15]\n",
      "[[0 1 2 3]\n",
      " [4 5 6 7]]\n"
     ]
    }
   ],
   "source": [
    "a = np.arange(16).reshape(4, 4)\n",
    "# у нас есть массив 4х4 с числами 1..16\n",
    "\n",
    "# просто по индексам\n",
    "print(\"a_{0,1}\", a[0, 1], a[0][1])\n",
    "\n",
    "# по слайсам\n",
    "print(\"a_{1,1..3}\", a[0, 1:3])\n",
    "print(\"a_{2}\", a[2], a[2, :], a[2, ...])\n",
    "\n",
    "# по маске\n",
    "mask = (a % 3 == 0) # mask.shape == (4, 4)\n",
    "print(a[mask])\n",
    "\n",
    "first_rows = np.array([True, True, False, False])\n",
    "print(a[first_rows])"
   ]
  },
  {
   "cell_type": "markdown",
   "id": "c3b768a3",
   "metadata": {},
   "source": [
    "Для работы с размерностями часто используются еще три конструкции: `None`, `...` (ellipsis, многоточие) и `:` (двоеточие)."
   ]
  },
  {
   "cell_type": "code",
   "execution_count": 4,
   "id": "ec58b63a",
   "metadata": {},
   "outputs": [
    {
     "name": "stdout",
     "output_type": "stream",
     "text": [
      "(4, 4)\n",
      "(1, 4, 4)\n",
      "(4, 4, 1)\n",
      "[ 8  9 10 11]\n",
      "[ 8  9 10 11]\n",
      "[[ 0  1  2  3]\n",
      " [ 4  5  6  7]\n",
      " [ 8  9 10 11]\n",
      " [12 13 14 15]] [[ 0  1  2  3]\n",
      " [ 4  5  6  7]\n",
      " [ 8  9 10 11]\n",
      " [12 13 14 15]]\n",
      "[1 4 7] [1 4 7]\n"
     ]
    }
   ],
   "source": [
    "# None добавляет ось размерности 1\n",
    "print(a.shape)\n",
    "print(a[None].shape)\n",
    "print(a[:, :, None].shape)\n",
    "\n",
    "# : превращается в слайс slice(None), берет все элементы вдоль размерности\n",
    "print(a[2, :])\n",
    "print(a[2, 0:None])\n",
    "\n",
    "\n",
    "# ... ellipsis, превращается в необходимое число двоеточий :,:,:\n",
    "\n",
    "print(a[...], a) # одно и то же\n",
    "\n",
    "z = np.arange(27).reshape(3, 3, 3)\n",
    "print(z[0, ..., 1], z[0, :, 1]) # ... удобен когда мы не знаем настоящий шейп массива или нужно не трогать несколько подряд идущих размерностей"
   ]
  },
  {
   "cell_type": "markdown",
   "id": "71eb7b6f",
   "metadata": {},
   "source": [
    "В целом, в numpy очень здорово реализованы методы `__getitem__`/`__setitem__`.\n",
    "\n",
    "TODO: добавить np.where?\n",
    "\n",
    "\n",
    "## Broadcasting\n",
    "\n",
    "Что происходит, если мы хотим арифметику с массивами разных размеров?"
   ]
  },
  {
   "cell_type": "code",
   "execution_count": 5,
   "id": "eef8385b",
   "metadata": {},
   "outputs": [
    {
     "name": "stdout",
     "output_type": "stream",
     "text": [
      "[2 4 6]\n"
     ]
    }
   ],
   "source": [
    "a = np.array([1, 2, 3])\n",
    "k = 2\n",
    "print(a * k)"
   ]
  },
  {
   "cell_type": "markdown",
   "id": "00994dde",
   "metadata": {},
   "source": [
    "С точки зрения математики, ничего интересного тут не происходит: мы подразумевали умножение всего вектора на скаляр.\n",
    "Однако матричные операции в numpy справляются и менее очевидными случаями, например при сложении вектора и скаляра:"
   ]
  },
  {
   "cell_type": "code",
   "execution_count": 6,
   "id": "b192bcf0",
   "metadata": {},
   "outputs": [
    {
     "name": "stdout",
     "output_type": "stream",
     "text": [
      "[-1  0  1]\n"
     ]
    }
   ],
   "source": [
    "a = np.array([1, 2, 3])\n",
    "k = 2\n",
    "print(a - k)"
   ]
  },
  {
   "cell_type": "markdown",
   "id": "528c9afb",
   "metadata": {},
   "source": [
    "В numpy приняты следующие правила работы с массивами разного размера:\n",
    "\n",
    "1. Размерности сравниваются справа налево\n",
    "2. Два массива совместимы в размерности, если она одинаковая, либо у одного из массивов единичная.\n",
    "3. Вдоль отсутствующих размерностей происходит расширение повторением (repeat).\n",
    "\n",
    "TODO: нарисовать картинку!\n",
    "\n",
    "Be aware, автоматический броадкастинг легко приводит к ошибкам, так что лучше делать его самостоятельно в явной форме.\n",
    "\n",
    "\n",
    "\n",
    "## floating point things\n",
    "\n",
    "np.allclose & dtypes\n",
    "\n",
    "\n",
    "## numpy & linalg fun\n",
    "\n",
    "Матричные трюки, вычисление попарных расстояний,\n",
    "решение СЛУ, обращение матриц, собственные вектора и числа\n",
    "\n",
    "\n",
    "## Что мы узнали\n",
    "\n",
    "- основы работы с numpy\n",
    "- индексацию в массивах\n",
    "- broadcasting\n",
    "- floating point things\n",
    "- numpy fun"
   ]
  }
 ],
 "metadata": {
  "jupytext": {
   "formats": "md:myst",
   "text_representation": {
    "extension": ".md",
    "format_name": "myst"
   }
  },
  "kernelspec": {
   "display_name": "Python 3",
   "language": "python",
   "name": "python3"
  },
  "language_info": {
   "codemirror_mode": {
    "name": "ipython",
    "version": 3
   },
   "file_extension": ".py",
   "mimetype": "text/x-python",
   "name": "python",
   "nbconvert_exporter": "python",
   "pygments_lexer": "ipython3",
   "version": "3.8.12"
  },
  "source_map": [
   11,
   24,
   31,
   38,
   45,
   52,
   69,
   73,
   90,
   101,
   105,
   110,
   114
  ]
 },
 "nbformat": 4,
 "nbformat_minor": 5
}