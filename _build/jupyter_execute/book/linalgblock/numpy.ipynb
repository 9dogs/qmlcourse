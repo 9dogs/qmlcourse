{
 "cells": [
  {
   "cell_type": "markdown",
   "id": "5efe0bb8",
   "metadata": {},
   "source": [
    "(numpy)=\n",
    "# Numpy\n",
    "\n",
    "Широко используемая библиотека для вычислений с многомерными массивами. API большей частью вдохновлен MATLAB (великая и ужасная среда, язык и IDE для матричных вычислений), а теперь сам является примером для подражания API различных вычислительных пакетов.\n",
    "Более последовательный гайд стоит посмотреть на [сайте библиотеки](https://numpy.org/devdocs/user)\n",
    "\n",
    "\n",
    "## Массивы"
   ]
  },
  {
   "cell_type": "code",
   "execution_count": 1,
   "id": "a880f177",
   "metadata": {},
   "outputs": [
    {
     "name": "stdout",
     "output_type": "stream",
     "text": [
      "a = array([1, 2, 3])\n",
      "b = array([[0., 0.],\n",
      "       [0., 0.]])\n",
      "c = array([[1., 0., 0.],\n",
      "       [0., 1., 0.],\n",
      "       [0., 0., 1.]])\n",
      "q = array([[0.5908345 , 0.28283717, 0.29131035, 0.86139461, 0.99653541,\n",
      "        0.81214827, 0.67797447, 0.82692437, 0.25649858, 0.12108616,\n",
      "        0.44247058, 0.81127934, 0.12053721, 0.97389252, 0.44845319,\n",
      "        0.04390217, 0.85720839, 0.93330115, 0.88100912, 0.79721087]])\n"
     ]
    }
   ],
   "source": [
    "import numpy as np\n",
    "\n",
    "a = np.array([1, 2, 3]) # создадим вектор\n",
    "print(f\"{a = }\")\n",
    "\n",
    "b = np.zeros((2, 2))\n",
    "print(f\"{b = }\")\n",
    "\n",
    "c = np.eye(3)\n",
    "print(f\"{c = }\")\n",
    "\n",
    "q = np.random.random((1, 20))\n",
    "print(f\"{q = }\")"
   ]
  },
  {
   "cell_type": "markdown",
   "id": "abf08928",
   "metadata": {},
   "source": [
    "## Math ops\n",
    "Для удобства использования np.ndarray определены арифметические операторы, так чтобы соответствовать ожиданиям:"
   ]
  },
  {
   "cell_type": "code",
   "execution_count": 2,
   "id": "062852cd",
   "metadata": {},
   "outputs": [
    {
     "name": "stdout",
     "output_type": "stream",
     "text": [
      "diff = array([ 2, -1, -1])\n",
      "mult = array([-1,  6, 12])\n",
      "scalar_mult = 17\n"
     ]
    }
   ],
   "source": [
    "a = np.array([1, 2, 3])\n",
    "b = np.array([-1, 3, 4])\n",
    "\n",
    "diff = a - b\n",
    "print(f\"{diff = }\")\n",
    "\n",
    "mult = a * b\n",
    "print(f\"{mult = }\")\n",
    "\n",
    "scalar_mult = a @ b\n",
    "print(f\"{scalar_mult = }\")"
   ]
  },
  {
   "cell_type": "markdown",
   "id": "7e08de3a",
   "metadata": {},
   "source": [
    "## Indexing, slicing and sugar\n",
    "\n",
    "Numpy поддерживает кажется все разумные варианты индексации:"
   ]
  },
  {
   "cell_type": "code",
   "execution_count": 3,
   "id": "b3a8b41a",
   "metadata": {},
   "outputs": [
    {
     "name": "stdout",
     "output_type": "stream",
     "text": [
      "a = array([[ 0,  1,  2,  3],\n",
      "       [ 4,  5,  6,  7],\n",
      "       [ 8,  9, 10, 11],\n",
      "       [12, 13, 14, 15]])\n",
      "\n",
      "a[0, 1] = 1\n",
      "a[0][1] = 1\n",
      "\n",
      "a[0, 1:3] = array([1, 2])\n",
      "a[2] = array([ 8,  9, 10, 11])\n",
      "a[2, :] = array([ 8,  9, 10, 11])\n",
      "a[2, ...] = array([ 8,  9, 10, 11])\n",
      "\n",
      "mask = array([[ True, False, False,  True],\n",
      "       [False, False,  True, False],\n",
      "       [False,  True, False, False],\n",
      "       [ True, False, False,  True]])\n",
      "a[mask] = array([ 0,  3,  6,  9, 12, 15])\n",
      "\n",
      "a[first_rows] = array([[0, 1, 2, 3],\n",
      "       [4, 5, 6, 7]])\n"
     ]
    }
   ],
   "source": [
    "a = np.arange(16).reshape(4, 4)\n",
    "print(f\"{a = }\")\n",
    "\n",
    "# просто по индексам\n",
    "print(f\"\\n{a[0, 1] = }\")\n",
    "print(f\"{a[0][1] = }\")\n",
    "\n",
    "# по слайсам\n",
    "print(f\"\\n{a[0, 1:3] = }\")\n",
    "print(f\"{a[2] = }\")\n",
    "print(f\"{a[2, :] = }\")\n",
    "print(f\"{a[2, ...] = }\")\n",
    "\n",
    "# по маске\n",
    "mask = (a % 3 == 0)\n",
    "print(f\"\\n{mask = }\")\n",
    "print(f\"{a[mask] = }\")\n",
    "\n",
    "first_rows = np.array([True, True, False, False])\n",
    "print(f\"\\n{a[first_rows] = }\")"
   ]
  },
  {
   "cell_type": "markdown",
   "id": "5ae210d6",
   "metadata": {},
   "source": [
    "Для работы с размерностями часто используются еще три конструкции: `None`, `...` (ellipsis, многоточие) и `:` (двоеточие)."
   ]
  },
  {
   "cell_type": "code",
   "execution_count": 4,
   "id": "9d373b5f",
   "metadata": {},
   "outputs": [
    {
     "name": "stdout",
     "output_type": "stream",
     "text": [
      "a = array([[ 0,  1,  2,  3],\n",
      "       [ 4,  5,  6,  7],\n",
      "       [ 8,  9, 10, 11],\n",
      "       [12, 13, 14, 15]])\n",
      "\n",
      "a[None].shape = (1, 4, 4)\n",
      "a[:, :, None].shape = (4, 4, 1)\n",
      "\n",
      "a[2, :] = array([ 8,  9, 10, 11])\n",
      "a[2, 0:None] = array([ 8,  9, 10, 11])\n",
      "\n",
      "a[...] = array([[ 0,  1,  2,  3],\n",
      "       [ 4,  5,  6,  7],\n",
      "       [ 8,  9, 10, 11],\n",
      "       [12, 13, 14, 15]])\n",
      "\n",
      "z[0, ..., 1] = array([1, 4, 7])\n",
      "z[0, :, 1] = array([1, 4, 7])\n"
     ]
    }
   ],
   "source": [
    "a = np.arange(16).reshape(4, 4)\n",
    "print(f\"{a = }\")\n",
    "\n",
    "# None добавляет ось размерности 1\n",
    "print(f\"\\n{a[None].shape = }\")\n",
    "print(f\"{a[:, :, None].shape = }\")\n",
    "\n",
    "# : превращается в slice (None), берет все элементы вдоль размерности\n",
    "print(f\"\\n{a[2, :] = }\")\n",
    "print(f\"{a[2, 0:None] = }\")\n",
    "\n",
    "# ... ellipsis, превращается в необходимое число двоеточий :,:,:\n",
    "print(f\"\\n{a[...] = }\")\n",
    "\n",
    "# также ... удобен когда мы не знаем настоящий шейп массива или нужно не трогать несколько подряд идущих размерностей\n",
    "z = np.arange(27).reshape(3, 3, 3)\n",
    "print(f\"\\n{z[0, ..., 1] = }\")\n",
    "print(f\"{z[0, :, 1] = }\")"
   ]
  },
  {
   "cell_type": "markdown",
   "id": "4e15ea70",
   "metadata": {},
   "source": [
    "В целом, в numpy очень здорово реализованы методы `__getitem__`/`__setitem__`."
   ]
  },
  {
   "cell_type": "code",
   "execution_count": 5,
   "id": "4d53f7ea",
   "metadata": {},
   "outputs": [
    {
     "name": "stdout",
     "output_type": "stream",
     "text": [
      "element = 3\n",
      "a = array([1, 2, 5])\n"
     ]
    }
   ],
   "source": [
    "a = np.array([1, 2, 3])\n",
    "element = a[2]\n",
    "print(f\"{element = }\")\n",
    "\n",
    "a[2] = 5\n",
    "print(f\"{a = }\")"
   ]
  },
  {
   "cell_type": "markdown",
   "id": "861da42b",
   "metadata": {},
   "source": [
    "Кроме того, мы можем делать индексацию по заданному условию с помощью `np.where`"
   ]
  },
  {
   "cell_type": "code",
   "execution_count": 6,
   "id": "fb4b9862",
   "metadata": {},
   "outputs": [
    {
     "name": "stdout",
     "output_type": "stream",
     "text": [
      "selection = (array([0, 1]),)\n",
      "a2 = array([ 2,  2, 12, 16])\n",
      "b_mult = array([[1, 1, 2, 1],\n",
      "       [0, 1, 3, 1]])\n"
     ]
    }
   ],
   "source": [
    "# создадим вектор\n",
    "a = np.array([2, 4, 6, 8])\n",
    "\n",
    "selection = np.where(a < 5)\n",
    "print(f\"{selection = }\")\n",
    "\n",
    "# дополнительно мы можем передать два значения или вектора, при выполнении условия выбираются элементы из первого значения/вектора, при невыполнении - из второго\n",
    "a2 = np.where(a < 5, 2, a * 2)\n",
    "print(f\"{a2 = }\")\n",
    "\n",
    "# np.where работает и с многомерными массивами\n",
    "b = np.array([[8, 8, 2, 6], [0, 5, 3, 4]])\n",
    "b_mult = np.where(b < 4, b, 1)\n",
    "print(f\"{b_mult = }\")"
   ]
  },
  {
   "cell_type": "markdown",
   "id": "b5c8b7eb",
   "metadata": {},
   "source": [
    "## Broadcasting\n",
    "\n",
    "Что происходит, если мы хотим арифметику с массивами разных размеров?"
   ]
  },
  {
   "cell_type": "code",
   "execution_count": 7,
   "id": "52b697f6",
   "metadata": {},
   "outputs": [
    {
     "name": "stdout",
     "output_type": "stream",
     "text": [
      "broad = array([2, 4, 6])\n"
     ]
    }
   ],
   "source": [
    "a = np.array([1, 2, 3])\n",
    "k = 2\n",
    "broad = a * k\n",
    "print(f\"{broad = }\")"
   ]
  },
  {
   "cell_type": "markdown",
   "id": "98c619b6",
   "metadata": {},
   "source": [
    "С точки зрения математики, ничего интересного тут не происходит: мы подразумевали умножение всего вектора на скаляр. Однако матричные операции в numpy справляются и с менее очевидными случаями, например при сложении или вычитании вектора и скаляра:"
   ]
  },
  {
   "cell_type": "code",
   "execution_count": 8,
   "id": "1b59aa24",
   "metadata": {},
   "outputs": [
    {
     "name": "stdout",
     "output_type": "stream",
     "text": [
      "[-1  0  1]\n"
     ]
    }
   ],
   "source": [
    "a = np.array([1, 2, 3])\n",
    "k = 2\n",
    "broad = a - k\n",
    "print(broad)"
   ]
  },
  {
   "cell_type": "markdown",
   "id": "5990a787",
   "metadata": {},
   "source": [
    "В numpy приняты следующие правила работы с массивами разного размера:\n",
    "1. Размерности сравниваются справа налево\n",
    "2. Два массива совместимы в размерности, если она одинаковая, либо у одного из массивов единичная.\n",
    "3. Вдоль отсутствующих размерностей происходит расширение повторением (`np.repeat`).\n",
    "\n",
    "```{figure} /_static/linalgblock/numpy_work_with_arrays.png\n",
    ":name: numpy_work_with_arrays\n",
    "```\n",
    "\n",
    "```{attention} Be aware\n",
    "Автоматический броадкастинг легко приводит к ошибкам, так что лучше делать его самостоятельно в явной форме.\n",
    "```\n",
    "\n",
    "\n",
    "## floating point things\n",
    "\n",
    "Отдельно стоит поговорить про числа с плавающей точкой.\n",
    "Число с плавающей запятой (или число с плавающей точкой) — экспоненциальная форма представления вещественных (действительных) чисел, в которой число хранится в виде мантиссы и порядка (показателя степени). При этом число с плавающей запятой имеет фиксированную относительную точность и изменяющуюся абсолютную.\n",
    "В результате одно и то же значение может выглядеть по-разному, если хранить его с разной точностью."
   ]
  },
  {
   "cell_type": "code",
   "execution_count": 9,
   "id": "66114966",
   "metadata": {},
   "outputs": [
    {
     "name": "stdout",
     "output_type": "stream",
     "text": [
      "f16 = 0.1, f32 = 0.099975586, f64 = 0.0999755859375\n",
      "f16 == f32 == f64 = True\n",
      "f16 = 0.1, f32 = 0.1, f64 = 0.1\n",
      "f16 == f32 == f64 = False\n"
     ]
    }
   ],
   "source": [
    "f16 = np.float16(\"0.1\")\n",
    "f32 = np.float32(f16)\n",
    "f64 = np.float64(f32)\n",
    "print(f\"{f16 = }, {f32 = }, {f64 = }\")\n",
    "print(f\"{f16 == f32 == f64 = }\")\n",
    "\n",
    "f16 = np.float16(\"0.1\")\n",
    "f32 = np.float32(\"0.1\")\n",
    "f64 = np.float64(\"0.1\")\n",
    "print(f\"{f16 = }, {f32 = }, {f64 = }\")\n",
    "print(f\"{f16 == f32 == f64 = }\")"
   ]
  },
  {
   "cell_type": "markdown",
   "id": "c850dadc",
   "metadata": {},
   "source": [
    "Из-за этого для сравнения массивов с типом float используют `np.allclose`."
   ]
  },
  {
   "cell_type": "code",
   "execution_count": 10,
   "id": "6eb3d53b",
   "metadata": {},
   "outputs": [
    {
     "name": "stdout",
     "output_type": "stream",
     "text": [
      "np.allclose([1e10,1e-7], [1.00001e10,1e-8]) = False\n",
      "np.allclose([1e10,1e-8], [1.00001e10,1e-9]) = True\n"
     ]
    }
   ],
   "source": [
    "print(f\"{np.allclose([1e10,1e-7], [1.00001e10,1e-8]) = }\")\n",
    "print(f\"{np.allclose([1e10,1e-8], [1.00001e10,1e-9]) = }\")"
   ]
  },
  {
   "cell_type": "markdown",
   "id": "9d79a66a",
   "metadata": {},
   "source": [
    "## numpy & linalg fun\n",
    "\n",
    "[Не знаю, что имеется ввиду под \"Матричные трюки\"]\n",
    "\n",
    "[\"вычисление попарных расстояний\" - вроде обычно используется scipy/sklearn?]\n",
    "\n",
    "### Решение системы линейных уравнений\n",
    "\n",
    "Numpy позволяет решить систему линейных уравнений."
   ]
  },
  {
   "cell_type": "code",
   "execution_count": 11,
   "id": "8a6acd3d",
   "metadata": {},
   "outputs": [
    {
     "name": "stdout",
     "output_type": "stream",
     "text": [
      "[ 1.4 -1.2]\n"
     ]
    }
   ],
   "source": [
    "a = np.array([[7, 4], [9, 8]])\n",
    "b = np.array([5, 3])\n",
    "solution = np.linalg.solve(a, b)\n",
    "print(solution)"
   ]
  },
  {
   "cell_type": "markdown",
   "id": "dc0282fe",
   "metadata": {},
   "source": [
    "### Обращение матриц.\n",
    "\n",
    "Numpy даёт возможность выполнить операцию обращения матриц."
   ]
  },
  {
   "cell_type": "code",
   "execution_count": 12,
   "id": "ec5f8bb8",
   "metadata": {},
   "outputs": [
    {
     "name": "stdout",
     "output_type": "stream",
     "text": [
      "[[-2.   1. ]\n",
      " [ 1.5 -0.5]]\n"
     ]
    }
   ],
   "source": [
    "a = np.array([[1., 2.], [3., 4.]])\n",
    "inv = np.linalg.inv(a)\n",
    "print(inv)"
   ]
  },
  {
   "cell_type": "markdown",
   "id": "e0d65f1d",
   "metadata": {},
   "source": [
    "### Собственные вектора и числа\n",
    "\n",
    "Вычисление собственных векторов и чисел."
   ]
  },
  {
   "cell_type": "code",
   "execution_count": 13,
   "id": "d6bbe1b6",
   "metadata": {},
   "outputs": [
    {
     "name": "stdout",
     "output_type": "stream",
     "text": [
      "(array([1., 2., 3.]), array([[1., 0., 0.],\n",
      "       [0., 1., 0.],\n",
      "       [0., 0., 1.]]))\n"
     ]
    }
   ],
   "source": [
    "print(np.linalg.eig(np.diag((1, 2, 3))))"
   ]
  },
  {
   "cell_type": "markdown",
   "id": "76da0c95",
   "metadata": {},
   "source": [
    "## Что мы узнали\n",
    "\n",
    "- основы работы с numpy\n",
    "- индексацию в массивах\n",
    "- broadcasting\n",
    "- floating point things\n",
    "- numpy fun"
   ]
  }
 ],
 "metadata": {
  "jupytext": {
   "formats": "md:myst",
   "text_representation": {
    "extension": ".md",
    "format_name": "myst"
   }
  },
  "kernelspec": {
   "display_name": "Python 3",
   "language": "python",
   "name": "python3"
  },
  "language_info": {
   "codemirror_mode": {
    "name": "ipython",
    "version": 3
   },
   "file_extension": ".py",
   "mimetype": "text/x-python",
   "name": "python",
   "nbconvert_exporter": "python",
   "pygments_lexer": "ipython3",
   "version": "3.8.12"
  },
  "source_map": [
   11,
   22,
   36,
   42,
   54,
   61,
   82,
   86,
   105,
   109,
   116,
   120,
   135,
   142,
   147,
   151,
   156,
   178,
   190,
   194,
   197,
   210,
   215,
   221,
   225,
   231,
   233
  ]
 },
 "nbformat": 4,
 "nbformat_minor": 5
}