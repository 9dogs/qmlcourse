{
 "cells": [
  {
   "cell_type": "markdown",
   "id": "3f46f979",
   "metadata": {},
   "source": [
    "(vqe)=\n",
    "\n",
    "# Variational Quantum Eigensolver\n",
    "\n",
    "В этой лекции мы рассмотрим такой классный и очень перспективный алгоритм как `Variational Quantum Eigensolver`. Это алгоритм, который создан для аппроксимационного решения задачи о собственных значениях матриц. Но, как мы увидим, к этой задаче можно свети большое число реально интересных задач, например, _NP_-трудные задачи комбинаторной оптимизации, о которых мы уже говорили в [лекции о квантовых алгоритмах](quantum_algorithms_overview).\n",
    "\n",
    "Лекция будет построена следующим образом:\n",
    "\n",
    "- Кратко вспомним задачу о собственных значениях\n",
    "- Посмотрим, как эту задачу можно свести к градиентному спуску в пространстве параметров [параметризированной квантовой схемы](vqc)\n",
    "- Поговорим о том, что такое гамильтониан Изинга\n",
    "- Увидим, как задачи комбинаторной оптимизации сводятся к проблеме Изинга\n",
    "- Полностью реализуем `VQE` и решим маленькую задачку Коммивояжера\n",
    "\n",
    "## Задача о собственных значениях\n",
    "\n",
    "Тем, кому этот блок сразу покажется трудным мы рекомендуем вернуться к вводным лекциям по линейной алгебре, а именно к [части про собственные вектора и собственные значения]().\n",
    "\n",
    "Итак, пусть у нас есть диагонализируемая матрица $A$ размерности $n \\times n$, она же является линейным оператором $\\hat{A}$. Из линейной алгебры мы знаем, что у этой матрицы есть $n$ таких чисел $e_i$ и таких векторов $\\Psi_i$, что для них выполняется условие:\n",
    "\n",
    "$$\n",
    "A \\Psi_i = e_i \\Psi_i\n",
    "$$\n",
    "\n",
    "или в нотации Дирака, которая используется в области квантовых вычисления:\n",
    "\n",
    "$$\n",
    "\\hat{A} \\ket{\\Psi_i} = e_i\\ket{\\Psi_i}\n",
    "$$\n",
    "\n",
    "Таким образом, собственные вектора это такие вектора, которые при применении оператора не меняют свое направление. Например, если $A$ это, например, оператор поворота, то его собственные вектора, это его оси симметрии:\n",
    "\n",
    "```{figure} /_static/vqeblock/vqe/Mona_Lisa.png\n",
    ":width: 450px\n",
    ":name: Mona_Lisa_Eigen\n",
    "\n",
    "Синий вектор, в отличии от красного, при применении оператор не меняет направление так как является его собственным вектором.\n",
    "```\n",
    "\n",
    "### Алгоритмы нахождения собственных значений\n",
    "\n",
    "В целом, задача нахождения собственных значений является очень трудной с вычислительной точки зрения, особенно для больших матриц. Для матриц размера более, чем $3 \\times 3$ в общем случае не существует алгоритма нахождения собственных значений и собственных векторов. Однако существует несколько итеративных алгоритмов. Мы рассмотрим лишь два из них, причем без особых деталей, так как это эти алгоритмы, а также доказательство их сходимости являются достаточно сложными.\n",
    "\n",
    "### Степенной метод\n",
    "\n",
    "Один из самых простых для понимания алгоритмов, который, тем не менее находит интересные применения. Суть его в том, что мы берем некоторый случайный вектор $\\ket{\\Psi}$ и начинаем последовательно действовать на него оператором $\\hat{A}$ (другими словами умножать на нашу матрицу), при этом нормируя на норму:\n",
    "\n",
    "$$\n",
    "\\ket{\\Psi_{i+1}} = \\frac{\\hat{A}\\ket{\\Psi_i}}{||\\hat{A}||}\n",
    "$$\n",
    "\n",
    "И так мы повторяем до тех пор, пока изменения нашего вектора не будет меньше, чем некоторое заданное маленькое значение $\\epsilon$. Когда мы достигли этого условия, это значит что мы нашли первый собственный вектор, который соответствует наибольшему собственному значению. В частном случае интересных нам эрмитовых операторов, можно также последовательно находить все собственные вектора и собственные значения.\n",
    "\n",
    "```{note}\n",
    "На самом деле, наша сеть интернет является графом -- множеством связанных между собой вершин. А любой граф можно представить в виде большой-большой, но очень разреженной матрицы, каждый элемент которой это 1 если между соответствующими вершинами есть ребро и 0, если нет. Например, элемент $L_{ij}$ будет 1, если между вершинами $i$ и $j$ есть ребро. В 1998-м году, Ларри Пейдж и Сергей Брин нашли очень эффективный способ как можно посчитать первый собственный вектор этой матрицы используя именно модификацию степенного метода. Этот алгоритм получил название `PageRank`, причем `Page` это именно фамилия автора, а не отсылка к веб-страницам. И именно этот алгоритм лег в основу поисковика _Google_, который в дальнейшем вырос в транснациональную корпорацию!\n",
    "```\n",
    "\n",
    "### Итерация Арнольди\n",
    "\n",
    "Гораздо более сложный метод, который, однако, является одним из самых эффективных применительно к разреженным матрицам. Объяснить его легко, к сожалению, не получится, так как алгоритм требует понимания Крыловских подпространств и других концептов из области линейной алгебре разреженных систем. Но нам достаточно лишь того, что этот алгоритм имеет очень эффективную реализацию -- [ARPACK](https://www.caam.rice.edu/software/ARPACK/), написанную в середине 90-х годов на языке `FORTRAN77`. Именно эта библиотека используется \"под капотом\" у `SciPy`, а также во многих других научных пакетах. Давайте посмотрим, как она работает.\n",
    "\n",
    "Сгенерируем большую разреженную матрицу."
   ]
  },
  {
   "cell_type": "code",
   "execution_count": 1,
   "id": "74ba4889",
   "metadata": {},
   "outputs": [
    {
     "name": "stdout",
     "output_type": "stream",
     "text": [
      "<10000x10000 sparse matrix of type '<class 'numpy.float64'>'\n",
      "\twith 7957 stored elements in COOrdinate format>\n"
     ]
    }
   ],
   "source": [
    "import numpy as np\n",
    "from scipy import sparse\n",
    "\n",
    "np.random.seed(42)\n",
    "x = np.random.random(10000)\n",
    "np.random.seed(42)\n",
    "y = np.random.random(10000)\n",
    "\n",
    "px = np.where(x > 0.2)\n",
    "py = np.where(y > 0.2)\n",
    "\n",
    "num_elements = max([px[0].shape[0], py[0].shape[0]])\n",
    "\n",
    "spmat = sparse.coo_matrix(\n",
    "    (\n",
    "        (np.ones(num_elements),\n",
    "        (px[0][:num_elements], py[0][:num_elements]))\n",
    "    )\n",
    ")\n",
    "print(spmat.__repr__())"
   ]
  },
  {
   "cell_type": "markdown",
   "id": "6b90ba92",
   "metadata": {},
   "source": [
    "Матрица размера $10000 \\times 10000$ это большая матрица и работать с ней в \"плотном\" (dense) представлении было бы очень трудно. Но `ARPACK` позволит нам найти минимальное собственное значение за доли секунд используя разреженность матрицы:"
   ]
  },
  {
   "cell_type": "code",
   "execution_count": 2,
   "id": "af577bb2",
   "metadata": {},
   "outputs": [
    {
     "name": "stdout",
     "output_type": "stream",
     "text": [
      "Min E: (-1.1102230246251565e-16+0j)\n",
      "Max E: (1.0000000000000007+0j)\n"
     ]
    }
   ],
   "source": [
    "from scipy.sparse import linalg as sl\n",
    "\n",
    "max_eigval = sl.eigs(spmat, k=1, which=\"LR\", return_eigenvectors=False)[0]\n",
    "min_eigval = sl.eigs(spmat, k=1, which=\"SR\", return_eigenvectors=False)[0]\n",
    "\n",
    "print(f\"Min E: {min_eigval}\\nMax E: {max_eigval}\")"
   ]
  },
  {
   "cell_type": "markdown",
   "id": "32e7b9b6",
   "metadata": {},
   "source": [
    "Для тех кто забыл, какие параметры принимает функция `eigs` из `scipy.linalg.spare` напомним, что первый параметр это разреженная матрица, второй параметр (`k`) это то, сколько именно собственных значений мы хотим получить. Параметр `which` указывает какие именно собственные значения мы хотим получить:\n",
    "\n",
    "- `SM` -- _smallest magnitude_ -- наименьшие по модулю числа\n",
    "- `LM` -- _largest magnitude_ -- наибольшие по модулю числа\n",
    "- `SR` -- _smallers real_ -- числа с наименьшей действительной частью\n",
    "- `LR` -- _largest real_ -- числа с наибольшей действительной частью\n",
    "- `SI` -- _smallest image_ -- числа с наименьшей мнимой частью\n",
    "- `LI` -- _largest image_ -- часла с наибольшей мнимой частью\n",
    "\n",
    "Более подробна работа с `scipy.sparse`, а также с `scipy.sparse.linalg` разбирается в [вводном блоке по линейной алгебре](пока пусто).\n",
    "\n",
    "```{note}\n",
    "Не у всех матриц все собственные значения являются действительными, поэтому `ARPACK` по умолчанию считает нам комплексные значения, хотя в этом конкретном случае мы видим, что мнимая часть равна нулю.\n",
    "```\n",
    "\n",
    "В дальнейшем мы будем использовать `ARPACK`, вызывая его из `SciPy` для проверки того, что наш вариационный квантовый алгоритм нашел верное решение задачи.\n",
    "\n",
    "## VQE\n",
    "\n",
    "Теперь давайте посмотрим, как эта задача связана с квантовым компьютером, а также как ее можно свести к градиентному спуску в пространстве параметров `VQE`, содержащей лишь гейты вращения. Напомню, что наличие лишь гейтов вращения [позволяет нам эффективно считать градиенты](gradients).\n",
    "\n",
    "### Собственные значения как результат измерения\n",
    "\n",
    "Итак, у нас есть эрмитова матрица, для которой мы хотим найти минимальное собственное значение. То есть сделать примерно то, что делает `ARPACK`, но на квантовом компьютере.\n",
    "\n",
    "```{note}\n",
    "Если наша матрица $A$ не эрмитова, то мы всегда можем дополнить ее до эрмитовой. Поэтому далее, без потери общности, мы будем считать эту матрицу именно эрмитовой. Более подробно о том, как именно это можно сделать рассмотрено в [водных лекциях по линейной алгебре](пусто). Пока же нам достаточно знать, что это возможно.\n",
    "```\n",
    "\n",
    "Из первых лекций мы помним, что любое измерение квантового оператора в каком-то состоянии [есть проекция этого состояния на пространство его собственных векторов](../qcblock/qubit.html#id31), а результатом измерения [является одно из его собственных значений](../qcblock/qubit.html#id25). При этом распределение вероятностей получения этих собственных значений определяется нашей волновой функцией $\\ket{\\Psi}$ измеряемого состояния. А значит, то, какое собственное значение мы получим будет определяться тем, какое состояние мы приготовим! Более того, мы помним, что минимальное значения энергии, или минимальное собственное значение в терминах нашей задачи является наиболее вероятным результатом измерения основного состояния. Напомню, что мы записываем результат измерения оператора $\\hat{A}$ в состоянии $\\ket{\\Psi}$ так:\n",
    "\n",
    "$$\n",
    "e = \\bra{\\Psi}\\hat{A}\\ket{\\Psi}\n",
    "$$\n",
    "\n",
    "А, как мы помним из [лекции по параметризированным квантовым схемам](vqc) приготовленное состояние задается собственно самой схемой (еще говорят _ansatz_), а также набором ее классических параметров, которые варьируются в процессе обучения.\n",
    "\n",
    "Так мы приходим к алгоритму `VQE` -- **V**ariational **Q**uantum **E**igensolver:\n",
    "\n",
    "1. Выбираем _ansatz_ -- параметризированный оператор $\\hat{B}(q)$, который представляет из себя последовательность гейтов вращения\n",
    "2. Генерируем случайные начальные параметры $q_0$\n",
    "3. Цикл обучения, повторяем $n$ раз\n",
    "   1. Готовим состояние $\\ket{\\Psi} = \\hat{B}(q_n)\\ket{0}$\n",
    "   2. Измеряем $e = \\bra{\\Psi}\\hat{A}\\ket{\\Psi}$\n",
    "   3. Вычисляем градиент $g = \\frac{\\partial{e}}{\\partial{q}}$\n",
    "   4. Обновляем параметры $q_{n+1} = q_n - \\alpha g$\n",
    "4. Результатом обучения являются:\n",
    "   - Набор параметров $q$ такой, что $\\hat{B}(q)\\ket{0}$ является собственным вектором, близким к первому собственному вектору $\\hat{A}$\n",
    "   - Результат измерения $e$, близкий к первому собственному значению $\\hat{A}$\n",
    "\n",
    "## Гамильтониан Изинга\n",
    "\n",
    "Хорошо, ну умеем мы находить первое собственное значение большой эрмитовой матрицы и соответствующий собственный вектор. А что нам с этого? Почему это так важно и этот алгоритм такой крутой?\n",
    "\n",
    "На самом деле ответ в том, что огромное число задач реального мира, включая такие направления, как логистика, квантовая химия и даже анализ социальных сетей можно свести к задаче нахождения минимальной энергии специальной матрицы. Причем эта матрица ну прямо очень хорошо моделируется на квантовом компьютере! Это так называемый оператор Изинга или гамильтониан Изинга.\n",
    "\n",
    "```{note}\n",
    "Специальные квантовые компьютеры компании D-Wave сконструированы так, что они могут решать вообще только одну задачу -- нахождения основного состояния гамильтонианов типа Изинга. Но эта задача настолько распространена и важна, что эти компьютеры стали первыми в мире коммерческими квантовыми компьютерами! Кстати далее этим компьютерам у нас будет посвящена отдельная лекция.\n",
    "```\n",
    "\n",
    "Далее мы посвятим довольно много времени объяснению этой модели. Это может показаться скучным и занудным, но это важно для понимания того, как это все работает и как решать с помощью `VQE` реальные задачи!\n",
    "\n",
    "### Задача Изинга в одномерном случае\n",
    "\n",
    "```{note}\n",
    "Ниже мы попробуем на пальцах объяснить модель Изинга. Пробовать мы будем через цепочку атомов ферромагнетика во внешнем магнитном поле. Ели вы плохо помните физику и вам это объяснение покажется сложным, то не расстраивайтесь -- дальше мы также объясним задачу Изинга как задачу о поиске максимального разреза в графе -- известную задачу комбинаторной оптимизации.\n",
    "```\n",
    "\n",
    "Пусть у нас есть, например, цепочка атомов, которые обладают магнитным моментом. Например, цепочка атомов ферромагнетика, такого как железо. И мы прикладываем к этой цепочке внешнее магнитное поле.\n",
    "\n",
    "Тогда, если поле маленькое, то наши атомы будут стараться выстроиться в антиферромагнитный порядок, когда соседние из них имеют моменты, направленные в разные стороны. Но если поле уже большое, то оно будет стремиться \"повернуть\" моменты по своему направлению. А если еще вспомнить, что магнитный момент атома является квантовой величиной и может быть в суперпозиции состояний в одну сторону и в противоположную, то не очень маленькое, но и не слишком большое поле будет переводить часть атомов именно в такие суперпозиции.\n",
    "\n",
    "```{figure} /_static/vqeblock/vqe/af_ordering.png\n",
    ":width: 450px\n",
    "\n",
    "Иллюстрация антиферромагнитного порядка\n",
    "```\n",
    "\n",
    "Давайте теперь запишем Гамильтониан такой системы. Для представления магнитных моментов мы будем использовать оператор $\\sigma^z$ -- другими словами, спин в направлении оси $Z$. Если кто-то забыл, как выглядит оператор $\\sigma^z$, то рекомендуем еще раз просмотреть [раздел про операторы Паули первой лекции](../qcblock/qubit.html#id24). Далее мы будем очень активно использовать эти матрицы для представления задач реального мира!\n",
    "\n",
    "Для начала, в случае если внешнего поля нет, то мы должны записать взаимодействие соседних атомов. Так как у нас ферромагнетик, то минимальная энергия достигается в случае, если у нас спины противонаправленны. Это просто оператор $\\sigma^z_j\\sigma^z_{j+1}$, который действует на все пары соседних спинов. Ну и сразу введем некоторую константу обменного взаимодействия $J$, чтобы потом нам было удобно сравнивать ее с внешним полем. В итоге, для цепочки из $N$ спинов, получаем:\n",
    "\n",
    "$$\n",
    "\\hat{H}_{h=0} = J \\sum_{i=0}^{N-1} \\sigma^{z}_i\\sigma^{z}_{i+1}\n",
    "$$\n",
    "\n",
    "А теперь давайте добавим внешнее поле $h$. В этом случае, поле просто действует на все спины и пытается выстроить их, в зависимости от своего направления, например вниз. Тогда полный гамильтониан такой системы можно записать в виде:\n",
    "\n",
    "$$\n",
    "\\hat{H}_{h\\neq 0} = J \\sum_{i=0}^{N-1} \\sigma^{z}_i\\sigma^{z}_{i+1} - h\\sum_{i=0}^N \\sigma^{z}_i\n",
    "$$\n",
    "\n",
    "### Задача Изинга как задача о максимальном разрезе в графе\n",
    "\n",
    "Задача о максимальном разрезе в графе это очень известная задача комбинаторики. Она относится к классу $NP$-трудных и к ней можно свести все другие $NP$ задачи. При этом ее формулировка одна из самых простых среди всего класса задач. Формулируется она следующим образом.\n",
    "\n",
    "Нам дан граф -- набор вершин $V$ и связывающих их ребер $E$. Нам надо найти такое разделение ребер $V$ на два не пересекающихся набора $V_1, V_2$, что число ребер между вершинами из разных наборов будет максимально.\n",
    "\n",
    "```{figure} /_static/vqeblock/vqe/Max-cut.png\n",
    ":width: 400px\n",
    ":name: MaxCut\n",
    "\n",
    "Иллюстрация задачи о максимальном разрезе в графе\n",
    "```\n",
    "\n",
    "Теперь давайте представим, что наши вершины графа мы моделируем спинами (ну или кубитами): спин \"вверх\" это, например, $V_1$, а спин \"вниз\" это $V_2$. Ну и для простоты предположим, что наш граф это просто цепочка, то есть ребра есть лишь между соседними в одномерном пространстве вершинами. Тогда легко записать функцию стоимости:\n",
    "\n",
    "$$\n",
    "H = \\sum_{i=0}^{N-1} \\sigma^{z}_i\\sigma^{z}_{i+1}\n",
    "$$\n",
    "\n",
    "Ну и теперь давайте сформулируем нашу задачу чуточку сложнее -- нам надо найти не просто максимальный разрез, а такой разрез, который самый большой при наименьшем числе вершин в наборе $V_1$. Ну и, поскольку теперь у нас два вклада в стоимость, то нам нужны коэффициенты, которые покажут, что нам важнее. Пусть это будут $J$ и $h$. Финальная стоимость:\n",
    "\n",
    "$$\n",
    "H = J \\sum_{i=0}^{N-1} \\sigma^{z}_i\\sigma^z_{i+1} - h\\sum_{i=0}^N \\sigma^{z}_i\n",
    "$$\n",
    "\n",
    "Мы и так как у нас собственные значения $\\sigma^z$ это как раз $\\pm 1$, то мы совершенно справедливо можем записать это все в виде гамильтониана:\n",
    "\n",
    "$$\n",
    "\\hat{H} = J \\sum_{i=0}^{N-1} \\sigma^{z}_i\\sigma^{z}_{i+1} - h\\sum_{i=0}^N \\sigma^{z}_i\n",
    "$$\n",
    "\n",
    "Как видно, это тот же самый гамильтониан, который мы получили и для моделирования ферромагнетиков.\n",
    "\n",
    "```{note}\n",
    "Одномерная цепочка атомов, ну или поиск максимального разреза в графе-цепочке является простым случаем и не является NP-задачей. Однако уже в двумерном случае эта задача становится сильно сложнее, как и, например, если в цепочке атомов ферромагнетика мы добавим взаимодействие не только соседних спинов, но и взаимодействие с соседями соседа. Аналогично, модель вида Изинга сильно усложняется при добавлении офф-диагональных элементов гамильтонинана, например, когда внешнее поле направлено в другом направлении и второй член гамильтониана принимает вид, например, $h\\sum_{i=N} \\sigma^{x}_i$. В рамках данной лекции мы не будем очень глубоко погружаться в исследование сложности и решений моделей Изинга, однако любопытный читатель может ознакомится с [продвинутой лекцией по этой теме](пусто).\n",
    "```\n",
    "\n",
    "### Модель Изинга на чистом NumPy\n",
    "\n",
    "Давайте попробуем реализовать гамильтониан Изинга на чистом `NumPy`/`SciPy` в виде разреженной матрицы. Для этого вспомним [из первых лекций](qubit), что действуя оператором $\\sigma^z$ на $i$ кубит мы одновременно действуем единичным оператором на все остальные, а потом перемножаем все операторы произведением Кронекера. Из [лекций по линейной алгебре](пусто) мы помним также об ассоциативности произведения Кронекера, чем и воспользуемся:"
   ]
  },
  {
   "cell_type": "code",
   "execution_count": 3,
   "id": "608dac27",
   "metadata": {},
   "outputs": [],
   "source": [
    "def sigmaz_k(k: int, n: int) -> sparse.csr_matrix:\n",
    "    left_part = sparse.eye(2 ** k)\n",
    "    right_part = sparse.eye(2 ** (n - 1 - k))\n",
    "\n",
    "    return sparse.kron(\n",
    "        sparse.kron(\n",
    "            left_part,\n",
    "            sparse.csr_matrix(np.array([[1, 0,], [0, -1,],]))\n",
    "        ),\n",
    "        right_part\n",
    "    )"
   ]
  },
  {
   "cell_type": "markdown",
   "id": "959b1413",
   "metadata": {},
   "source": [
    "Ну а теперь мы можем реализовать и сам оператор Изинга:"
   ]
  },
  {
   "cell_type": "code",
   "execution_count": 4,
   "id": "d3e353ae",
   "metadata": {},
   "outputs": [],
   "source": [
    "def ising(j: float, h: float, n: int) -> sparse.csr_matrix:\n",
    "    res = sparse.csr_matrix((2 ** n, 2 ** n), dtype=np.complex)\n",
    "\n",
    "    for i in range(n - 1):\n",
    "        res += j * sigmaz_k(i, n) * sigmaz_k(i + 1, n)\n",
    "        res -= h * sigmaz_k(i, n)\n",
    "\n",
    "    res -= h * sigmaz_k(n - 1, n)\n",
    "\n",
    "    return res"
   ]
  },
  {
   "cell_type": "markdown",
   "id": "a6694f14",
   "metadata": {},
   "source": [
    "Если внешнего поля нет, то наши спины выстраиваются в полный антиферромагнитный порядок, в чем легко убедиться. Создадим оператор для такой модели и, например, 10 спинов (или 10 вершин в графе, если мы говорим в терминах Max-Cut):"
   ]
  },
  {
   "cell_type": "code",
   "execution_count": 5,
   "id": "b3233fc6",
   "metadata": {},
   "outputs": [
    {
     "name": "stdout",
     "output_type": "stream",
     "text": [
      "Energy: (-9.000000000000018-2.208468631860285e-16j)\n"
     ]
    }
   ],
   "source": [
    "op = ising(1, 0, 10)\n",
    "solution = sl.eigs(op, which=\"SR\", k=1, return_eigenvectors=True)\n",
    "print(f\"Energy: {solution[0][0]}\")"
   ]
  },
  {
   "cell_type": "markdown",
   "id": "dcc459c9",
   "metadata": {},
   "source": [
    "Эта энергия соответствует антиферромагнитному порядку, в этом легко убедиться, нарисовав спины и формулу на бумажке. Внимательный читатель заметил, что в этот раз мы вернули также и первый собственный вектор, который в нашем случае является волновой функцией основного состояния. А, как мы помним, квадраты элементов вектора волновой функции дают нам вероятности соответствующих битовых строк (если для вас это все звучит дико, то очень рекомендуем вернуться к [лекции про кубит](qubit)). Давайте посмотрим на эту битовую строку, или, другими словами, на порядок наших спинов в решении (или на разбиение вершин графа на два подмножества в терминах Max-Cut):"
   ]
  },
  {
   "cell_type": "code",
   "execution_count": 6,
   "id": "1c8c49af",
   "metadata": {},
   "outputs": [
    {
     "name": "stdout",
     "output_type": "stream",
     "text": [
      "0101010101\n"
     ]
    }
   ],
   "source": [
    "def probs2bit_str(probs: np.array) -> str:\n",
    "    size = int(np.log2(probs.shape[0]))\n",
    "    bit_s_num = np.where(probs == probs.max())[0][0]\n",
    "    s = f\"{bit_s_num:b}\"\n",
    "    s = \"0\" * (size - len(s)) + s\n",
    "\n",
    "    return s\n",
    "\n",
    "probs = solution[1] * solution[1].conj()\n",
    "print(probs2bit_str(probs))"
   ]
  },
  {
   "cell_type": "markdown",
   "id": "73033a59",
   "metadata": {},
   "source": [
    "Теперь давайте попробуем добавить внешнее поле с коэффициентом, равным удвоенному значению константы обменного взаимодействия. В терминах комбинаторной задачи, мы добавляем штраф, равный два умножить на число спинов, направленных вверх."
   ]
  },
  {
   "cell_type": "code",
   "execution_count": 7,
   "id": "0dc5b8eb",
   "metadata": {},
   "outputs": [
    {
     "name": "stdout",
     "output_type": "stream",
     "text": [
      "Energy: (-10.99999999999999-1.0571225056728771e-16j)\n",
      "0101010010\n"
     ]
    }
   ],
   "source": [
    "op = ising(1, 2, 10)\n",
    "solution = sl.eigs(op, which=\"SR\", k=1, return_eigenvectors=True)\n",
    "print(f\"Energy: {solution[0][0]}\")\n",
    "\n",
    "probs = solution[1] * solution[1].conj()\n",
    "print(probs2bit_str(probs))"
   ]
  },
  {
   "cell_type": "markdown",
   "id": "6444382f",
   "metadata": {},
   "source": [
    "Видим, что теперь наш антиферромагнитный порядок уже не полный. В целом, данная модель довольно интересная, так как при некотором отношении $\\frac{h}{J}$ у нас происходит фазовый переход от полной упорядоченности, а при дальнейшем росте $h$ мы приходим к полностью одинаковой ориентации всех спинов, в чем легко убедиться, взяв, например, $h = 100$:"
   ]
  },
  {
   "cell_type": "code",
   "execution_count": 8,
   "id": "aa913e34",
   "metadata": {},
   "outputs": [
    {
     "name": "stdout",
     "output_type": "stream",
     "text": [
      "Energy: (-991.0000000000039-3.4882612571137096e-14j)\n",
      "0000000000\n"
     ]
    }
   ],
   "source": [
    "op = ising(1, 100, 10)\n",
    "solution = sl.eigs(op, which=\"SR\", k=1, return_eigenvectors=True)\n",
    "print(f\"Energy: {solution[0][0]}\")\n",
    "\n",
    "probs = solution[1] * solution[1].conj()\n",
    "print(probs2bit_str(probs))"
   ]
  },
  {
   "cell_type": "markdown",
   "id": "f94eda7c",
   "metadata": {},
   "source": [
    "## Ну и причем тут _NP_-трудные задачи?\n",
    "\n",
    "Мы потратили столько времени разбираясь с этой сложной антиферромагнитной моделью, а также совершенно оторванной от мира задачей о максимальном разрезе в графе. Теперь мы наконец-то увидим, что все это было не зря!\n",
    "\n",
    "### Формулировка задач комбинаторной оптимизации в терминах гамильтониана Изинга\n",
    "\n",
    "Мы уже рассмотрели привер того, как задачу комбинаторной оптимизации -- Max Cut -- можно свести к решению модели Изинга. Далее мы приведем примеры сведения некоторых интересных задач оптимизации к гамильтонианам этого типа. Все эти примеры мы будем брать из публикации {cite}`combinatorics2ising`. И перед тем, как мы начнем, нам понадобиться ввести еще одно определение, а именно оператор, у которого собственные вектора совпадают с таковыми у $\\sigma^z$, а собственные значения равны 0 или 1 (вместо $\\pm1$ для $\\sigma^z$):\n",
    "\n",
    "$$\n",
    "\\sigma^{z'} = (I + \\sigma^z) / 2 = \\begin{vmatrix} 1 & 0 \\\\\n",
    "0 & 0 \\end{vmatrix}\n",
    "$$\n",
    "\n",
    "Эта штука нам понадобиться, так как в комбинаторной оптимизации очень часто фигурируют именно такие \"бинарные\" переменные и с ними очень удобно работать. А теперь, поехали!\n",
    "\n",
    "#### Задача о поиске Cliques в графах\n",
    "\n",
    "_Тут будет описание_\n",
    "\n",
    "#### Задача о выделении сообществ в графах\n",
    "\n",
    "Задача о выделении сообщества в графах это очень важная и очень интересная задача. Она находит применение во многих областях, но одно из самых очевидных применений -- это социология (в том числе анализ социальных сетей), когда мы хотим анализируя контакты людей выделить из них сообщества для дальнейшего анализа. Эта задача также является $NP$-трудной, так как существует экспоненциально много способов разбить вершины на множества. Хотя для этой задачи и известны относительно быстрые приближенные алгоритмы, нам очень трудно понять, насколько хорошее решение они дают для действительно больших графов.\n",
    "\n",
    "```{note}\n",
    "Для работы с графами мы будем пользоваться библиотекой `NetworkX`. Она написана на чистом `Python` и плохо подходит для работы с большими графами, зато имеет простой интерфейс и легко устанавливается на любую систему. Ее можно установить из рерозитория `PyPI` используя команду `pip install networkx`. Подробнее о пакетах `Python` можно почитать в [одной из вводных лекций](python_l1) про этот язык программирования.\n",
    "```\n",
    "\n",
    "Одним из первых известных наборов данных для задачи выделения сообществ является \"Клуб каратэ Захари\" (Zachary’s Karate Club) {cite}`zachary1977`. Для этого набора данных точно известно, к какому из двух сообществ принадлежит какая из вершин. В этом клубе карате был внутренний конфликт и одна часть людей была в группе одного из инструкторов (Mr. Hi), а другая в группе администратора (Officer)."
   ]
  },
  {
   "cell_type": "code",
   "execution_count": 9,
   "id": "dd4050d4",
   "metadata": {},
   "outputs": [
    {
     "data": {
      "image/png": "[encoded data removed]",
      "text/plain": [
       "<Figure size 432x288 with 1 Axes>"
      ]
     },
     "metadata": {
      "filenames": {
       "image/png": "/home/runner/work/qmlcourse/qmlcourse/qmlcourseRU/_build/jupyter_execute/book/vqeblock/vqe_17_0.png"
      }
     },
     "output_type": "display_data"
    }
   ],
   "source": [
    "import networkx as nx\n",
    "import matplotlib.pyplot as plt\n",
    "\n",
    "zachary = nx.generators.social.karate_club_graph()\n",
    "nx.draw(\n",
    "    zachary,\n",
    "    node_color=[\n",
    "        {\"Officer\": \"r\", \"Mr. Hi\": \"b\"}.get(dt[\"club\"]) for _, dt\n",
    "        in zachary.nodes(data=True)\n",
    "    ],\n",
    ")\n",
    "plt.show()"
   ]
  },
  {
   "cell_type": "markdown",
   "id": "e032ae33",
   "metadata": {},
   "source": [
    "На самом деле, задача о максимальном разрезе в графе является простейшим и тривиальным примером задачи о выделении сообществ в графе. И действительно, в случае, если в графе лишь два сообщества, то мы должны разбить все вершины на не перескающиеся подмножества. Правда в отличии от задачи о максимальном разрезе, в случае с сообществами мы хотим, что число ребер между ними было минимальным. Но это можно сделать просто поменяв знак в выражении для гамильтониана Изинга:\n",
    "\n",
    "$$\n",
    "\\hat{H}_{communities} = - \\sum_{e \\in E} \\sigma^z_{e_{srs}} \\sigma^z_{e_{dst}}\n",
    "$$\n",
    "\n",
    "Тут $e \\in E$ это значит суммирование по всем ребрам $e$ нашего графа, а $e_{src}$ и $e_{dst}$ это начальная и конечная вершины, которые соединяет ребро $e$.\n",
    "\n",
    "Но, на самом деле, выбранная нами метрика (количество ребер) не самый лучший вариант для этой задачи. Гораздо лучше подойдет модулярность (modularity), предложенная физиком Марком Ньюманом {cite}`newman_modularity`:\n",
    "\n",
    "$$\n",
    "Q(C) = \\frac{1}{2 |E|}\\sum_{e \\in E} B_{e_{src}, e_{dst}}\\delta (c_{e_{src}}, c_{e_{dst}})\n",
    "$$\n",
    "\n",
    "Тут $B$ -- это матрица модулярности (modularity matrix). Ее элементы определяются через степени $d_i$ соответствующих вершин графа (степень вершины -- это число ребер, связанных с данной вершиной) и матрицу смежности $A$ графа:\n",
    "\n",
    "$$\n",
    "B_{ij} = A_ij - \\frac{d_i d_j}{2 |E|}\n",
    "$$\n",
    "\n",
    "Условно, модулярность это разница между числом ребер внутри сообществ в нашем графе и числом ребер внутри сообществ в графе с таким же числом ребер, но сгенерированным случайным образом. Это довольно сложное понятие, которое выходит за рамки нашего курса, но все равно потребуется нам, чтобы показать, что задачи оптимизации модулярности может быть сформулирована как задача Изинга.\n",
    "\n",
    "```{note}\n",
    "Это интересно, но одним из первых алгоритмов для решения задачи о выделении сообществ в графах был алгоритм имитации отжига, который изначально был создан именно для решения проблемы гамильтонианов типа Изинга. Причина заключается в том, что модулярность очень схожа по виду с выражением энергии для ферромагнетика или антиферромагнетка.\n",
    "```\n",
    "\n",
    "_Тут формулировка модулярности в терминах изинга_\n",
    "\n",
    "#### Задача о мостах Кеннингсберга (Калининграда)\n",
    "\n",
    "_Текст_\n",
    "\n",
    "```{figure} /_static/vqeblock/vqe/bridges.png\n",
    ":width: 300px\n",
    "\n",
    "Мосты Кеннингсберга, думая о которых Эйлер изобрел теорию графов\n",
    "```\n",
    "\n",
    "##### Оператор Изинга задачи о Гамильтоновых циклах\n",
    "\n",
    "_Текст_\n",
    "\n",
    "```{figure} /_static/vqeblock/vqe/Hamilton.jpg\n",
    ":width: 350px\n",
    "\n",
    "Сер Уильям Роуэн Гамильтон, 1805 - 1865\n",
    "```\n",
    "\n",
    "_Текст_\n",
    "\n",
    "#### Задача коммивояжера\n",
    "\n",
    "_Тут будет описание_\n",
    "\n",
    "```{figure} /_static/intro1block/intro1/Salesman.png\n",
    "\n",
    "Иллюстрация задачи коммивояжера\n",
    "```\n",
    "\n",
    "_Тут будет описание_\n",
    "\n",
    "#### Задача о рюкзаке\n",
    "\n",
    "_Тут будет описание_\n",
    "\n",
    "## Решение задачи коммивояжера с помощью VQE\n",
    "\n",
    "Итак, давайте попробуем решить задачу коммивояжера. Нам потребуется определить оператор $\\sigma^{z_{mod}}$, который мы активно использовали при определении гамильтонинана, также расписать полный оператор, но для начала давайте сгенериуем случайный граф, с которым мы будем экспериментировать.\n",
    "\n",
    "### Случайный взвешенный граф\n",
    "\n",
    "Случайный взвешенный граф проще всего сгенерировать из случайной матрицы весов. Давайте сделаем такую:\n",
    "\n",
    "```{note}\n",
    "Тут мы будем работать с матрицей полного графа, то есть такого, в котором каждая вершина связана с каждой. Это вполне корректное допущение для задачи коммивояжера, так как, например, из каждого города РФ обычно можно попасть во все другие, пусть и за разное время в пути.\n",
    "```"
   ]
  },
  {
   "cell_type": "code",
   "execution_count": 10,
   "id": "51b8a61d",
   "metadata": {},
   "outputs": [],
   "source": [
    "np.random.seed(42)\n",
    "rand_mat = np.random.randint(0, 100, (4, 4))"
   ]
  },
  {
   "cell_type": "markdown",
   "id": "67138b53",
   "metadata": {},
   "source": [
    "Только эта матрица не является симметричной и имеет не нулевые элементы на диагонали. Элементы на диагонали означают петли (loop или self-loop), что не очень разумно в терминах задачи коммивояжера: не ясно, что значит, например, путь из Москвы в Москву. Аналогично и про то, что матрица не симметричная: если путь из Москвы в Санкт-Петербург займет 6 часов, то и путь обратно тоже займет столько же. Так что мы хотим симметричную матрицу. Давайте это исправим:"
   ]
  },
  {
   "cell_type": "code",
   "execution_count": 11,
   "id": "249fa585",
   "metadata": {},
   "outputs": [],
   "source": [
    "rand_adj = (rand_mat + rand_mat.T) / 2\n",
    "np.fill_diagonal(rand_adj, 0)"
   ]
  },
  {
   "cell_type": "markdown",
   "id": "0a64d4ea",
   "metadata": {},
   "source": [
    "Наконец, сделаем из этого граф и визуализируем его:"
   ]
  },
  {
   "cell_type": "code",
   "execution_count": 12,
   "id": "ab2529e3",
   "metadata": {},
   "outputs": [
    {
     "data": {
      "image/png": "[encoded data removed]",
      "text/plain": [
       "<Figure size 432x288 with 1 Axes>"
      ]
     },
     "metadata": {
      "filenames": {
       "image/png": "/home/runner/work/qmlcourse/qmlcourse/qmlcourseRU/_build/jupyter_execute/book/vqeblock/vqe_23_0.png"
      }
     },
     "output_type": "display_data"
    }
   ],
   "source": [
    "g = nx.Graph(rand_adj)\n",
    "\n",
    "pos = nx.drawing.layout.random_layout(g, seed=42)\n",
    "nx.draw(g, pos=pos)\n",
    "edge_weights = nx.get_edge_attributes(g, \"weight\")\n",
    "nx.draw_networkx_edge_labels(g, pos=pos, edge_labels=edge_weights)\n",
    "nx.draw_networkx_labels(g, pos=pos)\n",
    "plt.show()"
   ]
  },
  {
   "cell_type": "markdown",
   "id": "8c4a1c6d",
   "metadata": {},
   "source": [
    "### Решение задачи TSP в NetworkX\n",
    "\n",
    "Для того, чтобы потом понять, что мы все правильно сделали, давайте сразу найдем приближенное решение задачи средствами `NetworkX`."
   ]
  },
  {
   "cell_type": "code",
   "execution_count": 13,
   "id": "6543d9fa",
   "metadata": {},
   "outputs": [
    {
     "name": "stdout",
     "output_type": "stream",
     "text": [
      "NetworkX solution (nodes order):\n",
      "[0, 3, 1, 2, 0]\n",
      "NetworkX solution (total cost): 213.0\n"
     ]
    }
   ],
   "source": [
    "nx_solution = nx.algorithms.approximation.traveling_salesman_problem(g)\n",
    "nx_solution_cost = 0\n",
    "\n",
    "for i in range(len(nx_solution) - 1):\n",
    "    nx_solution_cost += g.get_edge_data(nx_solution[i], nx_solution[i + 1])[\"weight\"]\n",
    "\n",
    "print(\"NetworkX solution (nodes order):\")\n",
    "print(nx_solution)\n",
    "print(f\"NetworkX solution (total cost): {nx_solution_cost}\")"
   ]
  },
  {
   "cell_type": "markdown",
   "id": "cad788fa",
   "metadata": {},
   "source": [
    "### Матрица $\\sigma^z_{mod}$"
   ]
  },
  {
   "cell_type": "code",
   "execution_count": 14,
   "id": "b55b97f6",
   "metadata": {},
   "outputs": [],
   "source": [
    "def sigma_z_mod(k: int, size: int):\n",
    "    sz_mod = sparse.coo_matrix(\n",
    "        [\n",
    "            [1, 0,],\n",
    "            [0, 0,],\n",
    "        ]\n",
    "    )\n",
    "\n",
    "    left_ith = sparse.eye(2 ** k, format=\"coo\")\n",
    "    right_ith = sparse.eye(2 ** (size - k - 1), format=\"coo\")\n",
    "\n",
    "    return sparse.kron(\n",
    "        sparse.kron(left_ith, sz_mod),\n",
    "        right_ith,\n",
    "    )"
   ]
  },
  {
   "cell_type": "markdown",
   "id": "b4f18fdc",
   "metadata": {},
   "source": [
    "Напомним, что эта матрица имеет собственные значения 0 и 1, в чем легко убедиться создав оператор маленькой размерности и вычислив все его собственные значения:"
   ]
  },
  {
   "cell_type": "code",
   "execution_count": 15,
   "id": "84454949",
   "metadata": {},
   "outputs": [
    {
     "name": "stdout",
     "output_type": "stream",
     "text": [
      "[0. 1.]\n"
     ]
    }
   ],
   "source": [
    "eigs = np.linalg.eig(sigma_z_mod(1, 3).toarray())\n",
    "print(np.unique(eigs[0]))"
   ]
  },
  {
   "cell_type": "markdown",
   "id": "6219fc99",
   "metadata": {},
   "source": [
    "Легко убедиться, что собственные операторы нашей $\\sigma^{z_{mod}}$ совпадают с собственными операторами $\\sigma^z$, причем они имеют значение 1, когда спин с номером 2 (напомню, что у нас 0-индексация, поэтому `sigma_z_mod(1, 3)` значит что-то типа \"построй мне матрицу $\\sigma^{z_{mod}}$, действующую на второй спин (ну или второй кубит)\") имеет в битовой строке значение 0 и 1 если он имеет значение 1:"
   ]
  },
  {
   "cell_type": "code",
   "execution_count": 16,
   "id": "95bbf98d",
   "metadata": {},
   "outputs": [
    {
     "name": "stdout",
     "output_type": "stream",
     "text": [
      "Eigenvalue: 1.0\tBit string: 000\n",
      "Eigenvalue: 1.0\tBit string: 001\n",
      "Eigenvalue: 0.0\tBit string: 010\n",
      "Eigenvalue: 0.0\tBit string: 011\n",
      "Eigenvalue: 1.0\tBit string: 100\n",
      "Eigenvalue: 1.0\tBit string: 101\n",
      "Eigenvalue: 0.0\tBit string: 110\n",
      "Eigenvalue: 0.0\tBit string: 111\n"
     ]
    }
   ],
   "source": [
    "for i, psi in enumerate(eigs[1]):\n",
    "    probs = psi * psi.conj()\n",
    "    bit_s = probs2bit_str(probs)\n",
    "    print(f\"Eigenvalue: {eigs[0][i]}\\tBit string: {bit_s}\")"
   ]
  },
  {
   "cell_type": "markdown",
   "id": "19f5d9a7",
   "metadata": {},
   "source": [
    "Убедимся также в совпадение собственных векторов с матрицей $\\sigma^z$:\n",
    "\n",
    "```{note}\n",
    "Для чистых состояний без запутывания матрицы собственных векторов могут быть приведены к виду единичных матриц. И действительно, каждый собственный вектор отвечает строго одной конфигурации спинов, а значит его волновая функция имеет вид $\\ket{\\Psi} = \\ket{0, 0, ..., 1, ..., 0, 0}$, где 1 соответствует как раз номеру той битовой строке, которая отвечает этой конфигурации.\n",
    "```"
   ]
  },
  {
   "cell_type": "code",
   "execution_count": 17,
   "id": "f0cc1515",
   "metadata": {},
   "outputs": [
    {
     "name": "stdout",
     "output_type": "stream",
     "text": [
      "Sigma z_mod:\n",
      "[[1. 0. 0. 0. 0. 0. 0. 0.]\n",
      " [0. 1. 0. 0. 0. 0. 0. 0.]\n",
      " [0. 0. 1. 0. 0. 0. 0. 0.]\n",
      " [0. 0. 0. 1. 0. 0. 0. 0.]\n",
      " [0. 0. 0. 0. 1. 0. 0. 0.]\n",
      " [0. 0. 0. 0. 0. 1. 0. 0.]\n",
      " [0. 0. 0. 0. 0. 0. 1. 0.]\n",
      " [0. 0. 0. 0. 0. 0. 0. 1.]]\n",
      "Sigma z:\n",
      "[[1. 0. 0. 0. 0. 0. 0. 0.]\n",
      " [0. 1. 0. 0. 0. 0. 0. 0.]\n",
      " [0. 0. 1. 0. 0. 0. 0. 0.]\n",
      " [0. 0. 0. 1. 0. 0. 0. 0.]\n",
      " [0. 0. 0. 0. 1. 0. 0. 0.]\n",
      " [0. 0. 0. 0. 0. 1. 0. 0.]\n",
      " [0. 0. 0. 0. 0. 0. 1. 0.]\n",
      " [0. 0. 0. 0. 0. 0. 0. 1.]]\n"
     ]
    }
   ],
   "source": [
    "print(\"Sigma z_mod:\")\n",
    "print(eigs[1])\n",
    "\n",
    "print(\"Sigma z:\")\n",
    "print(np.linalg.eig(sigmaz_k(1, 3).toarray())[1])"
   ]
  },
  {
   "cell_type": "markdown",
   "id": "c0adc34f",
   "metadata": {},
   "source": [
    "### Гамильтониан\n",
    "\n",
    "Давайте еще раз выпишем полный гамильтониан системы. Напомню, что наша задача будет параметризована при помощи $N^2$ кубит, которые, для удобства мы выстроим в виде матрицы, где $i$-я строка соответствует $i$-му шагу в цикле по графу, а $j$-й элемент строки соответствует номеру вершины и является нашим бинарным оператором:\n",
    "\n",
    "$$\n",
    "\\hat{H} = a\\sum_{i=1}^N (1 - \\sum_{j=1}^N \\sigma^{z_{mod}}_{i,j})^2 + a\\sum_{j=1}^N (1 - \\sum_{i=1}^N \\sigma^{z_{mod}}_{i,j})^2 + a \\sum_{u,v \\not\\in E}\\sum_{j=1}^{N-1}\\sigma^{z_{mod}}_{u,j}\\sigma^{z_{mod}}_{v,j+1} + b \\sum_{u,v \\in E}\\sum_{j=1}^{N-1}\\sigma^{z_{mod}}_{u,j}\\sigma^{z_{mod}}_{v,j+1}\n",
    "$$\n",
    "\n",
    "```{note}\n",
    "Еще раз вспомним, что первые два слагаемых говорят нам, что каждая вершина должна входить только в один столбец, а каждая строка должна содержать только одну вершину. Третье слагаемое представляет собой штраф за соединение вершин, между которыми нет ребра, а четвертое дает нам стоимость всего пути. Первые три слагаемых идут с бОльшим коэффициентом, чем последнее, так как нам важно в первую очередь получить реальное решение, а не получить самое дешевое.\n",
    "```\n",
    "\n",
    "Но мы сделаем еще один небольшой финт. Мы будем всегда считать, что путь коммивояжера начинается в вершине с индексом 0. Так как путь коммивояжера это гамильтонов цикл, то мы делаем это упрощение без какой-либо потери общности, так как вершина с индексом 0 все равно должна будет войти в путь. При этом такой хитрый трюк позволит нам снизить число необходимых кубит с $N^2$ до $(N - 1)^2$, что довольно существенно (хотя ассимптотическая сложность остается такой же). Работать с графом мы будем при помощи уже знакомой нам библиотеки `NetworkX`:"
   ]
  },
  {
   "cell_type": "code",
   "execution_count": 18,
   "id": "d2ac4219",
   "metadata": {},
   "outputs": [],
   "source": [
    "def convert_tsp_to_ising(g: nx.Graph) -> sparse.coo_matrix:\n",
    "    # У нас два элемента гамильтониана:\n",
    "    #   - часть, дающая нам Гамилтонов цикл\n",
    "    #   - часть, считающая стоимость пути\n",
    "    # Для нас важно, чтобы вес первой части превалирвал.\n",
    "    # Поэтому, в качестве коэффициента мы берем\n",
    "    # пятикратное значение максимального веса ребер в графе.\n",
    "\n",
    "    a = 5 * max([e[2][\"weight\"] for e in g.edges(data=True)])\n",
    "    size = g.number_of_nodes() - 1\n",
    "\n",
    "    H = sparse.coo_matrix((2 ** (size ** 2), 2 ** (size ** 2)), dtype=np.complex)\n",
    "\n",
    "    # Вычисляем сумму по колонкам:\n",
    "    #   - каждая вершина должна быть в каждой колонке строго один раз\n",
    "    for i in range(size):\n",
    "        # Считаем выражение 1 - sum\n",
    "        col_sum = sparse.eye(2 ** (size ** 2), format=\"coo\")\n",
    "        for j in range(size):\n",
    "            col_sum -= sigma_z_mod(i + j * size, size ** 2)\n",
    "\n",
    "        # Возводим в квадрат и добавляем к гамилтониану\n",
    "        H += a * col_sum * col_sum\n",
    "\n",
    "    # Вычисляем сумму по строкам:\n",
    "    #   - каждая вершина должна быть в каждой строке строго один раз\n",
    "    for j in range(size):\n",
    "        row_sum = sparse.eye(2 ** (size ** 2), format=\"coo\")\n",
    "        for i in range(size):\n",
    "            row_sum -= sigma_z_mod(i + j * size, size ** 2)\n",
    "\n",
    "        # Аналогично, в квадрат и добавляем\n",
    "        H += a * row_sum * row_sum\n",
    "\n",
    "    # Считаем сумму по тем ребрам, которых в графе нет и тем, которые есть.\n",
    "    for i in range(size):\n",
    "        for j in range(size):\n",
    "            if g.has_edge(i + 1, j + 1):\n",
    "                # Сумма по всем ребрам графа\n",
    "                coef = g.get_edge_data(i + 1, j + 1)[\"weight\"]\n",
    "            else:\n",
    "                # Сумма по всем отсутствующим ребрам графа\n",
    "                coef = a\n",
    "\n",
    "            for k in range(size - 1):\n",
    "                # Дальше просто используем полученный коэффициент и считаем сумму\n",
    "                H += (\n",
    "                    coef\n",
    "                    * sigma_z_mod(i + k * size, size ** 2)\n",
    "                    * sigma_z_mod(j + (k + 1) * size, size ** 2)\n",
    "                )\n",
    "\n",
    "            H += (\n",
    "                coef\n",
    "                * sigma_z_mod(i + (size - 1) * size, size ** 2)\n",
    "                * sigma_z_mod(j, size ** 2)\n",
    "            )\n",
    "\n",
    "    # Мы всегда начинаем из нулевой вершины, это позволяет нам снизить число необходимых кубитов.\n",
    "    # Но теперь мы должны добавить в гамильтониан слагаемое, отвечающее за нулевую вершину в пути.\n",
    "    for j in range(size):\n",
    "        if g.has_edge(0, j + 1):\n",
    "            coef = g.get_edge_data(0, j + 1)[\"weight\"]\n",
    "        else:\n",
    "            coef = a\n",
    "\n",
    "        H += coef * sigma_z_mod(j, size ** 2)\n",
    "        H += coef * sigma_z_mod(j + (size - 1) * size, size ** 2)\n",
    "\n",
    "    # PennyLane работает с матрицами только в координатном формате, поэтому сразу делаем приведение.\n",
    "    return sparse.coo_matrix(H)"
   ]
  },
  {
   "cell_type": "markdown",
   "id": "ef68908e",
   "metadata": {},
   "source": [
    "Давайте теперь проверим, что точное решение даст нам тот же путь (с той же стоимостью), что и решение из `NetworkX`:"
   ]
  },
  {
   "cell_type": "code",
   "execution_count": 19,
   "id": "39ff06d1",
   "metadata": {},
   "outputs": [
    {
     "name": "stdout",
     "output_type": "stream",
     "text": [
      "Ground state energy: 273.0000-0.0000j\n",
      "SciPy solution (nodes order):\n",
      "[0, 2, 1, 3, 0]\n",
      "SciPy solution (total cost): 213.0\n"
     ]
    }
   ],
   "source": [
    "op = convert_tsp_to_ising(g)\n",
    "scipy_solution = sl.eigs(op, k=1, which=\"SR\", return_eigenvectors=True)\n",
    "print(f\"Ground state energy: {scipy_solution[0][0]:.4f}\")\n",
    "\n",
    "probs = scipy_solution[1] * scipy_solution[1].conj()\n",
    "bit_s = probs2bit_str(probs)\n",
    "\n",
    "# Нулевая вершина всегда первая\n",
    "scipy_path = [0,]\n",
    "\n",
    "for i in range(3):\n",
    "    k = 0\n",
    "    for j in range(3):\n",
    "        if bit_s[j + i * 3] == \"0\":\n",
    "            k = j + 1\n",
    "    scipy_path.append(k)\n",
    "scipy_path.append(0)\n",
    "\n",
    "scipy_solution_cost = 0\n",
    "for i in range(len(scipy_path) - 1):\n",
    "    scipy_solution_cost += g.get_edge_data(scipy_path[i], scipy_path[i + 1])[\"weight\"]\n",
    "\n",
    "print(\"SciPy solution (nodes order):\")\n",
    "print(scipy_path)\n",
    "print(f\"SciPy solution (total cost): {scipy_solution_cost}\")"
   ]
  },
  {
   "cell_type": "markdown",
   "id": "2761a94d",
   "metadata": {},
   "source": [
    "Мы видим, что решение через матрицу совпадает с тем, что нам выдал `NetworkX` (с точностью до инверсии: `[0, 2, 1, 3, 0]` и `[0, 3, 1, 2, 0]`), как и общая стоимость пути. Энергия основного состояния отличается по причине того, что мы использовали оптимизацию и магию с коэффициентами. Но это нам не важно: по энергиям нам важно лишь отношение порядка, потому что зная битовую строку мы всегда можем проверить стоимость пути за линейное время!\n",
    "\n",
    "Теперь можно, наконец-то, приступать к симуляции квантовых вычислений!\n",
    "\n",
    "#### VQE на Pennylane\n",
    "\n",
    "Для начала давайте преобразуем нашу матрицу к тому объекту, с которым умеет работать наш квантовый фреймворк.\n",
    "\n",
    "```{note}\n",
    "`Pennylane` поддерживает также работу с представлением гамильтонианов в виде так называемых Паули-строк, но тут мы не будем еще раз определять весь гамильтониан, а просто перериспользуем нашу разреженную матрицу.\n",
    "```\n",
    "\n",
    "Веса нашего графа имеют разброс значений от 0 до 100. Из-за этого, при некоторых конфигурациях мы можем получать очень большое собственное значение нашего гамильтониана, вплоть до нескольких тысяч. Это не очень хорошо для градиентного спуска методом `paramter-shift`, поэтому для численной устойчивости давайте умножим все значения весов на $0.1$. Это сделает наши градиенты не слишком большими и улучшит численную сходимость:"
   ]
  },
  {
   "cell_type": "code",
   "execution_count": 20,
   "id": "6a3631e5",
   "metadata": {},
   "outputs": [],
   "source": [
    "import pennylane as qml\n",
    "\n",
    "numer_stability_const = 0.1\n",
    "ham = qml.SparseHamiltonian(op * numer_stability_const, wires=list(range(9)))"
   ]
  },
  {
   "cell_type": "markdown",
   "id": "fff0c610",
   "metadata": {},
   "source": [
    "Далее нам необходимо выбрать _ansatz_. Современные квантовые процессоры обычно имеют вид решетки, типа такого:\n",
    "\n",
    "```{figure} /_static/progblock/tfq/sycamore.png\n",
    ":width: 350px\n",
    ":name: sycamore_lattice\n",
    "\n",
    "Изображение из {cite}`sycamore`\n",
    "```\n",
    "\n",
    "Поэтому нам, в идеале, хотелось бы делать либо одно-кубитные операции, либо двух-кубитные операции, но над \"соседними\" кубитами. Так появилась идея, так называемого, _hardware efficient ansatz_ {cite}`hardware_ansatz`. Он заключается в том, что мы формируем несколько \"слоев\" нашей **VQC**, каждый слой содержит несколько операций вращений, а также попарные \"запутывающие\" операции (например, [_CZ_](../qcblock/gates.html#cy-cz), или гейт [_CNOT_](../qcblock/gates.html#cnot-cx)). Выглядит это примерно так:\n",
    "\n",
    "```{figure} /_static/vqeblock/vqe/HWA.png\n",
    ":width: 400px\n",
    "\n",
    "Иллюстрация _hardware efficient ansatz_ (_HWEA_) из {cite}`hardware_ansatz`\n",
    "```\n",
    "\n",
    "Давайте реализуем такой слой:"
   ]
  },
  {
   "cell_type": "code",
   "execution_count": 21,
   "id": "56c54fc5",
   "metadata": {},
   "outputs": [],
   "source": [
    "size = len(ham.wires)\n",
    "\n",
    "def layer(params):\n",
    "    for i in range(size):\n",
    "        qml.RY(params[i][0], wires=i)\n",
    "        qml.RZ(params[i][1], wires=i)\n",
    "\n",
    "    for i in range(size - 1):\n",
    "        qml.CZ(wires=[i, i + 1])"
   ]
  },
  {
   "cell_type": "markdown",
   "id": "b8c9f501",
   "metadata": {},
   "source": [
    "Здесь мы специально не повторяем основ параметризированных квантовых схем. Для тех, кто забыл, что это такое, рекомендуем вернуться к [отдельной лекции](vqc) по этой теме.\n",
    "\n",
    "Теперь давайте создадим устройство, которое будет нашим квантовым симулятором, а также напишем код, который будет на этом устройстве запускаться. Такой код должен последовательно применить несколько наших _HWEA_ слоев, после чего измерить ожидаемое значение нашего гамильтониана в полученном состоянии."
   ]
  },
  {
   "cell_type": "code",
   "execution_count": 22,
   "id": "1ebb49a0",
   "metadata": {},
   "outputs": [],
   "source": [
    "device = qml.device(\"default.qubit\", wires=size)\n",
    "num_layers = 3\n",
    "\n",
    "@qml.qnode(device, diff_method=\"parameter-shift\")\n",
    "def feed_forward(params, wires=size):\n",
    "    for k in range(3):\n",
    "        layer(params[k])\n",
    "\n",
    "    for i in range(size):\n",
    "        qml.RY(params[-1][i][0], wires=i)\n",
    "        qml.RZ(params[-1][i][1], wires=i)\n",
    "\n",
    "    return qml.expval(ham)"
   ]
  },
  {
   "cell_type": "markdown",
   "id": "5c8de0d6",
   "metadata": {},
   "source": [
    "Теперь нам надо сгенерировать параметры и выбрать метод их оптимизации. В этот раз давайте воспользуемся алгоритмом `Momentum`, так называемым \"ускоренным\" градиентным спуском:"
   ]
  },
  {
   "cell_type": "code",
   "execution_count": 23,
   "id": "b276e2f0",
   "metadata": {},
   "outputs": [],
   "source": [
    "opt = qml.MomentumOptimizer()\n",
    "params = tuple(\n",
    "    tuple(\n",
    "        (\n",
    "            np.random.rand() * 2 * np.pi,\n",
    "            np.random.rand() * 2 * np.pi,\n",
    "        )\n",
    "        for _ in range(size)\n",
    "    )\n",
    "    for _ in range(num_layers + 1)\n",
    ")"
   ]
  },
  {
   "cell_type": "markdown",
   "id": "3bf9aa26",
   "metadata": {},
   "source": [
    "Ну и наконец можно приступать к оптимизации параметров. Все примерно также, как в [базовой лекции про градиенты](gradients). То есть ничего нового мы тут по сути не делаем.\n",
    "\n",
    "```{warning}\n",
    "Осторожно, следующий код работает несколько минут, так как мы обучаем довольно тяжелую схему на 9-и кубитах!\n",
    "```"
   ]
  },
  {
   "cell_type": "code",
   "execution_count": 24,
   "id": "ed374fb7",
   "metadata": {},
   "outputs": [
    {
     "name": "stdout",
     "output_type": "stream",
     "text": [
      "epoch: 0\tenergy: 360.638506\n"
     ]
    },
    {
     "name": "stdout",
     "output_type": "stream",
     "text": [
      "epoch: 10\tenergy: 96.375950\n"
     ]
    },
    {
     "name": "stdout",
     "output_type": "stream",
     "text": [
      "epoch: 20\tenergy: 43.497589\n"
     ]
    },
    {
     "name": "stdout",
     "output_type": "stream",
     "text": [
      "epoch: 30\tenergy: 31.882151\n"
     ]
    },
    {
     "name": "stdout",
     "output_type": "stream",
     "text": [
      "epoch: 40\tenergy: 29.232270\n"
     ]
    },
    {
     "name": "stdout",
     "output_type": "stream",
     "text": [
      "epoch: 50\tenergy: 27.814023\n"
     ]
    },
    {
     "name": "stdout",
     "output_type": "stream",
     "text": [
      "epoch: 60\tenergy: 27.479515\n"
     ]
    },
    {
     "name": "stdout",
     "output_type": "stream",
     "text": [
      "epoch: 70\tenergy: 27.348231\n"
     ]
    },
    {
     "name": "stdout",
     "output_type": "stream",
     "text": [
      "epoch: 80\tenergy: 27.324815\n"
     ]
    },
    {
     "name": "stdout",
     "output_type": "stream",
     "text": [
      "epoch: 90\tenergy: 27.307322\n"
     ]
    },
    {
     "name": "stdout",
     "output_type": "stream",
     "text": [
      "epoch: 100\tenergy: 27.303441\n"
     ]
    },
    {
     "name": "stdout",
     "output_type": "stream",
     "text": [
      "epoch: 110\tenergy: 27.300767\n"
     ]
    },
    {
     "name": "stdout",
     "output_type": "stream",
     "text": [
      "epoch: 120\tenergy: 27.300371\n"
     ]
    },
    {
     "name": "stdout",
     "output_type": "stream",
     "text": [
      "epoch: 130\tenergy: 27.300139\n"
     ]
    },
    {
     "name": "stdout",
     "output_type": "stream",
     "text": [
      "epoch: 140\tenergy: 27.300076\n"
     ]
    }
   ],
   "source": [
    "energy = [\n",
    "    feed_forward(params),\n",
    "]\n",
    "\n",
    "for epoch in range(150):\n",
    "    params, e = opt.step_and_cost(feed_forward, params)\n",
    "    energy.append(e)\n",
    "\n",
    "    if epoch % 10 == 0:\n",
    "        print(f\"epoch: {epoch}\\tenergy: {e:.6f}\")"
   ]
  },
  {
   "cell_type": "code",
   "execution_count": 25,
   "id": "facc5ec5",
   "metadata": {},
   "outputs": [
    {
     "data": {
      "image/png": "[encoded data removed]",
      "text/plain": [
       "<Figure size 720x576 with 1 Axes>"
      ]
     },
     "metadata": {
      "filenames": {
       "image/png": "/home/runner/work/qmlcourse/qmlcourse/qmlcourseRU/_build/jupyter_execute/book/vqeblock/vqe_48_0.png"
      },
      "needs_background": "light"
     },
     "output_type": "display_data"
    }
   ],
   "source": [
    "plt.figure(figsize=(10, 8))\n",
    "plt.plot(np.arange(len(energy)), energy, \".-\", label=\"Energy by epochs\")\n",
    "plt.hlines(\n",
    "    np.real(scipy_solution[0][0]) * numer_stability_const,\n",
    "    0,\n",
    "    len(energy),\n",
    "    color=\"red\",\n",
    "    label=\"Exact solution\",\n",
    ")\n",
    "plt.xlabel(\"Epoch\")\n",
    "plt.ylabel(\"Energy\")\n",
    "plt.legend()\n",
    "plt.show()"
   ]
  },
  {
   "cell_type": "markdown",
   "id": "213c5ce5",
   "metadata": {},
   "source": [
    "Видим, что наш **VQE** отлично сходится к основному состоянию, которое мы знаем из `SciPy` и `ARPACK`. Теперь давайте убедимся, что квантовый путь совпадет с тем, что мы получили из `NetworkX`. Для этого нам нужно получить распределение вероятностей битовых строк. На реальном компьютере это можно сделать просто измеряя много раз, но на симуляторе у нас есть возможность получить его сразу одной командой."
   ]
  },
  {
   "cell_type": "code",
   "execution_count": 26,
   "id": "7cf25c65",
   "metadata": {},
   "outputs": [
    {
     "name": "stdout",
     "output_type": "stream",
     "text": [
      "Quantum solution (nodes order):\n",
      "[0, 2, 1, 3, 0]\n",
      "Quantum solution (total cost): 213.0\n"
     ]
    }
   ],
   "source": [
    "@qml.qnode(device, diff_method=\"parameter-shift\")\n",
    "def answer(params, wires=size):\n",
    "    for k in range(num_layers):\n",
    "        layer(params[k])\n",
    "\n",
    "    for i in range(size):\n",
    "        qml.RY(params[-1][i][0], wires=i)\n",
    "        qml.RZ(params[-1][i][1], wires=i)\n",
    "\n",
    "    return qml.probs(wires=list(range(size)))\n",
    "\n",
    "probs = answer(params)\n",
    "bit_s = probs2bit_str(probs)\n",
    "\n",
    "# Нулевая вершина всегда первая\n",
    "q_path = [0,]\n",
    "\n",
    "for i in range(3):\n",
    "    k = 0\n",
    "    for j in range(3):\n",
    "        if bit_s[j + i * 3] == \"0\":\n",
    "            k = j + 1\n",
    "    q_path.append(k)\n",
    "q_path.append(0)\n",
    "\n",
    "q_solution_cost = 0\n",
    "for i in range(len(q_path) - 1):\n",
    "    q_solution_cost += g.get_edge_data(q_path[i], q_path[i + 1])[\"weight\"]\n",
    "\n",
    "print(\"Quantum solution (nodes order):\")\n",
    "print(q_path)\n",
    "print(f\"Quantum solution (total cost): {q_solution_cost}\")"
   ]
  },
  {
   "cell_type": "markdown",
   "id": "e2873a57",
   "metadata": {},
   "source": [
    "Ура, у нас получился тот же ответ, что и в `SciPy`/`NetworkX`. Значит наш самописный **VQE** работает правильно.\n",
    "\n",
    "## Заключение\n",
    "\n",
    "В будущем вам вряд-ли придется самим расписывать матрицы и строить гамильтонианы, так как большинство современных квантовых фреймворков имеют встроенные рутины для самых типичных задач комбинаторной оптимизации. Однако для полного понимания того, как **VQE** работает внутри нам просто необходимо было проделать это все от начала и до конца самим. Надеюсь вам было интересно и не слишком сложно!"
   ]
  }
 ],
 "metadata": {
  "jupytext": {
   "formats": "md:myst",
   "text_representation": {
    "extension": ".md",
    "format_name": "myst"
   }
  },
  "kernelspec": {
   "display_name": "Python 3",
   "language": "python",
   "name": "python3"
  },
  "language_info": {
   "codemirror_mode": {
    "name": "ipython",
    "version": 3
   },
   "file_extension": ".py",
   "mimetype": "text/x-python",
   "name": "python",
   "nbconvert_exporter": "python",
   "pygments_lexer": "ipython3",
   "version": "3.8.12"
  },
  "source_map": [
   11,
   76,
   97,
   101,
   108,
   243,
   255,
   259,
   270,
   274,
   278,
   282,
   293,
   297,
   304,
   308,
   315,
   346,
   359,
   438,
   441,
   445,
   448,
   452,
   461,
   467,
   477,
   481,
   497,
   501,
   504,
   508,
   513,
   521,
   527,
   543,
   615,
   619,
   645,
   661,
   666,
   687,
   697,
   703,
   717,
   721,
   733,
   741,
   754,
   768,
   772,
   805
  ]
 },
 "nbformat": 4,
 "nbformat_minor": 5
}