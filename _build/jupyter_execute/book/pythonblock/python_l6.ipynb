{
 "cells": [
  {
   "cell_type": "markdown",
   "id": "38aa2c87",
   "metadata": {},
   "source": [
    "(python_l6)=\n",
    "\n",
    "# Списки и циклы в Python\n",
    "\n",
    "## Описание лекции\n",
    "\n",
    "На этом занятии мы разберем следущие темы:\n",
    "\n",
    "- списки (`list`) и их методы\n",
    "- индексация списков\n",
    "- что такое срезы и зачем они нужны\n",
    "- цикл `for` и функция `range`\n",
    "- итерация по спискам, list comprehensions\n",
    "- цикл `while` и когда им пользоваться\n",
    "\n",
    "## Введение в списки объектов"
   ]
  }
 ],
 "metadata": {
  "jupytext": {
   "formats": "md:myst",
   "text_representation": {
    "extension": ".md",
    "format_name": "myst"
   }
  },
  "kernelspec": {
   "display_name": "Python 3",
   "language": "python",
   "name": "python3"
  },
  "language_info": {
   "codemirror_mode": {
    "name": "ipython",
    "version": 3
   },
   "file_extension": ".py",
   "mimetype": "text/x-python",
   "name": "python",
   "nbconvert_exporter": "python",
   "pygments_lexer": "ipython3",
   "version": "3.8.10"
  },
  "source_map": [
   11
  ]
 },
 "nbformat": 4,
 "nbformat_minor": 5
}