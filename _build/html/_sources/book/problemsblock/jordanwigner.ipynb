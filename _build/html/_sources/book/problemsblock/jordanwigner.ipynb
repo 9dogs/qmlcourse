{
 "cells": [
  {
   "cell_type": "markdown",
   "id": "4925368d",
   "metadata": {},
   "source": [
    "(quantchembasic)=\n",
    "\n",
    "# Преобразование Жордана-Вигнера\n",
    "\n",
    "## Описание лекции\n",
    "\n",
    "\n",
    "## Введение\n",
    "\n",
    "## Спины, фермионы и бозоны\n",
    "\n",
    "## Переход от спинов к фермионам\n",
    "\n",
    "Мы можем попробовать сопоставить спину фермион сказав что спин вниз значит что фермион есть, а спин вверх -- что его нет.\n",
    "Другими словами, используя оператор количества частиц $\\hat{n}_i = c^\\dagger_i c_i$, где $c^\\dagger_i$ и $c_i$ это операторы\n",
    "создания и разрушения соответсвенно, мы хотели бы сопоставить\n",
    "$$\\hat{\\sigma}_i^z = 1 - 2\\hat{n}_i$$\n",
    "\n",
    "Тогда лестничные операторы $\\sigma^- = (\\hat{\\sigma}_i^x-i\\hat{\\sigma}_i^y)/2$ и \n",
    "$\\sigma^+= (\\hat{\\sigma}_i^x+i\\hat{\\sigma}_i^y)/2$ соответствуют операторам создания и разрушения. \n",
    "Действительно, на одной вершине эти операторы выполняют фермионное антикоммутационное отношение\n",
    "$$ \\{ \\sigma^+_j, \\sigma^-_j} = 1. $$\n",
    "\n",
    "К сожалению, на разных вершинах эти операторы коммутируют, а не антикоммутируют. Чтобы это исправить, мы \"прикрепляем\"\n",
    "к каждому фермиону \"нить\":\n",
    "$$\\sigma^+_i = \\left[ \\prod_{j< i} (1-2c^\\dagger_j c_j) \\right] c_i$$\n",
    "$$\\sigma^-_i = \\left[ \\prod_{j< i} (1-2c^\\dagger_j c_j) \\right] c^\\dagger_i$$\n",
    "\n",
    "Oператор $\\prod_{j_i} (1-2c^\\dagger_j c_j)$ равен $\\pm 1$ в зависимости от четности количества фермионов слева от вершины $i$.\n",
    "\n",
    "Заметим, что  $c_k$ антикоммутирует с  $(1-2c^\\dagger_k c_k)$:\n",
    "$$ \\{ c_j, (1-2c^\\dagger_j c_j)} = c_j (1-2c^\\dagger_j c_j) +  c_j (1-2c^\\dagger_j c_j)c_j  =\n",
    "c_j  -2c_jc^\\dagger_j c_j +  c_j -2c^\\dagger_j c_jc_j = c_j  -2c_j+  c_j  = 0,$$\n",
    "и, следовательно с нитью $\\prod_{j_i} (1-2c^\\dagger_j c_j) $ (интуивно, если сначала разрушить фермион, то четность изменится).\n",
    "\n",
    "Пусть, без ограничения общности, $\\ell>k$:\n",
    "\n",
    "$$\\sigma^+_k \\sigma^-_\\ell = \\left[ \\prod_{j<k} (1-2c^\\dagger_j c_j) \\right] c_k \\left[ \\prod_{m< \\ell} (1-2c^\\dagger_m c_m) \\right] c^\\dagger_\\ell $$\n",
    "Если мы перенесем $c_k$ вправо, то выражение умножится на -1 дважды (один раз из-за изменения четности $\\ell$-нити, \n",
    "и один раз из-за обмена с $c^\\dagger_\\ell$) $i$-нить коммутирует со всем, поэтому ее мы можем перенести вправо без изменений:\n",
    "$$\\sigma^+_k \\sigma^-_\\ell \n",
    "= \\left[ \\prod_{j<k} (1-2c^\\dagger_j c_j) \\right] c_k \\left[ \\prod_{m< \\ell} (1-2c^\\dagger_m c_m) \\right] c^\\dagger_\\ell\n",
    "=  \\left[ \\prod_{m< \\ell} (1-2c^\\dagger_m c_m) \\right] c^\\dagger_\\ell \\left[ \\prod_{j<k} (1-2c^\\dagger_j c_j) \\right] c_k =\n",
    "= \\sigma^-_\\ell  \\sigma^+_k, $$\n",
    "как и требовалось. Мы так же можем записать обратное отношение:\n",
    "$$c_i = \\left[ \\prod_{j< i} \\sigma^z_j \\right] \\sigma^+_i$$\n",
    "$$c^\\dagger_i = \\left[ \\prod_{j< i} \\sigma^z_j \\right] \\sigma^+_j.$$\n",
    "Проверка антикоммутаторов оставляется читателю в качестве упражнения.\n",
    "\n",
    "Таким образом мы установили соответсвие между фермионной и спиновой системами, но операторы в обоих случаях очень нелокальны."
   ]
  }
 ],
 "metadata": {
  "jupytext": {
   "formats": "md:myst",
   "text_representation": {
    "extension": ".md",
    "format_name": "myst"
   }
  },
  "kernelspec": {
   "display_name": "Python 3",
   "language": "python",
   "name": "python3"
  },
  "language_info": {
   "codemirror_mode": {
    "name": "ipython",
    "version": 3
   },
   "file_extension": ".py",
   "mimetype": "text/x-python",
   "name": "python",
   "nbconvert_exporter": "python",
   "pygments_lexer": "ipython3",
   "version": "3.8.12"
  },
  "source_map": [
   11
  ]
 },
 "nbformat": 4,
 "nbformat_minor": 5
}