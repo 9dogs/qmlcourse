{
 "cells": [
  {
   "cell_type": "markdown",
   "id": "bdd1026c",
   "metadata": {},
   "source": [
    "(python_l4)=\n",
    "\n",
    "# Переменные и вывод информации в Python\n",
    "\n",
    "## Описание лекции\n",
    "\n",
    "Из этой лекции вы узнаете о:\n",
    "\n",
    "- базовых типах данных и переменных\n",
    "- простейших операциях с числами и строками\n",
    "- функции print\n",
    "- выводе информации с подстановкой значений\n",
    "\n",
    "## Типы данных в `Python`"
   ]
  }
 ],
 "metadata": {
  "jupytext": {
   "formats": "md:myst",
   "text_representation": {
    "extension": ".md",
    "format_name": "myst"
   }
  },
  "kernelspec": {
   "display_name": "Python 3",
   "language": "python",
   "name": "python3"
  },
  "language_info": {
   "codemirror_mode": {
    "name": "ipython",
    "version": 3
   },
   "file_extension": ".py",
   "mimetype": "text/x-python",
   "name": "python",
   "nbconvert_exporter": "python",
   "pygments_lexer": "ipython3",
   "version": "3.8.10"
  },
  "source_map": [
   11
  ]
 },
 "nbformat": 4,
 "nbformat_minor": 5
}