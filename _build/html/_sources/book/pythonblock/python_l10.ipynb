{
 "cells": [
  {
   "cell_type": "markdown",
   "id": "26ba9349",
   "metadata": {},
   "source": [
    "(python_l10)=\n",
    "\n",
    "# Финальная лекция обо всем и ни о чем\n",
    "\n",
    "## Описание лекции\n",
    "В этой лекции будет:\n",
    "- рассказ о типовых ошибках при прохождении курса;\n",
    "- разбор примеров кода из курса;\n",
    "- дополнение для самых любознательных о `Python`, ML и вообще.\n",
    "\n",
    "## Заметки по прохождению курса\n",
    "Хоть в пройденных лекциях по `Python` и содержится большое количество материала, проиллюстрированного примерами, с указанием на дополнительные темы для самостоятельного изучения -- это все еще малая доля того, с чем вам придется столкнуться, если захочется продолжить развитие в теме ML/QML. Да, это грустно, но такова правда жизни. А еще вы столкнетесь с кучей проблем и ошибок во время прохождения самого курса. Если вы **попытались разобраться** с чем-либо, но у вас не получилось -- приходите к нам в сообщество в Slack, задавайте вопросы. Не забывайте и о взаимопомощи другим студентам -- если материал или тема дались вам легко, то кому-то они могут показаться адски сложными.\n",
    "\n",
    "Помните, что абсолютное большинство возникающих ошибок в `Python` неуникально, и вы не первый, кто наступил на эти грабли. Не стесняйтесь пользоваться поисковиками для нахождения решений. Но перед этим обязательно прочитайте текст ошибки, попробуйте осознать, о чем `Python` хочет вам сказать - в этом языке программирования одни из самых понятных и доступных подсказок и указателей на проблемы. К примеру, `IndexError: list index out of range` явно говорит о том, что во время обращения к i-тому объекту некоторого списка (который, кстати, будет указан в так называемом трейсбеке, от англ. traceback) возник выход за границы `list`. Возьмем для примера список `sample_list` чисел длины 5. Что произойдет, если обратиться к седьмому объекту `sample_list[7]`?\n",
    "\n",
    "```{figure} /_static/pythonblock/python_l11/example_traceback.png\n",
    ":name: example_traceback\n",
    ":width: 550px\n",
    "\n",
    "Получим ошибку\n",
    "```\n",
    "\n",
    "Обратите внимание на стрелочку слева, указывающую на строку номер 5 (кстати, в Jupyter Notebook для каждой отдельной ячейки можно включить нумерацию строк для удобства навигации с помощью клавиши `l`). Это место возникновения ошибки, та строка, на которой `Python` не смог выполнить инструкцию. Как можно решить проблему? Для начала **методом пристального взгляда** поймите, написано ли в коде то, что вы хотели -- очень часто код, к примеру, копируется (хотя нужно избегать этого с помощью написания функций), но переменные в нем не меняются в силу невнимательности. Если все переменные в строке те же, что и должны быть, и ошибка не ясна, то следует заняться [отладкой кода](https://ru.wikipedia.org/wiki/Отладка_программы).\n",
    "\n",
    "Самый простой способ отладки в Jupyter -- это расстановка `print`'ов до проблемной строки. Да-да, так кустарно и грубо. Есть более продвинутые технологии (например, [отладчики](https://code.visualstudio.com/docs/python/debugging) в IDE, то есть средах разработки), однако они выходят за рамки данного курса. Очевидный совет - нужно размещать такой `print`, который помогает проверить какую-либо **гипотезу** о происхождении ошибки. Предложение таких гипотез -- это отдельный навык, который приходит с опытом, так что не переживайте, что поначалу получается плохо \"угадывать\" и \"понимать\" ошибки.\n",
    "\n",
    "В случае обращения по неверному индексу (`list index out of range`) логично предположить, что индекс оказался больше максимально возможного значения. Давайте выведем длину списка и индекс, по которому хотим обратиться:\n",
    "\n",
    "```{figure} /_static/pythonblock/python_l11/example_debug.png\n",
    ":name: example_debug\n",
    ":width: 550px\n",
    "\n",
    "Строчку с вашим отладочным выводом легко потерять - для удобства можно добавлять какие-то символы или текст.\n",
    "```\n",
    "\n",
    "И исходя из аргументов выше становится очевидно, в чем именно проблема. Конечно, рассмотренный случай крайне тривиален, однако он показывает базовые приемы поиска причин ошибок. Отметим также такой полезный прием как разбитие проблемной строки кода на подстроки, то есть разнесение кода на отдельные изолированные куски. В данном примере в отдельную переменную был записан индекс. Однако попробуйте угадать, в каком месте происходит ошибка в коде ниже:\n",
    "\n",
    "```{figure} /_static/pythonblock/python_l11/debug_hard.png\n",
    ":name: debug_hard\n",
    ":width: 550px\n",
    "\n",
    "Трейсбек ошибки предательски указывает на функцию, при вызове которой возникла ошибка - `third_f`\n",
    "```\n",
    "\n",
    "Это уже более сложный пример, когда трейсбек состоит из двух блоков. Указатель на ошибку как бы \"проваливается\" внутрь вызываемой функции и показывает, что не так. В данном случае ошибка `TypeError: unsupported operand type(s) for +: 'int' and 'str'` указывает на несовместимость типов операндов в операции сложения. Слева `int`, справа `str` -- ну и как же их суммировать?\n",
    "\n",
    "Однако исходная строчка, порождающая ошибку, крайне сложна. Мы вызываем функцию (`print`) от функции (`first_f`) от функции... Будь логика в коде чуть сложнее -- легко можно было бы запутаться, что именно породило ошибку (главное обращайте внимание на заголовки трейсбека, указывающие на названия методов и функций). С разбиением все проще:\n",
    "\n",
    "```{figure} /_static/pythonblock/python_l11/debug_solved.png\n",
    ":name: debug_solved\n",
    ":width: 550px\n",
    "\n",
    "Вуаля! Указатель в виде стрелочки прямо рапотрует о том, что проблема в вычислении `third_f`. Дальше можно было бы добавить `print(tmp1)` для того, чтобы увидеть входные параметры и попытаться понять, в чем же проблема.\n",
    "```\n",
    "\n",
    "На этом остановимся, блок обязательно будет дополняться по мере возникновения типовых ошибок и способов их поимки. Главное помните, что можно распечатать и аргументы функции/метода, и атрибуты класса (в том числе скрытые/промежуточные состояния квантовой среды), и результаты расчетов.\n",
    "\n",
    "## Примеры кода, не разобранные в лекциях\n",
    "Ранее весь код, который упоминался в лекциях (за вычетом примера из первой) был написан на чистом `Python` без сторонних библиотек, которые мы так нахваливали. В курсе же, разумеется, они встретятся. Полезно поговорить о двух вещах - об **импортах** библиотек и об их алиасах.\n",
    "\n",
    "Для того, чтобы использовать какой-либо объект из сторонней библиотеки, будь то функция, класс или даже словарь (например, с физическими константами), необходимо знать, в какой библиотеке и по какому пути он лежит. Все это описано в документации, а также в примерах кода в курсе. Не переживайте, если они плохо запоминаются - чаще всего их копируют, и со временем в голове откладывается паттерн. И все же для того, чтобы получить доступ к библиотеке, нужно сделать следующее -- рассмотрим на примере [`numpy`](https://numpy.org/), библиотеки для алгебраических расчетов. Сначала следует ключевое слово `import`, затем через пробел название пакета. Опционально через `as` можно добавить алиас - название, под которым можно будет обращаться в коде для доступа к функциям. У многих пакетов есть общепринятые алиасы, с которыми все знакомы. Для `numpy` это `np`. Итак,"
   ]
  },
  {
   "cell_type": "code",
   "execution_count": 1,
   "id": "f9a4d6d2",
   "metadata": {},
   "outputs": [
    {
     "name": "stdout",
     "output_type": "stream",
     "text": [
      "np_example_array.shape = (3,)\n",
      "abs_res = 2\n"
     ]
    }
   ],
   "source": [
    "import numpy as np\n",
    "\n",
    "np_example_array = np.array([1,2,3])\n",
    "print(f\"{np_example_array.shape = }\")\n",
    "\n",
    "abs_res = np.abs(-2)\n",
    "print(f\"{abs_res = }\")"
   ]
  },
  {
   "cell_type": "markdown",
   "id": "a621ec7b",
   "metadata": {},
   "source": [
    "По сути обращение схоже с объявлением объекта класса или же каким то методом - ведь можно импортировать не целый пакет, а его часть!"
   ]
  },
  {
   "cell_type": "code",
   "execution_count": 2,
   "id": "3ffd8772",
   "metadata": {},
   "outputs": [
    {
     "name": "stdout",
     "output_type": "stream",
     "text": [
      "zeros_matrix = array([[0., 0., 0.]])\n"
     ]
    }
   ],
   "source": [
    "from numpy import zeros\n",
    "\n",
    "zeros_matrix = zeros(shape=(1, 3))\n",
    "print(f\"{zeros_matrix = }\")"
   ]
  },
  {
   "cell_type": "markdown",
   "id": "889868dc",
   "metadata": {},
   "source": [
    "Здесь `zeros` - **функция**, формирующая матрицу из нулей заданного размера.\n",
    "\n",
    "Или, к примеру, для отрисовки визуализаций часто используют следующую библиотеку (мы уже с ней сталкивались):"
   ]
  },
  {
   "cell_type": "code",
   "execution_count": 3,
   "id": "fab5d282",
   "metadata": {},
   "outputs": [
    {
     "data": {
      "image/png": "[encoded data removed]",
      "text/plain": [
       "<Figure size 432x288 with 1 Axes>"
      ]
     },
     "metadata": {
      "filenames": {
       "image/png": "/home/runner/work/qmlcourse/qmlcourse/qmlcourseRU/_build/jupyter_execute/book/pythonblock/python_l10_5_0.png"
      },
      "needs_background": "light"
     },
     "output_type": "display_data"
    }
   ],
   "source": [
    "import matplotlib.pyplot as plt\n",
    "\n",
    "plt.scatter(np.random.randn(10), np.random.randn(10));\n",
    "plt.show();"
   ]
  },
  {
   "cell_type": "markdown",
   "id": "1d3c6818",
   "metadata": {},
   "source": [
    "```{tip}\n",
    "В коде выше в последних двух строчках стоит `;`. Это необязательный символ, означающий конец команды. В большинстве других языков программирования необходимо всегда в конце строки оставлять этот символ, однако в питоне сигналом о конце инстуркции служит перенос строки.\n",
    "Почему же здесь они поставлены? Во-первых, чтобы показать, что они означают -- чтоб вы не переживали, когда встретите подобное. Во-вторых, `plt.show()` возвращает объект после вызова метода. `Jupyter` же по умолчанию выводит последнее возвращенное значение. Попробуйте убрать точку с запятой и посмотреть в своем ноутбуке, что выйдет. Таким образом, в данном случае окончание команды `;` говорит, что возвращаемая переменная никуда не будет записана и будет удалена - поэтому при ее наличии подпись объекта не возвращается.\n",
    "```\n",
    "\n",
    "В коде сначала происходит импорт, затем вызывается отрисовка точек (см. [документацию тут](https://matplotlib.org/stable/api/_as_gen/matplotlib.pyplot.scatter.html?highlight=scatter#matplotlib.pyplot.scatter)), где координаты `X` и `Y` получаются случайно из нормального распределения от `-1` до `1`. Но сам по себе вызов `scatter()` лишь добавляет точки на график, но не отрисовывает его - за это отвечает вызов `plt.show()`. Стоит заметить, что `plt` хранит в себе \"полотно\", на котором рисует, и результат добавления точек через `scatter` не нужно записывать в какую-либо переменную -- все это хранится во внутреннем состоянии самой библиотеки. Помните урок про классы и их объекты, задающие состояние системы? Здесь ровно то же самое! Более того, аналогичный функционал будет у библиотеки для квантовых вычислений, с которой вы познакомитесь далее по курсу (под алиасом `qml`). Теперь, надеемся, картинка начинает складываться!\n",
    "\n",
    "## Блок дополнительных ссылок\n",
    "Ниже представлен набор ссылок, которые предлагается просмотреть для расширения кругозора и лучшего понимания материала. Это бонусный материал, необязательный к изучению. Но если вас захватила идея получше познакомится со своим инструментом, то почему нет?\n",
    "\n",
    "1. [Курс по Python](https://github.com/trekhleb/learn-python) в виде примеров кода с очевидными и не очень механиками языка. Хорошо подойдет как дополнение к примерам в курсе;\n",
    "2. [realpython](https://realpython.com/) -- сайт с большим количеством разнообразных уроков по `Python` на английском;\n",
    "3. [Огромный список](https://github.com/kirang89/pycrumbs) ссылок на разные статьи по всем темам - от основ `Python` и до продвинутых приемов в разработке;\n",
    "4. [И другой](https://github.com/vinta/awesome-python) -- с набором ссылок на код разных программ. Игры, видеопроигрыватели и прочее - все тут;\n",
    "5. [Простой отладчик](https://github.com/alexmojaki/snoop) на случай, если начали путаться в своем коде, а продвинутые инструменты кажутся очень сложными и громоздкими.\n",
    "\n",
    "```{tip}\n",
    "Как ставить новые библиотеки в `Python` -- вот хотя бы тот же отладчик из пункта 5? Вспоминайте совет -- гугл ваш лучший друг. \"how to install python library\" (да, прямо дословно library = библиотека) -- и вы на коне!\n",
    "```\n",
    "\n",
    "## Вместо заключения\n",
    "Что ж, вот и подошел к концу первый блок курса. Его можно назвать самым сложным -- нет, не с точки зрения материала и его научности, но по количеству усилий, которые необходимо приложить, чтобы не сбиться с пути и продолжить обучение несмотря на трудности. Именно тут большая часть людей машет рукой и закрывает курс. Если ты, дорогой студент, читаешь это, то мы безумно рады за твои достижения и подвиги, и желаем дальнейших успехов в прохождении курса!\n",
    "\n",
    "```{figure} /_static/pythonblock/python_l11/cats_show_love_differently.jpeg\n",
    ":name: cats_show_love_differently\n",
    ":width: 350px\n",
    "```"
   ]
  }
 ],
 "metadata": {
  "jupytext": {
   "formats": "md:myst",
   "text_representation": {
    "extension": ".md",
    "format_name": "myst"
   }
  },
  "kernelspec": {
   "display_name": "Python 3",
   "language": "python",
   "name": "python3"
  },
  "language_info": {
   "codemirror_mode": {
    "name": "ipython",
    "version": 3
   },
   "file_extension": ".py",
   "mimetype": "text/x-python",
   "name": "python",
   "nbconvert_exporter": "python",
   "pygments_lexer": "ipython3",
   "version": "3.8.12"
  },
  "source_map": [
   11,
   75,
   83,
   87,
   92,
   98,
   103
  ]
 },
 "nbformat": 4,
 "nbformat_minor": 5
}