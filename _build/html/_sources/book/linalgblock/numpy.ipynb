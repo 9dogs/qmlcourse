{
 "cells": [
  {
   "cell_type": "markdown",
   "id": "3ecff5cf",
   "metadata": {},
   "source": [
    "(numpy)=\n",
    "# Numpy\n",
    "\n",
    "Широко используемая библиотека для вычислений с многомерными массивами. API большей частью вдохновлен MATLABом (великая и ужасная среда, язык и IDE для матричных вычислений), а теперь сам является примером для подражания API различных вычислительных пакетов.\n",
    "\n",
    "Более последовательный гайд стоит посмотреть на [оффсайте библиотеки](https://numpy.org/devdocs/user)\n",
    "\n",
    "\n",
    "## Массивы"
   ]
  },
  {
   "cell_type": "code",
   "execution_count": 1,
   "id": "61dc3c36",
   "metadata": {},
   "outputs": [
    {
     "name": "stdout",
     "output_type": "stream",
     "text": [
      "a=array([1, 2, 3])\n",
      "b=array([[0., 0.],\n",
      "       [0., 0.]])\n",
      "c=array([[1., 0., 0.],\n",
      "       [0., 1., 0.],\n",
      "       [0., 0., 1.]])\n",
      "q=array([[0.06386128, 0.65336907, 0.46841928, 0.60732283, 0.28954344,\n",
      "        0.16910143, 0.09216393, 0.72863515, 0.76218305, 0.9971869 ,\n",
      "        0.13046268, 0.11452328, 0.5484082 , 0.97121189, 0.07335811,\n",
      "        0.31666155, 0.69109277, 0.2119708 , 0.20405354, 0.48059035,\n",
      "        0.395689  , 0.52002569, 0.64699697, 0.97722776, 0.53526465,\n",
      "        0.48201101, 0.92793049, 0.97523349, 0.1619291 , 0.09816969,\n",
      "        0.32132199, 0.73204432, 0.97790937, 0.19771633, 0.97138366,\n",
      "        0.44247031, 0.27405911, 0.6550012 , 0.68150798, 0.76660065,\n",
      "        0.67218506, 0.17569958, 0.13086829, 0.15402804, 0.09253279,\n",
      "        0.02741459, 0.98620279, 0.44237585, 0.59795419, 0.93960663,\n",
      "        0.19554344, 0.48523206, 0.13011124, 0.72603291, 0.80908769,\n",
      "        0.46694355, 0.90314427, 0.50409221, 0.48809871, 0.14912362,\n",
      "        0.28223662, 0.70705966, 0.70557501, 0.94254408, 0.10548348,\n",
      "        0.16170904, 0.46518997, 0.05146841, 0.33522234, 0.59253913,\n",
      "        0.78381714, 0.28804496, 0.85552011, 0.02522896, 0.2689839 ,\n",
      "        0.93797695, 0.78513519, 0.24754138, 0.11995733, 0.26875241,\n",
      "        0.57341137, 0.12217952, 0.77766537, 0.39769108, 0.25137594,\n",
      "        0.85491511, 0.90890147, 0.83331182, 0.34962114, 0.94869036,\n",
      "        0.27763607, 0.79499595, 0.41610213, 0.52211609, 0.63400059,\n",
      "        0.10371824, 0.94245385, 0.78799668, 0.9825232 , 0.89618539]])\n"
     ]
    }
   ],
   "source": [
    "import numpy as np\n",
    "\n",
    "a = np.array([1, 2, 3]) # создадим вектор\n",
    "print(f'{a=}')\n",
    "b = np.zeros((2, 2))\n",
    "print(f'{b=}')\n",
    "c = np.eye(3)\n",
    "print(f'{c=}')\n",
    "q = np.random.random((1, 100))\n",
    "print(f'{q=}')"
   ]
  },
  {
   "cell_type": "markdown",
   "id": "ec518ae3",
   "metadata": {},
   "source": [
    "## Math ops\n",
    "Для удобства использования np.ndarray определены арифметические операторы, так чтобы соответствовать ожиданиям:"
   ]
  },
  {
   "cell_type": "code",
   "execution_count": 2,
   "id": "d867ac53",
   "metadata": {},
   "outputs": [
    {
     "name": "stdout",
     "output_type": "stream",
     "text": [
      "diff=array([ 2, -1, -1])\n",
      "mult=array([-1,  6, 12])\n",
      "scalar_mult=17\n"
     ]
    }
   ],
   "source": [
    "a = np.array([1, 2, 3])\n",
    "b = np.array([-1, 3, 4])\n",
    "diff = a - b\n",
    "print(f'{diff=}')\n",
    "mult = a * b\n",
    "print(f'{mult=}')\n",
    "scalar_mult = a@b\n",
    "print(f'{scalar_mult=}')"
   ]
  },
  {
   "cell_type": "markdown",
   "id": "fa3b7e0c",
   "metadata": {},
   "source": [
    "## Indexing, slicing and sugar\n",
    "\n",
    "Numpy поддерживает кажется все разумные варианты индексации:"
   ]
  },
  {
   "cell_type": "code",
   "execution_count": 3,
   "id": "263dc910",
   "metadata": {},
   "outputs": [
    {
     "name": "stdout",
     "output_type": "stream",
     "text": [
      "a=array([[ 0,  1,  2,  3],\n",
      "       [ 4,  5,  6,  7],\n",
      "       [ 8,  9, 10, 11],\n",
      "       [12, 13, 14, 15]])\n",
      "a_{0,1} 1 1\n",
      "a_{1,1..3} [1 2]\n",
      "a_{2} [ 8  9 10 11] [ 8  9 10 11] [ 8  9 10 11]\n",
      "mask=array([[ True, False, False,  True],\n",
      "       [False, False,  True, False],\n",
      "       [False,  True, False, False],\n",
      "       [ True, False, False,  True]])\n",
      "[ 0  3  6  9 12 15]\n",
      "[[0 1 2 3]\n",
      " [4 5 6 7]]\n"
     ]
    }
   ],
   "source": [
    "a = np.arange(16).reshape(4, 4)\n",
    "print(f'{a=}')\n",
    "\n",
    "# просто по индексам\n",
    "print(\"a_{0,1}\", a[0, 1], a[0][1])\n",
    "\n",
    "# по слайсам\n",
    "print(\"a_{1,1..3}\", a[0, 1:3])\n",
    "print(\"a_{2}\", a[2], a[2, :], a[2, ...])\n",
    "\n",
    "# по маске\n",
    "mask = (a % 3 == 0)\n",
    "print(f'{mask=}')\n",
    "print(a[mask])\n",
    "\n",
    "first_rows = np.array([True, True, False, False])\n",
    "print(a[first_rows])"
   ]
  },
  {
   "cell_type": "markdown",
   "id": "71d6b518",
   "metadata": {},
   "source": [
    "Для работы с размерностями часто используются еще три конструкции: `None`, `...` (ellipsis, многоточие) и `:` (двоеточие)."
   ]
  },
  {
   "cell_type": "code",
   "execution_count": 4,
   "id": "aef4242e",
   "metadata": {},
   "outputs": [
    {
     "name": "stdout",
     "output_type": "stream",
     "text": [
      "a=array([[ 0,  1,  2,  3],\n",
      "       [ 4,  5,  6,  7],\n",
      "       [ 8,  9, 10, 11],\n",
      "       [12, 13, 14, 15]])\n",
      "(1, 4, 4)\n",
      "(4, 4, 1)\n",
      "[ 8  9 10 11]\n",
      "[ 8  9 10 11]\n",
      "[[ 0  1  2  3]\n",
      " [ 4  5  6  7]\n",
      " [ 8  9 10 11]\n",
      " [12 13 14 15]] [[ 0  1  2  3]\n",
      " [ 4  5  6  7]\n",
      " [ 8  9 10 11]\n",
      " [12 13 14 15]]\n",
      "[1 4 7] [1 4 7]\n"
     ]
    }
   ],
   "source": [
    "# None добавляет ось размерности 1\n",
    "print(f'{a=}')\n",
    "print(a[None].shape)\n",
    "print(a[:, :, None].shape)\n",
    "\n",
    "# : превращается в slice (None), берет все элементы вдоль размерности\n",
    "print(a[2, :])\n",
    "print(a[2, 0:None])\n",
    "\n",
    "# ... ellipsis, превращается в необходимое число двоеточий :,:,:\n",
    "\n",
    "print(a[...], a)\n",
    "\n",
    "z = np.arange(27).reshape(3, 3, 3)\n",
    "print(z[0, ..., 1], z[0, :, 1]) # ... удобен когда мы не знаем настоящий шейп массива или нужно не трогать несколько подряд идущих размерностей"
   ]
  },
  {
   "cell_type": "markdown",
   "id": "8f6519de",
   "metadata": {},
   "source": [
    "В целом, в numpy очень здорово реализованы методы `__getitem__`/`__setitem__`."
   ]
  },
  {
   "cell_type": "code",
   "execution_count": 5,
   "id": "4bdbdfd3",
   "metadata": {},
   "outputs": [
    {
     "name": "stdout",
     "output_type": "stream",
     "text": [
      "element=3\n",
      "a=array([1, 2, 5])\n"
     ]
    }
   ],
   "source": [
    "a = np.array([1, 2, 3])\n",
    "element = a[2]\n",
    "print(f'{element=}')\n",
    "a[2] = 5\n",
    "print(f'{a=}')"
   ]
  },
  {
   "cell_type": "markdown",
   "id": "7c6bc07f",
   "metadata": {},
   "source": [
    "Кроме того, мы можем делать индексацию по заданному условию с помощью `np.where`"
   ]
  },
  {
   "cell_type": "code",
   "execution_count": 6,
   "id": "76c04783",
   "metadata": {},
   "outputs": [
    {
     "name": "stdout",
     "output_type": "stream",
     "text": [
      "selection=(array([0, 1]),)\n",
      "a2=array([ 2,  2, 12, 16])\n",
      "a3=array([[1, 1, 2, 1],\n",
      "       [0, 1, 3, 1]])\n"
     ]
    }
   ],
   "source": [
    "# создадим вектор\n",
    "a = np.array([2, 4, 6, 8])\n",
    "selection = np.where(a < 5)\n",
    "print(f'{selection=}')\n",
    "\n",
    "# дополнительно мы можем передать два значения или вектора, при выполнении условия выбираются элементы из первого значения/вектора, при невыполнении - из второго\n",
    "a2 = np.where(a < 5, 2, a * 2)\n",
    "print(f'{a2=}')\n",
    "\n",
    "# np.where работает и с многомерными массивами\n",
    "a = np.array([[8, 8, 2, 6], [0, 5, 3, 4]])\n",
    "a3 = np.where(a < 4, a, 1)\n",
    "print(f'{a3=}')"
   ]
  },
  {
   "cell_type": "markdown",
   "id": "1402c8c0",
   "metadata": {},
   "source": [
    "## Broadcasting\n",
    "\n",
    "Что происходит, если мы хотим арифметику с массивами разных размеров?"
   ]
  },
  {
   "cell_type": "code",
   "execution_count": 7,
   "id": "a841fa3d",
   "metadata": {},
   "outputs": [
    {
     "name": "stdout",
     "output_type": "stream",
     "text": [
      "broad=array([2, 4, 6])\n"
     ]
    }
   ],
   "source": [
    "a = np.array([1, 2, 3])\n",
    "k = 2\n",
    "broad = a * k\n",
    "print(f'{broad=}')"
   ]
  },
  {
   "cell_type": "markdown",
   "id": "cca7ef3e",
   "metadata": {},
   "source": [
    "С точки зрения математики, ничего интересного тут не происходит: мы подразумевали умножение всего вектора на скаляр.\n",
    "Однако матричные операции в numpy справляются и с менее очевидными случаями, например при сложении или вычитании вектора и скаляра:"
   ]
  },
  {
   "cell_type": "code",
   "execution_count": 8,
   "id": "0003cb50",
   "metadata": {},
   "outputs": [
    {
     "name": "stdout",
     "output_type": "stream",
     "text": [
      "broad=array([-1,  0,  1])\n"
     ]
    }
   ],
   "source": [
    "a = np.array([1, 2, 3])\n",
    "k = 2\n",
    "broad = a - k\n",
    "print(f'{broad=}')"
   ]
  },
  {
   "cell_type": "markdown",
   "id": "c86d4016",
   "metadata": {},
   "source": [
    "В numpy приняты следующие правила работы с массивами разного размера:\n",
    "\n",
    "1. Размерности сравниваются справа налево\n",
    "2. Два массива совместимы в размерности, если она одинаковая, либо у одного из массивов единичная.\n",
    "3. Вдоль отсутствующих размерностей происходит расширение повторением (`np.repeat`).\n",
    "\n",
    "![.](https://i.stack.imgur.com/JcKv1.png)\n",
    "\n",
    "```{admonition} Link to the source\n",
    "https://mathematica.stackexchange.com/questions/99171/how-to-implement-the-general-array-broadcasting-method-from-numpy\n",
    "```\n",
    "\n",
    "Be aware, автоматический броадкастинг легко приводит к ошибкам, так что лучше делать его самостоятельно в явной форме.\n",
    "\n",
    "\n",
    "## floating point things\n",
    "\n",
    "Отдельно стоит поговорить про числа с плавающей точкой.\n",
    "Число с плавающей запятой (или число с плавающей точкой) — экспоненциальная форма представления вещественных (действительных) чисел, в которой число хранится в виде мантиссы и порядка (показателя степени). При этом число с плавающей запятой имеет фиксированную относительную точность и изменяющуюся абсолютную.\n",
    "В результате одно и то же значение может выглядеть по-разному, если хранить его с разной точностью."
   ]
  },
  {
   "cell_type": "code",
   "execution_count": 9,
   "id": "238f89d1",
   "metadata": {},
   "outputs": [
    {
     "name": "stdout",
     "output_type": "stream",
     "text": [
      "True\n",
      "0.1 0.099975586 0.0999755859375\n",
      "f16=0.1 f32=0.099975586 f64=0.0999755859375\n",
      "f16=0.1 f32=0.1 f64=0.1\n",
      "False\n"
     ]
    }
   ],
   "source": [
    "f16 = np.float16(\"0.1\")\n",
    "f32 = np.float32(f16)\n",
    "f64 = np.float64(f32)\n",
    "print(f16 == f32 == f64)\n",
    "print(f16, f32, f64)\n",
    "print(f'{f16=} {f32=} {f64=}')\n",
    "\n",
    "f16 = np.float16(\"0.1\")\n",
    "f32 = np.float32(\"0.1\")\n",
    "f64 = np.float64(\"0.1\")\n",
    "print(f'{f16=} {f32=} {f64=}')\n",
    "print(f16 == f32 == f64)"
   ]
  },
  {
   "cell_type": "markdown",
   "id": "1ad94f32",
   "metadata": {},
   "source": [
    "Из-за этого для сравнения массивов с типом float используют `np.allclose`."
   ]
  },
  {
   "cell_type": "code",
   "execution_count": 10,
   "id": "4fc9bc51",
   "metadata": {},
   "outputs": [
    {
     "name": "stdout",
     "output_type": "stream",
     "text": [
      "False\n",
      "True\n"
     ]
    }
   ],
   "source": [
    "print(np.allclose([1e10,1e-7], [1.00001e10,1e-8]))\n",
    "print(np.allclose([1e10,1e-8], [1.00001e10,1e-9]))"
   ]
  },
  {
   "cell_type": "markdown",
   "id": "82f17701",
   "metadata": {},
   "source": [
    "## numpy & linalg fun\n",
    "\n",
    "[Не знаю, что имеется ввиду под \"Матричные трюки\"]\n",
    "\n",
    "[\"вычисление попарных расстояний\" - вроде обычно используется scipy/sklearn?]\n",
    "\n",
    "\n",
    "### Решение системы линейных уравнений\n",
    "\n",
    "Numpy позволяет решить систему линейных уравнений."
   ]
  },
  {
   "cell_type": "code",
   "execution_count": 11,
   "id": "9fbb4675",
   "metadata": {},
   "outputs": [
    {
     "name": "stdout",
     "output_type": "stream",
     "text": [
      "solution=array([ 1.4, -1.2])\n"
     ]
    }
   ],
   "source": [
    "a = np.array([[7, 4], [9, 8]])\n",
    "b = np.array([5, 3])\n",
    "solution = np.linalg.solve(a, b)\n",
    "print(f'{solution=}')"
   ]
  },
  {
   "cell_type": "markdown",
   "id": "e9271c8f",
   "metadata": {},
   "source": [
    "### Обращение матриц.\n",
    "\n",
    "Numpy даёт возможность выполнить операцию обращения матриц."
   ]
  },
  {
   "cell_type": "code",
   "execution_count": 12,
   "id": "6ef79a38",
   "metadata": {},
   "outputs": [
    {
     "name": "stdout",
     "output_type": "stream",
     "text": [
      "inv=array([[-2. ,  1. ],\n",
      "       [ 1.5, -0.5]])\n"
     ]
    }
   ],
   "source": [
    "a = np.array([[1., 2.], [3., 4.]])\n",
    "inv = np.linalg.inv(a)\n",
    "print(f'{inv=}')"
   ]
  },
  {
   "cell_type": "markdown",
   "id": "442cdaa1",
   "metadata": {},
   "source": [
    "### Собственные вектора и числа\n",
    "\n",
    "Вычисление собственных векторов и чисел."
   ]
  },
  {
   "cell_type": "code",
   "execution_count": 13,
   "id": "e0f94dbd",
   "metadata": {},
   "outputs": [
    {
     "name": "stdout",
     "output_type": "stream",
     "text": [
      "(array([1., 2., 3.]), array([[1., 0., 0.],\n",
      "       [0., 1., 0.],\n",
      "       [0., 0., 1.]]))\n"
     ]
    }
   ],
   "source": [
    "print(np.linalg.eig(np.diag((1, 2, 3))))"
   ]
  },
  {
   "cell_type": "markdown",
   "id": "2b79dc44",
   "metadata": {},
   "source": [
    "## Что мы узнали\n",
    "\n",
    "- основы работы с numpy\n",
    "- индексацию в массивах\n",
    "- broadcasting\n",
    "- floating point things\n",
    "- numpy fun"
   ]
  }
 ],
 "metadata": {
  "jupytext": {
   "formats": "md:myst",
   "text_representation": {
    "extension": ".md",
    "format_name": "myst"
   }
  },
  "kernelspec": {
   "display_name": "Python 3",
   "language": "python",
   "name": "python3"
  },
  "language_info": {
   "codemirror_mode": {
    "name": "ipython",
    "version": 3
   },
   "file_extension": ".py",
   "mimetype": "text/x-python",
   "name": "python",
   "nbconvert_exporter": "python",
   "pygments_lexer": "ipython3",
   "version": "3.8.12"
  },
  "source_map": [
   11,
   24,
   35,
   42,
   51,
   58,
   76,
   80,
   96,
   100,
   106,
   110,
   124,
   131,
   136,
   141,
   146,
   169,
   182,
   185,
   188,
   201,
   206,
   212,
   216,
   222,
   224
  ]
 },
 "nbformat": 4,
 "nbformat_minor": 5
}