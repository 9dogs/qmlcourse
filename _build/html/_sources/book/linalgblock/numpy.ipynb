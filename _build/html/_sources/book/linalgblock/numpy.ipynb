{
 "cells": [
  {
   "cell_type": "markdown",
   "id": "be6d030e",
   "metadata": {},
   "source": [
    "(numpy)=\n",
    "# Numpy\n",
    "\n",
    "Широкоиспользуемая библиотека для вычислений с многомерными массивами. API большей частью вдохновлен MATLABом (великая и ужасная среда, язык и IDE для матричных вычислений), а теперь сам является примером для подражания API различных вычислительных пакетов.\n",
    "\n",
    "Более последовательный гайд стоит посмотреть на [оффсайте библиотеки](https://numpy.org/devdocs/user)\n",
    "\n",
    "\n",
    "## Массивы"
   ]
  },
  {
   "cell_type": "code",
   "execution_count": null,
   "id": "49cbc41d",
   "metadata": {},
   "outputs": [],
   "source": [
    "import numpy as np\n",
    "a = np.array([1, 2, 3]) # создадим вектор\n",
    "print(a.shape)\n",
    "b = np.zeros((2, 2)) # создадим матричку 2х2 из нулей\n",
    "c = np.eye(3) # создадим единичную матрицу 3х3\n",
    "q = np.random.random((1, 100)) # случайную вектор-строку"
   ]
  },
  {
   "cell_type": "markdown",
   "id": "a7ca5de4",
   "metadata": {},
   "source": [
    "## Math ops\n",
    "Для удобства использования np.ndarray определены арифметические операторы, так чтобы соответствовать ожиданиям:"
   ]
  },
  {
   "cell_type": "code",
   "execution_count": null,
   "id": "6c0a1db9",
   "metadata": {},
   "outputs": [],
   "source": [
    "a = np.array([1, 2, 3])\n",
    "b = np.array([-1, 3, 4])\n",
    "print(a - b) # разность двух векторов\n",
    "print(a * b) # поэлементное произведение\n",
    "print(a@b)  # скалярное произведение\n"
   ]
  },
  {
   "cell_type": "markdown",
   "id": "41ed8493",
   "metadata": {},
   "source": [
    "## Indexing, slicing and sugar\n",
    "\n",
    "Numpy поддерживает кажется все разумные варианты индексации:"
   ]
  },
  {
   "cell_type": "code",
   "execution_count": null,
   "id": "e0e49126",
   "metadata": {},
   "outputs": [],
   "source": [
    "a = np.arange(16).reshape(4, 4)\n",
    "# у нас есть массив 4х4 с числами 1..16\n",
    "\n",
    "# просто по индексам\n",
    "print(\"a_{0,1}\", a[0, 1], a[0][1])\n",
    "\n",
    "# по слайсам\n",
    "print(\"a_{1,1..3}\", a[0, 1:3])\n",
    "print(\"a_{2}\", a[2], a[2, :], a[2, ...])\n",
    "\n",
    "# по маске\n",
    "mask = (a % 3 == 0) # mask.shape == (4, 4)\n",
    "print(a[mask])\n",
    "\n",
    "first_rows = np.array([True, True, False, False])\n",
    "print(a[first_rows])"
   ]
  },
  {
   "cell_type": "markdown",
   "id": "66d86c1a",
   "metadata": {},
   "source": [
    "Для работы с размерностями часто используются еще три конструкции: `None`, `...` (ellipsis, многоточие) и `:` (двоеточие)."
   ]
  },
  {
   "cell_type": "code",
   "execution_count": null,
   "id": "4bbade85",
   "metadata": {},
   "outputs": [],
   "source": [
    "# None добавляет ось размерности 1\n",
    "print(a.shape)\n",
    "print(a[None].shape)\n",
    "print(a[:, :, None].shape)\n",
    "\n",
    "# : превращается в слайс slice(None), берет все элементы вдоль размерности\n",
    "print(a[2, :])\n",
    "print(a[2, 0:None])\n",
    "\n",
    "\n",
    "# ... ellipsis, превращается в необходимое число двоеточий :,:,:\n",
    "\n",
    "print(a[...], a) # одно и то же\n",
    "\n",
    "z = np.arange(27).reshape(3, 3, 3)\n",
    "print(z[0, ..., 1], z[0, :, 1]) # ... удобен когда мы не знаем настоящий шейп массива или нужно не трогать несколько подряд идущих размерностей"
   ]
  },
  {
   "cell_type": "markdown",
   "id": "266720d9",
   "metadata": {},
   "source": [
    "В целом, в numpy очень здорово реализованы методы `__getitem__`/`__setitem__`. [нужна ли эта фраза?]\n",
    "\n",
    "Кроме того, мы можем делать индексацию по заданному условию с помощью `np.where`"
   ]
  },
  {
   "cell_type": "code",
   "execution_count": null,
   "id": "9c4e6e44",
   "metadata": {},
   "outputs": [],
   "source": [
    "# создадим вектор\n",
    "a = np.array([2, 4, 6, 8])\n",
    "print(np.where(a < 5)\n",
    "\n",
    "# дополнительно мы можем передать два значения или вектора, при выполнении условия выбираются элементы из первого значения/вектора, при невыполнении - из второго\n",
    "print(np.where(a < 5, 2, a * 2)\n",
    "\n",
    "# np.where работает и с многомерными массивами\n",
    "a = np.array([[8, 8, 2, 6], [0, 5, 3, 4]])\n",
    "print(np.where(a < 4, a, 1))"
   ]
  },
  {
   "cell_type": "markdown",
   "id": "48844b9c",
   "metadata": {},
   "source": [
    "## Broadcasting\n",
    "\n",
    "Что происходит, если мы хотим арифметику с массивами разных размеров?"
   ]
  },
  {
   "cell_type": "code",
   "execution_count": null,
   "id": "33d05fa9",
   "metadata": {},
   "outputs": [],
   "source": [
    "a = np.array([1, 2, 3])\n",
    "k = 2\n",
    "print(a * k)"
   ]
  },
  {
   "cell_type": "markdown",
   "id": "1ab3857b",
   "metadata": {},
   "source": [
    "С точки зрения математики, ничего интересного тут не происходит: мы подразумевали умножение всего вектора на скаляр.\n",
    "Однако матричные операции в numpy справляются и менее очевидными случаями, например при сложении вектора и скаляра:"
   ]
  },
  {
   "cell_type": "code",
   "execution_count": null,
   "id": "27c3b55a",
   "metadata": {},
   "outputs": [],
   "source": [
    "a = np.array([1, 2, 3])\n",
    "k = 2\n",
    "print(a - k)"
   ]
  },
  {
   "cell_type": "markdown",
   "id": "1bb4fe36",
   "metadata": {},
   "source": [
    "В numpy приняты следующие правила работы с массивами разного размера:\n",
    "\n",
    "1. Размерности сравниваются справа налево\n",
    "2. Два массива совместимы в размерности, если она одинаковая, либо у одного из массивов единичная.\n",
    "3. Вдоль отсутствующих размерностей происходит расширение повторением (repeat).\n",
    "\n",
    "TODO: нарисовать картинку!\n",
    "[Уточните, пожалуйста, правильную ли я картинку нашёл]\n",
    "![.](https://i.stack.imgur.com/JcKv1.png)\n",
    "\n",
    "https://mathematica.stackexchange.com/questions/99171/how-to-implement-the-general-array-broadcasting-method-from-numpy\n",
    "\n",
    "Be aware, автоматический броадкастинг легко приводит к ошибкам, так что лучше делать его самостоятельно в явной форме.\n",
    "\n",
    "\n",
    "## floating point things\n",
    "\n",
    "Отдельно стоит поговорить про числа с плавающей точкой.\n",
    "Число с плавающей запятой (или число с плавающей точкой) — экспоненциальная форма представления вещественных (действительных) чисел, в которой число хранится в виде мантиссы и порядка (показателя степени). При этом число с плавающей запятой имеет фиксированную относительную точность и изменяющуюся абсолютную. \n",
    "В результате, одно и то же значение может выглядеть по-разному, если хранить его с разной точностью."
   ]
  },
  {
   "cell_type": "code",
   "execution_count": null,
   "id": "284b08bf",
   "metadata": {},
   "outputs": [],
   "source": [
    "f16 = np.float16(\"0.1\")\n",
    "f32 = np.float32(f16)\n",
    "f64 = np.float64(f32)\n",
    "print(f16 == f32 == f64) # returns True\n",
    "print(f16, f32, f64) # shows (0.1, 0.099975586, 0.0999755859375)\n",
    "\n",
    "\n",
    "f16 = np.float16(\"0.1\")\n",
    "f32 = np.float32(\"0.1\")\n",
    "f64 = np.float64(\"0.1\")\n",
    "print(f16, f32, f64) # look similar\n",
    "print(f16 == f32 == f64) # returns false\n"
   ]
  },
  {
   "cell_type": "markdown",
   "id": "d811288c",
   "metadata": {},
   "source": [
    "Из-за этого для сравнения массивов с типом float используют `np.allclose`."
   ]
  },
  {
   "cell_type": "code",
   "execution_count": null,
   "id": "416be679",
   "metadata": {},
   "outputs": [],
   "source": [
    "print(np.allclose([1e10,1e-7], [1.00001e10,1e-8])) # returns False\n",
    "print(np.allclose([1e10,1e-8], [1.00001e10,1e-9])) # returns True"
   ]
  },
  {
   "cell_type": "markdown",
   "id": "d003efe8",
   "metadata": {},
   "source": [
    "## numpy & linalg fun\n",
    "\n",
    "[Не знаю, что имеется ввиду под \"Матричные трюки\"]\n",
    "\n",
    "[\"вычисление попарных расстояний\" - вроде обычно используется scipy/sklearn?]\n",
    "\n",
    "\n",
    "### Решение системы линейных уравнений\n",
    "\n",
    "Numpy позволяет решить систему линейных уравнений."
   ]
  },
  {
   "cell_type": "code",
   "execution_count": null,
   "id": "177bbfdb",
   "metadata": {},
   "outputs": [],
   "source": [
    "a = np.array([[7, 4], [9, 8]])\n",
    "b = np.array([5, 3])\n",
    "print(np.linalg.solve(a, b)) # array([ 1.4, -1.2])"
   ]
  },
  {
   "cell_type": "markdown",
   "id": "c7b86376",
   "metadata": {},
   "source": [
    "### Обращение матриц.\n",
    "\n",
    "Numpy даёт возможность выполнить операцию обращения матриц."
   ]
  },
  {
   "cell_type": "code",
   "execution_count": null,
   "id": "c1ee6681",
   "metadata": {},
   "outputs": [],
   "source": [
    "a = np.array([[1., 2.], [3., 4.]])\n",
    "print(numpy.linalg.inv(a)) # array([[-2. ,  1. ], [ 1.5, -0.5]])"
   ]
  },
  {
   "cell_type": "markdown",
   "id": "63d2f2a4",
   "metadata": {},
   "source": [
    "### Собственные вектора и числа\n",
    "\n",
    "Вычисление собственных векторов и чисел."
   ]
  },
  {
   "cell_type": "code",
   "execution_count": null,
   "id": "67418d20",
   "metadata": {},
   "outputs": [],
   "source": [
    "print(np.linalg.eig(np.diag((1, 2, 3))))"
   ]
  },
  {
   "cell_type": "markdown",
   "id": "fd58fe46",
   "metadata": {},
   "source": [
    "## Что мы узнали\n",
    "\n",
    "- основы работы с numpy\n",
    "- индексацию в массивах\n",
    "- broadcasting\n",
    "- floating point things\n",
    "- numpy fun"
   ]
  }
 ],
 "metadata": {
  "jupytext": {
   "formats": "md:myst",
   "text_representation": {
    "extension": ".md",
    "format_name": "myst"
   }
  },
  "kernelspec": {
   "display_name": "Python 3",
   "language": "python",
   "name": "python3"
  },
  "source_map": [
   11,
   24,
   31,
   38,
   45,
   52,
   69,
   73,
   90,
   96,
   107,
   114,
   118,
   123,
   127,
   150,
   164,
   167,
   170,
   183,
   187,
   193,
   196,
   202,
   204
  ]
 },
 "nbformat": 4,
 "nbformat_minor": 5
}